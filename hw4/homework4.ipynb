{
 "cells": [
  {
   "cell_type": "markdown",
   "metadata": {},
   "source": [
    "# Homework 4"
   ]
  },
  {
   "cell_type": "markdown",
   "metadata": {},
   "source": [
    "#### [문제 1] 수업 자료에서 제시하고 있는 다음 코드들을 Backend AI로 옮겨 실행하고 각 결과를 Backend AI 내에 잘 정리하여 제시하기"
   ]
  },
  {
   "cell_type": "markdown",
   "metadata": {},
   "source": [
    "##### _01_code/_15_lstm_and_its_application/g_crypto_currency_regression_train_lstm.py"
   ]
  },
  {
   "cell_type": "code",
   "execution_count": 4,
   "metadata": {},
   "outputs": [
    {
     "name": "stdout",
     "output_type": "stream",
     "text": [
      "/data/2_data_server/nlp-05/KOREATECH/2024-2_DL/link_dl\n"
     ]
    }
   ],
   "source": [
    "import torch\n",
    "from torch import nn, optim\n",
    "from torch.utils.data import DataLoader\n",
    "from datetime import datetime\n",
    "import os\n",
    "import wandb\n",
    "from pathlib import Path\n",
    "\n",
    "# BASE_PATH = str(Path(__file__).resolve().parent.parent.parent) # BASE_PATH: /Users/yhhan/git/link_dl\n",
    "BASE_PATH = str(Path.cwd().parent.parent.parent)  # 현재 디렉토리 기준으로 부모 디렉토리 이동\n",
    "print(BASE_PATH)"
   ]
  },
  {
   "cell_type": "code",
   "execution_count": 5,
   "metadata": {},
   "outputs": [],
   "source": [
    "import sys\n",
    "sys.path.append(BASE_PATH)"
   ]
  },
  {
   "cell_type": "code",
   "execution_count": 6,
   "metadata": {},
   "outputs": [],
   "source": [
    "# CURRENT_FILE_PATH = os.path.dirname(os.path.abspath(__file__))\n",
    "CURRENT_FILE_PATH = str(Path.cwd())\n",
    "CHECKPOINT_FILE_PATH = os.path.join(CURRENT_FILE_PATH, \"checkpoints\")\n",
    "\n",
    "if not os.path.isdir(CHECKPOINT_FILE_PATH):\n",
    "  os.makedirs(os.path.join(CURRENT_FILE_PATH, \"checkpoints\"))\n",
    "\n",
    "from _01_code._15_lstm_and_its_application.f_arg_parser import get_parser\n",
    "from _01_code._14_rnn.g_rnn_trainer import RegressionTrainer\n",
    "from _01_code._03_real_world_data_to_tensors.p_cryptocurrency_dataset_dataloader import get_cryptocurrency_data, \\\n",
    "  CryptoCurrencyDataset"
   ]
  },
  {
   "cell_type": "code",
   "execution_count": 54,
   "metadata": {},
   "outputs": [],
   "source": [
    "import pandas as pd\n",
    "\n",
    "def get_cryptocurrency_data(\n",
    "    sequence_size=10,          # 시퀀스 길이 (몇 일치 데이터를 볼지)\n",
    "    validation_size=100,       # 검증 데이터셋 크기\n",
    "    test_size=10,             # 테스트 데이터셋 크기\n",
    "    target_column='Close',     # 예측할 대상 컬럼 (기본값: 종가)\n",
    "    y_normalizer=1.0e7,       # y값 정규화를 위한 스케일링 팩터\n",
    "    is_regression=True        # True: 회귀 문제, False: 분류 문제\n",
    "):\n",
    "    # BASE_PATH 기준으로 비트코인 데이터 파일 경로 설정\n",
    "    # btc_krw_path = os.path.join(BASE_PATH, \"_00_data\", \"k_cryptocurrency\", \"BTC_KRW.csv\")\n",
    "    btc_krw_path = os.path.join(os.getcwd(), \"BTC_KRW.csv\")\n",
    "    df = pd.read_csv(btc_krw_path)\n",
    "    row_size = len(df)\n",
    "    # ['Date', 'Open', 'High', 'Low', 'Close', 'Volume']\n",
    "    date_list = df['Date']\n",
    "\n",
    "    df = df.drop(columns=['Date'])\n",
    "\n",
    "    data_size = row_size - sequence_size\n",
    "    train_size = data_size - (validation_size + test_size)\n",
    "    #################################################################################################\n",
    "\n",
    "    row_cursor = 0\n",
    "\n",
    "    X_train_list = []\n",
    "    y_train_regression_list = []\n",
    "    y_train_classification_list = []\n",
    "    y_train_date = []\n",
    "    for idx in range(0, train_size):\n",
    "        sequence_data = df.iloc[idx: idx + sequence_size].values  # sequence_data.shape: (sequence_size, 5)\n",
    "        X_train_list.append(torch.from_numpy(sequence_data))\n",
    "        y_train_regression_list.append(df.iloc[idx + sequence_size][target_column])\n",
    "        y_train_classification_list.append(\n",
    "        1 if df.iloc[idx + sequence_size][target_column] >= df.iloc[idx + sequence_size - 1][target_column] else 0\n",
    "        )\n",
    "        y_train_date.append(date_list[idx + sequence_size])\n",
    "        row_cursor += 1\n",
    "\n",
    "    X_train = torch.stack(X_train_list, dim=0).to(torch.float)\n",
    "    y_train_regression = torch.tensor(y_train_regression_list, dtype=torch.float32) / y_normalizer\n",
    "    y_train_classification = torch.tensor(y_train_classification_list, dtype=torch.int64)\n",
    "\n",
    "    m = X_train.mean(dim=0, keepdim=True)\n",
    "    s = X_train.std(dim=0, keepdim=True)\n",
    "    X_train = (X_train - m) / s\n",
    "\n",
    "    #################################################################################################\n",
    "\n",
    "    X_validation_list = []\n",
    "    y_validation_regression_list = []\n",
    "    y_validation_classification_list = []\n",
    "    y_validation_date = []\n",
    "    for idx in range(row_cursor, row_cursor + validation_size):\n",
    "        sequence_data = df.iloc[idx: idx + sequence_size].values  # sequence_data.shape: (sequence_size, 5)\n",
    "        X_validation_list.append(torch.from_numpy(sequence_data))\n",
    "        y_validation_regression_list.append(df.iloc[idx + sequence_size][target_column])\n",
    "        y_validation_classification_list.append(\n",
    "        1 if df.iloc[idx + sequence_size][target_column] >= df.iloc[idx + sequence_size - 1][target_column] else 0\n",
    "        )\n",
    "        y_validation_date.append(date_list[idx + sequence_size])\n",
    "        row_cursor += 1\n",
    "\n",
    "    X_validation = torch.stack(X_validation_list, dim=0).to(torch.float)\n",
    "    y_validation_regression = torch.tensor(y_validation_regression_list, dtype=torch.float32) / y_normalizer\n",
    "    y_validation_classification = torch.tensor(y_validation_classification_list, dtype=torch.int64)\n",
    "\n",
    "    X_validation = (X_validation - m) / s\n",
    "    #################################################################################################\n",
    "\n",
    "    X_test_list = []\n",
    "    y_test_regression_list = []\n",
    "    y_test_classification_list = []\n",
    "    y_test_date = []\n",
    "    for idx in range(row_cursor, row_cursor + test_size):\n",
    "        sequence_data = df.iloc[idx: idx + sequence_size].values  # sequence_data.shape: (sequence_size, 5)\n",
    "        X_test_list.append(torch.from_numpy(sequence_data))\n",
    "        y_test_regression_list.append(df.iloc[idx + sequence_size][target_column])\n",
    "        y_test_classification_list.append(\n",
    "        1 if df.iloc[idx + sequence_size][target_column] > df.iloc[idx + sequence_size - 1][target_column] else 0\n",
    "        )\n",
    "        y_test_date.append(date_list[idx + sequence_size])\n",
    "        row_cursor += 1\n",
    "\n",
    "    X_test = torch.stack(X_test_list, dim=0).to(torch.float)\n",
    "    y_test_regression = torch.tensor(y_test_regression_list, dtype=torch.float32) / y_normalizer\n",
    "    y_test_classification = torch.tensor(y_test_classification_list, dtype=torch.int64)\n",
    "\n",
    "    X_test = (X_test - m) / s\n",
    "\n",
    "    if is_regression:\n",
    "        return (\n",
    "        X_train, X_validation, X_test,\n",
    "        y_train_regression, y_validation_regression, y_test_regression,\n",
    "        y_train_date, y_validation_date, y_test_date\n",
    "        )\n",
    "    else:\n",
    "        return (\n",
    "        X_train, X_validation, X_test,\n",
    "        y_train_classification, y_validation_classification, y_test_classification,\n",
    "        y_train_date, y_validation_date, y_test_date\n",
    "        )"
   ]
  },
  {
   "cell_type": "code",
   "execution_count": 8,
   "metadata": {},
   "outputs": [],
   "source": [
    "def get_btc_krw_data(sequence_size=10, validation_size=100, test_size=10, is_regression=True):\n",
    "   # 비트코인 가격 데이터를 학습/검증/테스트 세트로 분리하는 함수\n",
    "   \n",
    "   # 파라미터 설명:\n",
    "   # sequence_size: 입력 시퀀스의 길이 (몇 일치 데이터를 보고 예측할지)\n",
    "   # validation_size: 검증 데이터셋의 크기\n",
    "   # test_size: 테스트 데이터셋의 크기 \n",
    "   # is_regression: True이면 회귀 문제, False이면 분류 문제로 처리\n",
    "\n",
    "   # get_cryptocurrency_data 함수를 호출하여 데이터 분할\n",
    "   X_train, X_validation, X_test, y_train, y_validation, y_test, y_train_date, y_validation_date, y_test_date \\\n",
    "       = get_cryptocurrency_data(\n",
    "           sequence_size=sequence_size,\n",
    "           validation_size=validation_size, \n",
    "           test_size=test_size,\n",
    "           target_column='Close',  # 종가를 예측 타겟으로 사용\n",
    "           y_normalizer=1.0e7,     # y값을 정규화하기 위한 스케일링 팩터\n",
    "           is_regression=is_regression\n",
    "       )\n",
    "\n",
    "   # 반환되는 데이터 형태:\n",
    "   # X_train.shape: [3212, 10, 5] - 3212개 샘플, 각 10일치 시퀀스, 5개 특성\n",
    "   # X_validation.shape: [100, 10, 5] - 100개 검증 샘플\n",
    "   # X_test.shape: [10, 10, 5] - 10개 테스트 샘플\n",
    "   # y_train.shape: [3212] - 각 시퀀스에 대한 타겟값\n",
    "   # y_validation.shape: [100]\n",
    "   # y_test.shape: [10]\n",
    "\n",
    "   # CryptoCurrencyDataset 클래스를 사용하여 PyTorch Dataset 객체 생성\n",
    "   train_crypto_currency_dataset = CryptoCurrencyDataset(X=X_train, y=y_train)\n",
    "   validation_crypto_currency_dataset = CryptoCurrencyDataset(X=X_validation, y=y_validation)\n",
    "   test_crypto_currency_dataset = CryptoCurrencyDataset(X=X_test, y=y_test)\n",
    "\n",
    "   # DataLoader를 사용하여 배치 처리를 위한 이터레이터 생성\n",
    "   train_data_loader = DataLoader(\n",
    "       dataset=train_crypto_currency_dataset, \n",
    "       batch_size=wandb.config.batch_size,  # wandb에 설정된 배치 크기 사용\n",
    "       shuffle=True  # 매 에폭마다 데이터 순서를 섞음\n",
    "   )\n",
    "   \n",
    "   validation_data_loader = DataLoader(\n",
    "       dataset=validation_crypto_currency_dataset,\n",
    "       batch_size=wandb.config.batch_size,\n",
    "       shuffle=True\n",
    "   )\n",
    "   \n",
    "   test_data_loader = DataLoader(\n",
    "       dataset=test_crypto_currency_dataset,\n",
    "       batch_size=len(test_crypto_currency_dataset),  # 테스트는 전체 데이터를 한 번에 처리\n",
    "       shuffle=True\n",
    "   )\n",
    "\n",
    "   # 생성된 DataLoader 객체들 반환\n",
    "   return train_data_loader, validation_data_loader, test_data_loader"
   ]
  },
  {
   "cell_type": "code",
   "execution_count": 9,
   "metadata": {},
   "outputs": [],
   "source": [
    "def get_model():\n",
    "   # LSTM과 FCN을 결합한 시계열 예측 모델 클래스 정의\n",
    "   class MyModel(nn.Module):\n",
    "       def __init__(self, n_input, n_output):\n",
    "           # n_input: 입력 특성의 수 (여기서는 5개: Open, High, Low, Close, Volume 등)\n",
    "           # n_output: 출력값의 수 (여기서는 1개: 다음 날의 종가 예측)\n",
    "           super().__init__()\n",
    "\n",
    "           # LSTM 레이어 정의\n",
    "           self.lstm = nn.LSTM(\n",
    "               input_size=n_input,     # 입력 특성 수\n",
    "               hidden_size=128,        # LSTM의 은닉 상태 크기\n",
    "               num_layers=2,           # LSTM 레이어 수 (2개의 LSTM 레이어를 쌓음)\n",
    "               batch_first=True        # 입력 텐서의 형태가 [batch_size, sequence_length, n_input]\n",
    "           )\n",
    "\n",
    "           # 완전연결층(Fully Connected Layer) 정의\n",
    "           self.fcn = nn.Linear(\n",
    "               in_features=128,        # LSTM의 은닉 상태 크기와 동일\n",
    "               out_features=n_output   # 출력값의 수 (예측값)\n",
    "           )\n",
    "\n",
    "       def forward(self, x):\n",
    "           # x의 예상되는 입력 shape: [batch_size, sequence_length, n_input]\n",
    "           \n",
    "           # LSTM 레이어 통과\n",
    "           # x: LSTM의 출력값, hidden: 마지막 은닉 상태와 셀 상태\n",
    "           x, hidden = self.lstm(x)\n",
    "           # x의 shape: [batch_size, sequence_length, hidden_size]\n",
    "\n",
    "           # 마지막 시점의 출력만 선택\n",
    "           x = x[:, -1, :]  \n",
    "           # x의 shape: [batch_size, hidden_size]\n",
    "           # [:, -1, :]: 모든 배치(-1 인덱스)의 마지막 시점 출력을 선택\n",
    "\n",
    "           # 완전연결층을 통과시켜 최종 예측값 생성\n",
    "           x = self.fcn(x)\n",
    "           # x의 shape: [batch_size, n_output]\n",
    "\n",
    "           return x\n",
    "\n",
    "   # 모델 인스턴스 생성\n",
    "   # n_input=5: 입력 특성 5개\n",
    "   # n_output=1: 예측값 1개 (다음 날의 종가)\n",
    "   my_model = MyModel(n_input=5, n_output=1)\n",
    "\n",
    "   return my_model"
   ]
  },
  {
   "cell_type": "code",
   "execution_count": 10,
   "metadata": {},
   "outputs": [],
   "source": [
    "def main(args):\n",
    "   # 현재 시간을 문자열로 변환하여 실험 구분에 사용\n",
    "   run_time_str = datetime.now().astimezone().strftime('%Y-%m-%d_%H-%M-%S')\n",
    "\n",
    "   # wandb에서 추적할 하이퍼파라미터 설정\n",
    "   config = {\n",
    "       'epochs': args.epochs,                # 총 학습 에폭 수\n",
    "       'batch_size': args.batch_size,        # 배치 크기\n",
    "       'validation_intervals': args.validation_intervals,  # 검증을 수행할 간격\n",
    "       'learning_rate': args.learning_rate,  # 학습률\n",
    "       'early_stop_patience': args.early_stop_patience,  # 조기 종료를 위한 인내심\n",
    "       'early_stop_delta': args.early_stop_delta,        # 조기 종료를 위한 최소 개선값\n",
    "       'weight_decay': args.weight_decay     # L2 정규화 계수\n",
    "   }\n",
    "\n",
    "   # Weights & Biases 초기화\n",
    "   project_name = \"lstm_regression_btc_krw\"\n",
    "   wandb.init(\n",
    "       mode=\"online\" if args.wandb else \"disabled\",  # wandb 사용 여부 설정\n",
    "       project=project_name,                         # 프로젝트 이름\n",
    "       notes=\"btc_krw experiment with lstm\",        # 실험 노트\n",
    "       tags=[\"lstm\", \"regression\", \"btc_krw\"],      # 실험 태그\n",
    "       name=run_time_str,                           # 실험 이름(현재 시간 기반)\n",
    "       config=config                                # 설정된 하이퍼파라미터\n",
    "   )\n",
    "   # 입력 인자와 wandb 설정 출력\n",
    "   print(args)\n",
    "   print(wandb.config)\n",
    "\n",
    "   # 데이터 로더 생성 (테스트 데이터 로더는 현재 사용하지 않음)\n",
    "   train_data_loader, validation_data_loader, _ = get_btc_krw_data()\n",
    "   \n",
    "   # GPU 사용 가능 여부 확인 및 디바이스 설정\n",
    "   device = torch.device(\"cuda:0\" if torch.cuda.is_available() else \"cpu\")\n",
    "   print(f\"Training on device {device}.\")\n",
    "\n",
    "   # 모델 생성 및 지정된 디바이스로 이동\n",
    "   model = get_model()\n",
    "   model.to(device)\n",
    "\n",
    "   # Adam 옵티마이저 설정\n",
    "   # learning_rate와 weight_decay는 wandb config에서 가져옴\n",
    "   optimizer = optim.Adam(\n",
    "       model.parameters(), \n",
    "       lr=wandb.config.learning_rate, \n",
    "       weight_decay=wandb.config.weight_decay\n",
    "   )\n",
    "\n",
    "   # 회귀 학습을 위한 트레이너 객체 생성\n",
    "   regression_trainer = RegressionTrainer(\n",
    "       project_name,              # 프로젝트 이름\n",
    "       model,                     # 학습할 모델\n",
    "       optimizer,                 # 옵티마이저\n",
    "       train_data_loader,         # 학습 데이터 로더\n",
    "       validation_data_loader,    # 검증 데이터 로더\n",
    "       None,                      # 테스트 데이터 로더(사용하지 않음)\n",
    "       run_time_str,             # 실험 구분을 위한 시간 문자열\n",
    "       wandb,                     # wandb 객체\n",
    "       device,                    # 학습 디바이스\n",
    "       CHECKPOINT_FILE_PATH       # 체크포인트 저장 경로\n",
    "   )\n",
    "   \n",
    "   # 학습 실행\n",
    "   regression_trainer.train_loop()\n",
    "\n",
    "   # wandb 실험 종료\n",
    "   wandb.finish()"
   ]
  },
  {
   "cell_type": "code",
   "execution_count": 11,
   "metadata": {},
   "outputs": [
    {
     "name": "stderr",
     "output_type": "stream",
     "text": [
      "\u001b[34m\u001b[1mwandb\u001b[0m: Using wandb-core as the SDK backend.  Please refer to https://wandb.me/wandb-core for more information.\n"
     ]
    },
    {
     "name": "stderr",
     "output_type": "stream",
     "text": [
      "\u001b[34m\u001b[1mwandb\u001b[0m: Currently logged in as: \u001b[33mchosuyeon\u001b[0m (\u001b[33mchosuyeon-korea-university-of-technology-and-education\u001b[0m). Use \u001b[1m`wandb login --relogin`\u001b[0m to force relogin\n"
     ]
    },
    {
     "data": {
      "text/html": [
       "Tracking run with wandb version 0.19.1"
      ],
      "text/plain": [
       "<IPython.core.display.HTML object>"
      ]
     },
     "metadata": {},
     "output_type": "display_data"
    },
    {
     "data": {
      "text/html": [
       "Run data is saved locally in <code>/data/2_data_server/nlp-05/KOREATECH/2024-2_DL/link_dl/_03_your_code/CSE533/hw4/wandb/run-20241220_213159-kd0kjlm2</code>"
      ],
      "text/plain": [
       "<IPython.core.display.HTML object>"
      ]
     },
     "metadata": {},
     "output_type": "display_data"
    },
    {
     "data": {
      "text/html": [
       "Syncing run <strong><a href='https://wandb.ai/chosuyeon-korea-university-of-technology-and-education/lstm_regression_btc_krw/runs/kd0kjlm2' target=\"_blank\">2024-12-20_21-31-58</a></strong> to <a href='https://wandb.ai/chosuyeon-korea-university-of-technology-and-education/lstm_regression_btc_krw' target=\"_blank\">Weights & Biases</a> (<a href='https://wandb.me/developer-guide' target=\"_blank\">docs</a>)<br>"
      ],
      "text/plain": [
       "<IPython.core.display.HTML object>"
      ]
     },
     "metadata": {},
     "output_type": "display_data"
    },
    {
     "data": {
      "text/html": [
       " View project at <a href='https://wandb.ai/chosuyeon-korea-university-of-technology-and-education/lstm_regression_btc_krw' target=\"_blank\">https://wandb.ai/chosuyeon-korea-university-of-technology-and-education/lstm_regression_btc_krw</a>"
      ],
      "text/plain": [
       "<IPython.core.display.HTML object>"
      ]
     },
     "metadata": {},
     "output_type": "display_data"
    },
    {
     "data": {
      "text/html": [
       " View run at <a href='https://wandb.ai/chosuyeon-korea-university-of-technology-and-education/lstm_regression_btc_krw/runs/kd0kjlm2' target=\"_blank\">https://wandb.ai/chosuyeon-korea-university-of-technology-and-education/lstm_regression_btc_krw/runs/kd0kjlm2</a>"
      ],
      "text/plain": [
       "<IPython.core.display.HTML object>"
      ]
     },
     "metadata": {},
     "output_type": "display_data"
    },
    {
     "name": "stdout",
     "output_type": "stream",
     "text": [
      "Namespace(wandb=True, batch_size=2048, epochs=10000, learning_rate=0.0001, weight_decay=0.0, validation_intervals=30, early_stop_patience=30, early_stop_delta=1e-06)\n",
      "{'epochs': 10000, 'batch_size': 2048, 'validation_intervals': 30, 'learning_rate': 0.0001, 'early_stop_patience': 30, 'early_stop_delta': 1e-06, 'weight_decay': 0.0}\n",
      "Training on device cuda:0.\n",
      "[Epoch   1] T_loss: 10.35280, V_loss: 80.13316, Early stopping is stated! | T_time: 00:00:00, T_speed: 0.004\n",
      "[Epoch  30] T_loss: 6.55852, V_loss: 50.38114, V_loss decreased (80.13316 --> 50.38114). Saving model... | T_time: 00:00:01, T_speed: 0.407\n",
      "[Epoch  60] T_loss: 0.72139, V_loss: 11.70491, V_loss decreased (50.38114 --> 11.70491). Saving model... | T_time: 00:00:01, T_speed: 0.068\n",
      "[Epoch  90] T_loss: 0.37704, V_loss: 7.67111, V_loss decreased (11.70491 --> 7.67111). Saving model... | T_time: 00:00:02, T_speed: 0.114\n",
      "[Epoch 120] T_loss: 0.25764, V_loss: 5.39041, V_loss decreased (7.67111 --> 5.39041). Saving model... | T_time: 00:00:03, T_speed: 0.181\n",
      "[Epoch 150] T_loss: 0.18245, V_loss: 4.09125, V_loss decreased (5.39041 --> 4.09125). Saving model... | T_time: 00:00:04, T_speed: 0.274\n",
      "[Epoch 180] T_loss: 0.12775, V_loss: 3.12564, V_loss decreased (4.09125 --> 3.12564). Saving model... | T_time: 00:00:05, T_speed: 0.580\n",
      "[Epoch 210] T_loss: 0.09307, V_loss: 2.47327, V_loss decreased (3.12564 --> 2.47327). Saving model... | T_time: 00:00:06, T_speed: 0.750\n",
      "[Epoch 240] T_loss: 0.07509, V_loss: 2.11835, V_loss decreased (2.47327 --> 2.11835). Saving model... | T_time: 00:00:07, T_speed: 4.044\n",
      "[Epoch 270] T_loss: 0.06639, V_loss: 1.90404, V_loss decreased (2.11835 --> 1.90404). Saving model... | T_time: 00:00:07, T_speed: 0.287\n",
      "[Epoch 300] T_loss: 0.05932, V_loss: 1.76305, V_loss decreased (1.90404 --> 1.76305). Saving model... | T_time: 00:00:08, T_speed: 0.404\n",
      "[Epoch 330] T_loss: 0.05571, V_loss: 1.65849, V_loss decreased (1.76305 --> 1.65849). Saving model... | T_time: 00:00:09, T_speed: 0.542\n",
      "[Epoch 360] T_loss: 0.05217, V_loss: 1.58070, V_loss decreased (1.65849 --> 1.58070). Saving model... | T_time: 00:00:10, T_speed: 0.985\n",
      "[Epoch 390] T_loss: 0.04981, V_loss: 1.51156, V_loss decreased (1.58070 --> 1.51156). Saving model... | T_time: 00:00:11, T_speed: 1.639\n",
      "[Epoch 420] T_loss: 0.04750, V_loss: 1.46571, V_loss decreased (1.51156 --> 1.46571). Saving model... | T_time: 00:00:12, T_speed: 19.941\n",
      "[Epoch 450] T_loss: 0.04520, V_loss: 1.41925, V_loss decreased (1.46571 --> 1.41925). Saving model... | T_time: 00:00:12, T_speed: 0.487\n",
      "[Epoch 480] T_loss: 0.04357, V_loss: 1.38225, V_loss decreased (1.41925 --> 1.38225). Saving model... | T_time: 00:00:13, T_speed: 0.633\n",
      "[Epoch 510] T_loss: 0.04148, V_loss: 1.34334, V_loss decreased (1.38225 --> 1.34334). Saving model... | T_time: 00:00:14, T_speed: 0.765\n",
      "[Epoch 540] T_loss: 0.03991, V_loss: 1.30999, V_loss decreased (1.34334 --> 1.30999). Saving model... | T_time: 00:00:15, T_speed: 1.127\n",
      "[Epoch 570] T_loss: 0.03746, V_loss: 1.27615, V_loss decreased (1.30999 --> 1.27615). Saving model... | T_time: 00:00:16, T_speed: 1.350\n",
      "[Epoch 600] T_loss: 0.03647, V_loss: 1.24487, V_loss decreased (1.27615 --> 1.24487). Saving model... | T_time: 00:00:17, T_speed: 2.263\n",
      "[Epoch 630] T_loss: 0.03375, V_loss: 1.21373, V_loss decreased (1.24487 --> 1.21373). Saving model... | T_time: 00:00:18, T_speed: 3.639\n",
      "[Epoch 660] T_loss: 0.03340, V_loss: 1.18490, V_loss decreased (1.21373 --> 1.18490). Saving model... | T_time: 00:00:18, T_speed: 0.697\n",
      "[Epoch 690] T_loss: 0.03182, V_loss: 1.15668, V_loss decreased (1.18490 --> 1.15668). Saving model... | T_time: 00:00:19, T_speed: 0.834\n",
      "[Epoch 720] T_loss: 0.03067, V_loss: 1.13177, V_loss decreased (1.15668 --> 1.13177). Saving model... | T_time: 00:00:20, T_speed: 1.204\n",
      "[Epoch 750] T_loss: 0.02987, V_loss: 1.10803, V_loss decreased (1.13177 --> 1.10803). Saving model... | T_time: 00:00:21, T_speed: 1.546\n",
      "[Epoch 780] T_loss: 0.02901, V_loss: 1.08263, V_loss decreased (1.10803 --> 1.08263). Saving model... | T_time: 00:00:22, T_speed: 3.272\n",
      "[Epoch 810] T_loss: 0.02844, V_loss: 1.05897, V_loss decreased (1.08263 --> 1.05897). Saving model... | T_time: 00:00:23, T_speed: 7.276\n",
      "[Epoch 840] T_loss: 0.02769, V_loss: 1.03800, V_loss decreased (1.05897 --> 1.03800). Saving model... | T_time: 00:00:23, T_speed: 0.982\n",
      "[Epoch 870] T_loss: 0.02738, V_loss: 1.01853, V_loss decreased (1.03800 --> 1.01853). Saving model... | T_time: 00:00:24, T_speed: 1.163\n",
      "[Epoch 900] T_loss: 0.02637, V_loss: 0.99340, V_loss decreased (1.01853 --> 0.99340). Saving model... | T_time: 00:00:25, T_speed: 1.725\n",
      "[Epoch 930] T_loss: 0.02605, V_loss: 0.97382, V_loss decreased (0.99340 --> 0.97382). Saving model... | T_time: 00:00:26, T_speed: 1.984\n",
      "[Epoch 960] T_loss: 0.02555, V_loss: 0.95178, V_loss decreased (0.97382 --> 0.95178). Saving model... | T_time: 00:00:27, T_speed: 3.690\n",
      "[Epoch 990] T_loss: 0.02475, V_loss: 0.93252, V_loss decreased (0.95178 --> 0.93252). Saving model... | T_time: 00:00:28, T_speed: 6.608\n",
      "[Epoch 1020] T_loss: 0.02385, V_loss: 0.91207, V_loss decreased (0.93252 --> 0.91207). Saving model... | T_time: 00:00:28, T_speed: 1.082\n",
      "[Epoch 1050] T_loss: 0.02349, V_loss: 0.89170, V_loss decreased (0.91207 --> 0.89170). Saving model... | T_time: 00:00:29, T_speed: 1.301\n",
      "[Epoch 1080] T_loss: 0.02291, V_loss: 0.87482, V_loss decreased (0.89170 --> 0.87482). Saving model... | T_time: 00:00:30, T_speed: 1.822\n",
      "[Epoch 1110] T_loss: 0.02225, V_loss: 0.85265, V_loss decreased (0.87482 --> 0.85265). Saving model... | T_time: 00:00:31, T_speed: 2.462\n",
      "[Epoch 1140] T_loss: 0.02175, V_loss: 0.83514, V_loss decreased (0.85265 --> 0.83514). Saving model... | T_time: 00:00:32, T_speed: 4.992\n",
      "[Epoch 1170] T_loss: 0.02135, V_loss: 0.82090, V_loss decreased (0.83514 --> 0.82090). Saving model... | T_time: 00:00:33, T_speed: 11.374\n",
      "[Epoch 1200] T_loss: 0.02059, V_loss: 0.79909, V_loss decreased (0.82090 --> 0.79909). Saving model... | T_time: 00:00:33, T_speed: 1.373\n",
      "[Epoch 1230] T_loss: 0.02006, V_loss: 0.78741, V_loss decreased (0.79909 --> 0.78741). Saving model... | T_time: 00:00:34, T_speed: 1.658\n",
      "[Epoch 1260] T_loss: 0.02007, V_loss: 0.76720, V_loss decreased (0.78741 --> 0.76720). Saving model... | T_time: 00:00:35, T_speed: 2.360\n",
      "[Epoch 1290] T_loss: 0.01972, V_loss: 0.75301, V_loss decreased (0.76720 --> 0.75301). Saving model... | T_time: 00:00:36, T_speed: 3.133\n",
      "[Epoch 1320] T_loss: 0.01920, V_loss: 0.73262, V_loss decreased (0.75301 --> 0.73262). Saving model... | T_time: 00:00:37, T_speed: 7.561\n",
      "[Epoch 1350] T_loss: 0.01913, V_loss: 0.72450, V_loss decreased (0.73262 --> 0.72450). Saving model... | T_time: 00:00:38, T_speed: 11.035\n",
      "[Epoch 1380] T_loss: 0.01856, V_loss: 0.70835, V_loss decreased (0.72450 --> 0.70835). Saving model... | T_time: 00:00:38, T_speed: 1.487\n",
      "[Epoch 1410] T_loss: 0.01835, V_loss: 0.69400, V_loss decreased (0.70835 --> 0.69400). Saving model... | T_time: 00:00:39, T_speed: 1.764\n",
      "[Epoch 1440] T_loss: 0.01806, V_loss: 0.68485, V_loss decreased (0.69400 --> 0.68485). Saving model... | T_time: 00:00:40, T_speed: 2.421\n",
      "[Epoch 1470] T_loss: 0.01830, V_loss: 0.67327, V_loss decreased (0.68485 --> 0.67327). Saving model... | T_time: 00:00:41, T_speed: 3.035\n",
      "[Epoch 1500] T_loss: 0.01782, V_loss: 0.66374, V_loss decreased (0.67327 --> 0.66374). Saving model... | T_time: 00:00:42, T_speed: 5.760\n",
      "[Epoch 1530] T_loss: 0.01774, V_loss: 0.65305, V_loss decreased (0.66374 --> 0.65305). Saving model... | T_time: 00:00:43, T_speed: 11.343\n",
      "[Epoch 1560] T_loss: 0.01725, V_loss: 0.64452, V_loss decreased (0.65305 --> 0.64452). Saving model... | T_time: 00:00:43, T_speed: 1.614\n",
      "[Epoch 1590] T_loss: 0.01713, V_loss: 0.63514, V_loss decreased (0.64452 --> 0.63514). Saving model... | T_time: 00:00:44, T_speed: 1.883\n",
      "[Epoch 1620] T_loss: 0.01672, V_loss: 0.62482, V_loss decreased (0.63514 --> 0.62482). Saving model... | T_time: 00:00:45, T_speed: 2.576\n",
      "[Epoch 1650] T_loss: 0.01660, V_loss: 0.61572, V_loss decreased (0.62482 --> 0.61572). Saving model... | T_time: 00:00:46, T_speed: 2.835\n",
      "[Epoch 1680] T_loss: 0.01636, V_loss: 0.60643, V_loss decreased (0.61572 --> 0.60643). Saving model... | T_time: 00:00:47, T_speed: 4.572\n",
      "[Epoch 1710] T_loss: 0.01631, V_loss: 0.59886, V_loss decreased (0.60643 --> 0.59886). Saving model... | T_time: 00:00:48, T_speed: 7.512\n",
      "[Epoch 1740] T_loss: 0.01621, V_loss: 0.59104, V_loss decreased (0.59886 --> 0.59104). Saving model... | T_time: 00:00:48, T_speed: 1.747\n",
      "[Epoch 1770] T_loss: 0.01590, V_loss: 0.58440, V_loss decreased (0.59104 --> 0.58440). Saving model... | T_time: 00:00:49, T_speed: 2.054\n",
      "[Epoch 1800] T_loss: 0.01566, V_loss: 0.57604, V_loss decreased (0.58440 --> 0.57604). Saving model... | T_time: 00:00:50, T_speed: 2.948\n",
      "[Epoch 1830] T_loss: 0.01556, V_loss: 0.56940, V_loss decreased (0.57604 --> 0.56940). Saving model... | T_time: 00:00:51, T_speed: 3.989\n",
      "[Epoch 1860] T_loss: 0.01547, V_loss: 0.56294, V_loss decreased (0.56940 --> 0.56294). Saving model... | T_time: 00:00:52, T_speed: 8.780\n",
      "[Epoch 1890] T_loss: 0.01509, V_loss: 0.55446, V_loss decreased (0.56294 --> 0.55446). Saving model... | T_time: 00:00:53, T_speed: 19.968\n",
      "[Epoch 1920] T_loss: 0.01498, V_loss: 0.54759, V_loss decreased (0.55446 --> 0.54759). Saving model... | T_time: 00:00:53, T_speed: 2.180\n",
      "[Epoch 1950] T_loss: 0.01491, V_loss: 0.54078, V_loss decreased (0.54759 --> 0.54078). Saving model... | T_time: 00:00:54, T_speed: 2.634\n",
      "[Epoch 1980] T_loss: 0.01453, V_loss: 0.53223, V_loss decreased (0.54078 --> 0.53223). Saving model... | T_time: 00:00:55, T_speed: 4.038\n",
      "[Epoch 2010] T_loss: 0.01463, V_loss: 0.52956, V_loss decreased (0.53223 --> 0.52956). Saving model... | T_time: 00:00:56, T_speed: 5.694\n",
      "[Epoch 2040] T_loss: 0.01398, V_loss: 0.52189, V_loss decreased (0.52956 --> 0.52189). Saving model... | T_time: 00:00:57, T_speed: 11.282\n",
      "[Epoch 2070] T_loss: 0.01420, V_loss: 0.51545, V_loss decreased (0.52189 --> 0.51545). Saving model... | T_time: 00:00:58, T_speed: 35.852\n",
      "[Epoch 2100] T_loss: 0.01410, V_loss: 0.51379, V_loss decreased (0.51545 --> 0.51379). Saving model... | T_time: 00:00:58, T_speed: 2.586\n",
      "[Epoch 2130] T_loss: 0.01386, V_loss: 0.50427, V_loss decreased (0.51379 --> 0.50427). Saving model... | T_time: 00:00:59, T_speed: 2.966\n",
      "[Epoch 2160] T_loss: 0.01369, V_loss: 0.49866, V_loss decreased (0.50427 --> 0.49866). Saving model... | T_time: 00:01:00, T_speed: 4.087\n",
      "[Epoch 2190] T_loss: 0.01368, V_loss: 0.49195, V_loss decreased (0.49866 --> 0.49195). Saving model... | T_time: 00:01:01, T_speed: 5.408\n",
      "[Epoch 2220] T_loss: 0.01356, V_loss: 0.48865, V_loss decreased (0.49195 --> 0.48865). Saving model... | T_time: 00:01:02, T_speed: 12.177\n",
      "[Epoch 2250] T_loss: 0.01346, V_loss: 0.48325, V_loss decreased (0.48865 --> 0.48325). Saving model... | T_time: 00:01:03, T_speed: 45.310\n",
      "[Epoch 2280] T_loss: 0.01329, V_loss: 0.47961, V_loss decreased (0.48325 --> 0.47961). Saving model... | T_time: 00:01:03, T_speed: 2.615\n",
      "[Epoch 2310] T_loss: 0.01304, V_loss: 0.47637, V_loss decreased (0.47961 --> 0.47637). Saving model... | T_time: 00:01:04, T_speed: 3.131\n",
      "[Epoch 2340] T_loss: 0.01295, V_loss: 0.47869, Early stopping counter: 1 out of 30 | T_time: 00:01:05, T_speed: 4.512\n",
      "[Epoch 2370] T_loss: 0.01301, V_loss: 0.46927, V_loss decreased (0.47637 --> 0.46927). Saving model... | T_time: 00:01:06, T_speed: 7.012\n",
      "[Epoch 2400] T_loss: 0.01292, V_loss: 0.46171, V_loss decreased (0.46927 --> 0.46171). Saving model... | T_time: 00:01:07, T_speed: 21.764\n",
      "[Epoch 2430] T_loss: 0.01264, V_loss: 0.45857, V_loss decreased (0.46171 --> 0.45857). Saving model... | T_time: 00:01:07, T_speed: 2.470\n",
      "[Epoch 2460] T_loss: 0.01265, V_loss: 0.45396, V_loss decreased (0.45857 --> 0.45396). Saving model... | T_time: 00:01:08, T_speed: 3.263\n",
      "[Epoch 2490] T_loss: 0.01265, V_loss: 0.45031, V_loss decreased (0.45396 --> 0.45031). Saving model... | T_time: 00:01:09, T_speed: 3.898\n",
      "[Epoch 2520] T_loss: 0.01242, V_loss: 0.44925, V_loss decreased (0.45031 --> 0.44925). Saving model... | T_time: 00:01:10, T_speed: 5.583\n",
      "[Epoch 2550] T_loss: 0.01251, V_loss: 0.44586, V_loss decreased (0.44925 --> 0.44586). Saving model... | T_time: 00:01:11, T_speed: 6.858\n",
      "[Epoch 2580] T_loss: 0.01237, V_loss: 0.44104, V_loss decreased (0.44586 --> 0.44104). Saving model... | T_time: 00:01:12, T_speed: 18.660\n",
      "[Epoch 2610] T_loss: 0.01221, V_loss: 0.43814, V_loss decreased (0.44104 --> 0.43814). Saving model... | T_time: 00:01:13, T_speed: 82.288\n",
      "[Epoch 2640] T_loss: 0.01212, V_loss: 0.43658, V_loss decreased (0.43814 --> 0.43658). Saving model... | T_time: 00:01:13, T_speed: 3.127\n",
      "[Epoch 2670] T_loss: 0.01207, V_loss: 0.43619, V_loss decreased (0.43658 --> 0.43619). Saving model... | T_time: 00:01:14, T_speed: 3.588\n",
      "[Epoch 2700] T_loss: 0.01217, V_loss: 0.42979, V_loss decreased (0.43619 --> 0.42979). Saving model... | T_time: 00:01:15, T_speed: 5.384\n",
      "[Epoch 2730] T_loss: 0.01224, V_loss: 0.43252, Early stopping counter: 1 out of 30 | T_time: 00:01:16, T_speed: 6.715\n",
      "[Epoch 2760] T_loss: 0.01194, V_loss: 0.42706, V_loss decreased (0.42979 --> 0.42706). Saving model... | T_time: 00:01:17, T_speed: 21.964\n",
      "[Epoch 2790] T_loss: 0.01210, V_loss: 0.42311, V_loss decreased (0.42706 --> 0.42311). Saving model... | T_time: 00:01:18, T_speed: 3414.933\n",
      "[Epoch 2820] T_loss: 0.01189, V_loss: 0.42202, V_loss decreased (0.42311 --> 0.42202). Saving model... | T_time: 00:01:18, T_speed: 3.748\n",
      "[Epoch 2850] T_loss: 0.01168, V_loss: 0.42095, V_loss decreased (0.42202 --> 0.42095). Saving model... | T_time: 00:01:19, T_speed: 4.349\n",
      "[Epoch 2880] T_loss: 0.01146, V_loss: 0.42041, V_loss decreased (0.42095 --> 0.42041). Saving model... | T_time: 00:01:20, T_speed: 6.989\n",
      "[Epoch 2910] T_loss: 0.01157, V_loss: 0.41902, V_loss decreased (0.42041 --> 0.41902). Saving model... | T_time: 00:01:21, T_speed: 8.140\n",
      "[Epoch 2940] T_loss: 0.01154, V_loss: 0.42108, Early stopping counter: 1 out of 30 | T_time: 00:01:22, T_speed: 20.409\n",
      "[Epoch 2970] T_loss: 0.01171, V_loss: 0.41568, V_loss decreased (0.41902 --> 0.41568). Saving model... | T_time: 00:01:22, T_speed: 3.030\n",
      "[Epoch 3000] T_loss: 0.01146, V_loss: 0.42030, Early stopping counter: 1 out of 30 | T_time: 00:01:23, T_speed: 3.831\n",
      "[Epoch 3030] T_loss: 0.01143, V_loss: 0.41364, V_loss decreased (0.41568 --> 0.41364). Saving model... | T_time: 00:01:24, T_speed: 4.893\n",
      "[Epoch 3060] T_loss: 0.01117, V_loss: 0.41437, Early stopping counter: 1 out of 30 | T_time: 00:01:25, T_speed: 8.237\n",
      "[Epoch 3090] T_loss: 0.01113, V_loss: 0.41498, Early stopping counter: 2 out of 30 | T_time: 00:01:26, T_speed: 15.676\n",
      "[Epoch 3120] T_loss: 0.01114, V_loss: 0.41735, Early stopping counter: 3 out of 30 | T_time: 00:01:26, T_speed: 3.402\n",
      "[Epoch 3150] T_loss: 0.01130, V_loss: 0.41707, Early stopping counter: 4 out of 30 | T_time: 00:01:27, T_speed: 4.248\n",
      "[Epoch 3180] T_loss: 0.01112, V_loss: 0.41328, V_loss decreased (0.41364 --> 0.41328). Saving model... | T_time: 00:01:28, T_speed: 6.648\n",
      "[Epoch 3210] T_loss: 0.01121, V_loss: 0.41467, Early stopping counter: 1 out of 30 | T_time: 00:01:29, T_speed: 9.276\n",
      "[Epoch 3240] T_loss: 0.01101, V_loss: 0.41718, Early stopping counter: 2 out of 30 | T_time: 00:01:30, T_speed: 40.945\n",
      "[Epoch 3270] T_loss: 0.01090, V_loss: 0.41371, Early stopping counter: 3 out of 30 | T_time: 00:01:30, T_speed: 3.629\n",
      "[Epoch 3300] T_loss: 0.01097, V_loss: 0.41532, Early stopping counter: 4 out of 30 | T_time: 00:01:31, T_speed: 5.289\n",
      "[Epoch 3330] T_loss: 0.01100, V_loss: 0.41731, Early stopping counter: 5 out of 30 | T_time: 00:01:32, T_speed: 7.520\n",
      "[Epoch 3360] T_loss: 0.01108, V_loss: 0.41962, Early stopping counter: 6 out of 30 | T_time: 00:01:33, T_speed: 20.286\n",
      "[Epoch 3390] T_loss: 0.01084, V_loss: 0.41730, Early stopping counter: 7 out of 30 | T_time: 00:01:33, T_speed: 3.438\n",
      "[Epoch 3420] T_loss: 0.01073, V_loss: 0.42338, Early stopping counter: 8 out of 30 | T_time: 00:01:34, T_speed: 4.832\n",
      "[Epoch 3450] T_loss: 0.01069, V_loss: 0.42308, Early stopping counter: 9 out of 30 | T_time: 00:01:35, T_speed: 6.311\n",
      "[Epoch 3480] T_loss: 0.01064, V_loss: 0.42606, Early stopping counter: 10 out of 30 | T_time: 00:01:36, T_speed: 13.025\n",
      "[Epoch 3510] T_loss: 0.01088, V_loss: 0.43015, Early stopping counter: 11 out of 30 | T_time: 00:01:37, T_speed: 37.636\n",
      "[Epoch 3540] T_loss: 0.01070, V_loss: 0.43686, Early stopping counter: 12 out of 30 | T_time: 00:01:37, T_speed: 4.352\n",
      "[Epoch 3570] T_loss: 0.01047, V_loss: 0.44033, Early stopping counter: 13 out of 30 | T_time: 00:01:38, T_speed: 5.711\n",
      "[Epoch 3600] T_loss: 0.01047, V_loss: 0.44101, Early stopping counter: 14 out of 30 | T_time: 00:01:39, T_speed: 10.218\n",
      "[Epoch 3630] T_loss: 0.01046, V_loss: 0.44457, Early stopping counter: 15 out of 30 | T_time: 00:01:40, T_speed: 21.430\n",
      "[Epoch 3660] T_loss: 0.01049, V_loss: 0.44450, Early stopping counter: 16 out of 30 | T_time: 00:01:40, T_speed: 4.115\n",
      "[Epoch 3690] T_loss: 0.01059, V_loss: 0.44610, Early stopping counter: 17 out of 30 | T_time: 00:01:41, T_speed: 5.086\n",
      "[Epoch 3720] T_loss: 0.01042, V_loss: 0.45932, Early stopping counter: 18 out of 30 | T_time: 00:01:42, T_speed: 8.297\n",
      "[Epoch 3750] T_loss: 0.01041, V_loss: 0.46114, Early stopping counter: 19 out of 30 | T_time: 00:01:43, T_speed: 13.676\n",
      "[Epoch 3780] T_loss: 0.01057, V_loss: 0.46611, Early stopping counter: 20 out of 30 | T_time: 00:01:44, T_speed: 24076.433\n",
      "[Epoch 3810] T_loss: 0.01066, V_loss: 0.46060, Early stopping counter: 21 out of 30 | T_time: 00:01:44, T_speed: 4.516\n",
      "[Epoch 3840] T_loss: 0.01040, V_loss: 0.46861, Early stopping counter: 22 out of 30 | T_time: 00:01:45, T_speed: 6.869\n",
      "[Epoch 3870] T_loss: 0.01044, V_loss: 0.47778, Early stopping counter: 23 out of 30 | T_time: 00:01:46, T_speed: 10.345\n",
      "[Epoch 3900] T_loss: 0.01029, V_loss: 0.47429, Early stopping counter: 24 out of 30 | T_time: 00:01:47, T_speed: 41.460\n",
      "[Epoch 3930] T_loss: 0.01033, V_loss: 0.48701, Early stopping counter: 25 out of 30 | T_time: 00:01:47, T_speed: 4.296\n",
      "[Epoch 3960] T_loss: 0.01024, V_loss: 0.48333, Early stopping counter: 26 out of 30 | T_time: 00:01:48, T_speed: 6.025\n",
      "[Epoch 3990] T_loss: 0.01010, V_loss: 0.49032, Early stopping counter: 27 out of 30 | T_time: 00:01:49, T_speed: 8.348\n",
      "[Epoch 4020] T_loss: 0.01020, V_loss: 0.49065, Early stopping counter: 28 out of 30 | T_time: 00:01:50, T_speed: 20.496\n",
      "[Epoch 4050] T_loss: 0.01016, V_loss: 0.49599, Early stopping counter: 29 out of 30 | T_time: 00:01:51, T_speed: 126.681\n",
      "[Epoch 4080] T_loss: 0.01005, V_loss: 0.50146, Early stopping counter: 30 out of 30 *** TRAIN EARLY STOPPED! *** | T_time: 00:01:51, T_speed: 5.385\n",
      "Final training time: 00:01:51\n"
     ]
    },
    {
     "data": {
      "text/html": [],
      "text/plain": [
       "<IPython.core.display.HTML object>"
      ]
     },
     "metadata": {},
     "output_type": "display_data"
    },
    {
     "data": {
      "text/html": [
       "<br>    <style><br>        .wandb-row {<br>            display: flex;<br>            flex-direction: row;<br>            flex-wrap: wrap;<br>            justify-content: flex-start;<br>            width: 100%;<br>        }<br>        .wandb-col {<br>            display: flex;<br>            flex-direction: column;<br>            flex-basis: 100%;<br>            flex: 1;<br>            padding: 10px;<br>        }<br>    </style><br><div class=\"wandb-row\"><div class=\"wandb-col\"><h3>Run history:</h3><br/><table class=\"wandb\"><tr><td>Epoch</td><td>▁▁▁▂▂▂▂▂▃▃▃▄▄▄▄▄▄▅▅▅▅▅▅▅▆▆▆▆▆▇▇▇▇▇██████</td></tr><tr><td>Training loss</td><td>█▁▁▁▁▁▁▁▁▁▁▁▁▁▁▁▁▁▁▁▁▁▁▁▁▁▁▁▁▁▁▁▁▁▁▁▁▁▁▁</td></tr><tr><td>Training speed (epochs/sec.)</td><td>▁▁▁▁▁▁▁▁▁▁▁▁▁▁▁▁▁▁▁▁▁▁▁▁▁▁▂▁▁▁▁▁▁▁▁▁█▁▁▁</td></tr><tr><td>Validation loss</td><td>█▆▂▂▂▂▂▂▂▂▁▁▁▁▁▁▁▁▁▁▁▁▁▁▁▁▁▁▁▁▁▁▁▁▁▁▁▁▁▁</td></tr></table><br/></div><div class=\"wandb-col\"><h3>Run summary:</h3><br/><table class=\"wandb\"><tr><td>Epoch</td><td>4080</td></tr><tr><td>Training loss</td><td>0.01005</td></tr><tr><td>Training speed (epochs/sec.)</td><td>5.38474</td></tr><tr><td>Validation loss</td><td>0.50146</td></tr></table><br/></div></div>"
      ],
      "text/plain": [
       "<IPython.core.display.HTML object>"
      ]
     },
     "metadata": {},
     "output_type": "display_data"
    },
    {
     "data": {
      "text/html": [
       " View run <strong style=\"color:#cdcd00\">2024-12-20_21-31-58</strong> at: <a href='https://wandb.ai/chosuyeon-korea-university-of-technology-and-education/lstm_regression_btc_krw/runs/kd0kjlm2' target=\"_blank\">https://wandb.ai/chosuyeon-korea-university-of-technology-and-education/lstm_regression_btc_krw/runs/kd0kjlm2</a><br> View project at: <a href='https://wandb.ai/chosuyeon-korea-university-of-technology-and-education/lstm_regression_btc_krw' target=\"_blank\">https://wandb.ai/chosuyeon-korea-university-of-technology-and-education/lstm_regression_btc_krw</a><br>Synced 5 W&B file(s), 0 media file(s), 0 artifact file(s) and 0 other file(s)"
      ],
      "text/plain": [
       "<IPython.core.display.HTML object>"
      ]
     },
     "metadata": {},
     "output_type": "display_data"
    },
    {
     "data": {
      "text/html": [
       "Find logs at: <code>./wandb/run-20241220_213159-kd0kjlm2/logs</code>"
      ],
      "text/plain": [
       "<IPython.core.display.HTML object>"
      ]
     },
     "metadata": {},
     "output_type": "display_data"
    }
   ],
   "source": [
    "if __name__ == \"__main__\":\n",
    "  parser = get_parser()\n",
    "  # args = parser.parse_args()\n",
    "  args = parser.parse_args(['--wandb'])\n",
    "  main(args)\n",
    "\n",
    "  # python _01_code/_11_lstm_and_its_application/f_crypto_currency_regression_train_lstm.py --wandb"
   ]
  },
  {
   "cell_type": "markdown",
   "metadata": {},
   "source": [
    "##### _01_code/_15_lstm_and_its_application/h_crypto_currency_regression_test_lstm.py"
   ]
  },
  {
   "cell_type": "code",
   "execution_count": 12,
   "metadata": {},
   "outputs": [
    {
     "name": "stdout",
     "output_type": "stream",
     "text": [
      "/data/2_data_server/nlp-05/KOREATECH/2024-2_DL/link_dl\n"
     ]
    }
   ],
   "source": [
    "import torch\n",
    "import wandb\n",
    "from matplotlib import pyplot as plt\n",
    "from datetime import datetime\n",
    "import os\n",
    "from pathlib import Path\n",
    "\n",
    "# BASE_PATH = str(Path(__file__).resolve().parent.parent.parent) # BASE_PATH: /Users/yhhan/git/link_dl\n",
    "BASE_PATH = str(Path.cwd().parent.parent.parent)  # 현재 디렉토리 기준으로 부모 디렉토리 이동\n",
    "print(BASE_PATH)"
   ]
  },
  {
   "cell_type": "code",
   "execution_count": 13,
   "metadata": {},
   "outputs": [],
   "source": [
    "import sys\n",
    "sys.path.append(BASE_PATH)"
   ]
  },
  {
   "cell_type": "code",
   "execution_count": 14,
   "metadata": {},
   "outputs": [],
   "source": [
    "# CURRENT_FILE_PATH = os.path.dirname(os.path.abspath(__file__))\n",
    "CURRENT_FILE_PATH = str(Path.cwd())\n",
    "CHECKPOINT_FILE_PATH = os.path.join(CURRENT_FILE_PATH, \"checkpoints\")\n",
    "if not os.path.isdir(CHECKPOINT_FILE_PATH):\n",
    "  os.makedirs(os.path.join(CURRENT_FILE_PATH, \"checkpoints\"))"
   ]
  },
  {
   "cell_type": "code",
   "execution_count": 15,
   "metadata": {},
   "outputs": [],
   "source": [
    "from _01_code._15_lstm_and_its_application.f_arg_parser import get_parser\n",
    "# from _01_code._03_real_world_data_to_tensors.p_cryptocurrency_dataset_dataloader import get_cryptocurrency_data, \\\n",
    "#   CryptoCurrencyDataset\n",
    "# from _01_code._15_lstm_and_its_application.g_crypto_currency_regression_train_lstm import get_model, get_btc_krw_data"
   ]
  },
  {
   "cell_type": "code",
   "execution_count": 16,
   "metadata": {},
   "outputs": [],
   "source": [
    "def test(test_model):\n",
    "    # test_model을 매개변수로 받는 테스트 함수 정의\n",
    "    \n",
    "    _, _, test_data_loader = get_btc_krw_data()\n",
    "    # BTC/KRW 데이터를 로드하는 함수를 호출하여 테스트 데이터 로더만 사용\n",
    "    # 앞의 두 값은 무시하고 세 번째 값(test_data_loader)만 가져옴\n",
    "\n",
    "    test_model.eval()\n",
    "    # 모델을 평가 모드로 설정 (학습 모드가 아닌 추론 모드)\n",
    "    # dropout, batch normalization 등이 평가 모드로 동작하게 됨\n",
    "\n",
    "    y_normalizer = 100\n",
    "    # 출력값을 정규화하기 위한 스케일링 팩터 설정\n",
    "\n",
    "    print(\"[TEST DATA]\")\n",
    "    with torch.no_grad():\n",
    "        # gradient 계산을 비활성화하여 메모리 사용량 감소 및 연산 속도 향상\n",
    "        for test_batch in test_data_loader:\n",
    "            # 테스트 데이터 로더에서 배치 단위로 데이터를 가져옴\n",
    "            input_test, target_test = test_batch\n",
    "            # 배치에서 입력 데이터와 정답 데이터를 분리\n",
    "\n",
    "            output_test = test_model(input_test)\n",
    "            # 모델에 테스트 입력 데이터를 통과시켜 예측값 생성\n",
    "\n",
    "        for idx, (output, target) in enumerate(zip(output_test, target_test)):\n",
    "            # 예측값과 실제값을 순회하면서 각각의 결과를 출력\n",
    "            print(\"{0:2}: {1:6,.2f} <--> {2:6,.2f} (Loss: {3:>13,.2f})\".format(\n",
    "                idx,                                            # 인덱스\n",
    "                output.item() * y_normalizer,                   # 정규화된 예측값\n",
    "                target.item() * y_normalizer,                   # 정규화된 실제값\n",
    "                abs(output.squeeze(dim=-1).item() - target.item()) * y_normalizer  # 절대 오차\n",
    "            ))\n",
    "            # 포맷팅된 문자열로 결과를 출력:\n",
    "            # - 인덱스는 2자리\n",
    "            # - 예측값과 실제값은 소수점 둘째자리까지 표시하고 천 단위 구분자 사용\n",
    "            # - Loss는 우측 정렬하여 13자리로 표시"
   ]
  },
  {
   "cell_type": "code",
   "execution_count": 17,
   "metadata": {},
   "outputs": [],
   "source": [
    "def predict_all(test_model):\n",
    "   # 예측값의 정규화를 위한 스케일링 팩터 설정\n",
    "   y_normalizer = 100\n",
    "\n",
    "   # 암호화폐 데이터를 가져와서 train/validation/test 세트로 분할\n",
    "   # sequence_size=10: 입력 시퀀스 길이\n",
    "   # validation_size=100: 검증 세트 크기\n",
    "   # test_size=10: 테스트 세트 크기\n",
    "   # target_column='Close': 종가를 예측 대상으로 설정\n",
    "   # y_normalizer=1.0e7: 타겟값 정규화 스케일링 팩터\n",
    "   # is_regression=True: 회귀 문제로 설정\n",
    "   X_train, X_validation, X_test, y_train, y_validation, y_test, y_train_date, y_validation_date, y_test_date \\\n",
    "       = get_cryptocurrency_data(\n",
    "           sequence_size=10, validation_size=100, test_size=10,\n",
    "           target_column='Close', y_normalizer=1.0e7, is_regression=True\n",
    "       )\n",
    "\n",
    "   # 각 데이터셋에 대한 CryptoCurrencyDataset 객체 생성\n",
    "   train_crypto_currency_dataset = CryptoCurrencyDataset(X=X_train, y=y_train)\n",
    "   validation_crypto_currency_dataset = CryptoCurrencyDataset(X=X_validation, y=y_validation)\n",
    "   test_crypto_currency_dataset = CryptoCurrencyDataset(X=X_test, y=y_test)\n",
    "\n",
    "   # 데이터셋과 레이블을 리스트로 묶음\n",
    "   dataset_list = [\n",
    "       train_crypto_currency_dataset, validation_crypto_currency_dataset, test_crypto_currency_dataset\n",
    "   ]\n",
    "   dataset_labels = [\n",
    "       \"train\", \"validation\", \"test\"\n",
    "   ]\n",
    "   \n",
    "   # x축 값 초기화\n",
    "   num = 0\n",
    "   # 3개의 서브플롯을 가진 figure 생성 (6x9 크기)\n",
    "   fig, axs = plt.subplots(3, 1, figsize=(6, 9))\n",
    "\n",
    "   # 각 데이터셋(train/validation/test)에 대해 반복\n",
    "   for i in range(3):\n",
    "       # 그래프 그리기 위한 데이터 저장용 리스트\n",
    "       X = []          # x축 값\n",
    "       TARGET_Y = []   # 실제 타겟값\n",
    "       PREDICTION_Y = [] # 예측값\n",
    "       \n",
    "       # 현재 데이터셋의 각 데이터에 대해 반복\n",
    "       for data in dataset_list[i]:\n",
    "           input, target = data\n",
    "           # 모델 예측 수행 (배치 차원 추가 후 예측하고 다시 제거)\n",
    "           prediction = test_model(input.unsqueeze(0)).squeeze(-1).squeeze(-1)\n",
    "\n",
    "           # 그래프 데이터 추가\n",
    "           X.append(num)\n",
    "           TARGET_Y.append(target.item() * y_normalizer)\n",
    "           PREDICTION_Y.append(prediction.item() * y_normalizer)\n",
    "           \n",
    "           num += 1\n",
    "\n",
    "       # i번째 서브플롯에 타겟값과 예측값 그래프 그리기\n",
    "       axs[i].plot(X, TARGET_Y, label='target')\n",
    "       axs[i].plot(X, PREDICTION_Y, label='prediction')\n",
    "       axs[i].set_title(dataset_labels[i])\n",
    "       axs[i].legend()\n",
    "\n",
    "   # 서브플롯 간 간격 자동 조정\n",
    "   plt.tight_layout()\n",
    "   # 그래프 표시\n",
    "   plt.show()"
   ]
  },
  {
   "cell_type": "code",
   "execution_count": 18,
   "metadata": {},
   "outputs": [],
   "source": [
    "def main(args):\n",
    "  run_time_str = datetime.now().astimezone().strftime('%Y-%m-%d_%H-%M-%S')\n",
    "\n",
    "  config = {\n",
    "    'epochs': args.epochs,\n",
    "    'batch_size': args.batch_size,\n",
    "    'validation_intervals': args.validation_intervals,\n",
    "    'learning_rate': args.learning_rate,\n",
    "    'early_stop_patience': args.early_stop_patience,\n",
    "    'early_stop_delta': args.early_stop_delta,\n",
    "  }\n",
    "\n",
    "  project_name = \"lstm_regression_btc_krw\"\n",
    "  wandb.init(\n",
    "    mode=\"disabled\",\n",
    "    project=project_name,\n",
    "    notes=\"btc_krw experiment with lstm\",\n",
    "    tags=[\"lstm\", \"regression\", \"btc_krw\"],\n",
    "    name=run_time_str,\n",
    "    config=config\n",
    "  )\n",
    "\n",
    "  test_model = get_model()\n",
    "\n",
    "  project_name = \"lstm_regression_btc_krw\"\n",
    "  latest_file_path = os.path.join(\n",
    "    CHECKPOINT_FILE_PATH, f\"{project_name}_checkpoint_latest.pt\"\n",
    "  )\n",
    "  print(\"MODEL FILE: {0}\".format(latest_file_path))\n",
    "  test_model.load_state_dict(torch.load(latest_file_path, map_location=torch.device('cpu')))\n",
    "\n",
    "  test(test_model)\n",
    "  predict_all(test_model)"
   ]
  },
  {
   "cell_type": "code",
   "execution_count": 20,
   "metadata": {},
   "outputs": [
    {
     "name": "stdout",
     "output_type": "stream",
     "text": [
      "MODEL FILE: /data/2_data_server/nlp-05/KOREATECH/2024-2_DL/link_dl/_03_your_code/CSE533/hw4/checkpoints/lstm_regression_btc_krw_checkpoint_latest.pt\n"
     ]
    },
    {
     "name": "stderr",
     "output_type": "stream",
     "text": [
      "/tmp/ipykernel_42112/263996050.py:30: FutureWarning: You are using `torch.load` with `weights_only=False` (the current default value), which uses the default pickle module implicitly. It is possible to construct malicious pickle data which will execute arbitrary code during unpickling (See https://github.com/pytorch/pytorch/blob/main/SECURITY.md#untrusted-models for more details). In a future release, the default value for `weights_only` will be flipped to `True`. This limits the functions that could be executed during unpickling. Arbitrary objects will no longer be allowed to be loaded via this mode unless they are explicitly allowlisted by the user via `torch.serialization.add_safe_globals`. We recommend you start setting `weights_only=True` for any use case where you don't have full control of the loaded file. Please open an issue on GitHub for any issues related to this experimental feature.\n",
      "  test_model.load_state_dict(torch.load(latest_file_path, map_location=torch.device('cpu')))\n"
     ]
    },
    {
     "name": "stdout",
     "output_type": "stream",
     "text": [
      "[TEST DATA]\n",
      " 0: 1,100.84 <--> 1,334.58 (Loss:        233.74)\n",
      " 1: 1,103.92 <--> 1,302.60 (Loss:        198.68)\n",
      " 2: 1,100.92 <--> 1,331.62 (Loss:        230.69)\n",
      " 3: 1,101.91 <--> 1,360.09 (Loss:        258.18)\n",
      " 4: 1,096.90 <--> 1,390.43 (Loss:        293.53)\n",
      " 5: 1,103.24 <--> 1,284.38 (Loss:        181.14)\n",
      " 6: 1,099.05 <--> 1,373.29 (Loss:        274.24)\n",
      " 7: 1,094.53 <--> 1,319.45 (Loss:        224.91)\n",
      " 8: 1,096.30 <--> 1,380.87 (Loss:        284.57)\n",
      " 9: 1,102.00 <--> 1,378.05 (Loss:        276.05)\n"
     ]
    },
    {
     "data": {
      "image/png": "[encoded data removed]",
      "text/plain": [
       "<Figure size 600x900 with 3 Axes>"
      ]
     },
     "metadata": {},
     "output_type": "display_data"
    }
   ],
   "source": [
    "if __name__ == \"__main__\":\n",
    "  parser = get_parser()\n",
    "  # args = parser.parse_args()\n",
    "  args = parser.parse_args([\n",
    "      '--no-wandb',                    # wandb 비활성화 (False)\n",
    "      '--batch_size', '2048',          # batch_size 기본값\n",
    "      '--epochs', '10000',             # epochs 기본값 \n",
    "      '--learning_rate', '0.0001',     # learning_rate 기본값 (1e-4)\n",
    "      '--weight_decay', '0.0',         # weight_decay 기본값\n",
    "      '--validation_intervals', '30',   # validation_intervals 기본값\n",
    "      '--early_stop_patience', '30',   # early_stop_patience 기본값\n",
    "      '--early_stop_delta', '0.000001' # early_stop_delta 기본값\n",
    "  ])\n",
    "  main(args)"
   ]
  },
  {
   "cell_type": "markdown",
   "metadata": {},
   "source": [
    "##### _01_code/_15_lstm_and_its_application/i_crypto_currency_classification_train_lstm.py"
   ]
  },
  {
   "cell_type": "code",
   "execution_count": 21,
   "metadata": {},
   "outputs": [
    {
     "name": "stdout",
     "output_type": "stream",
     "text": [
      "/data/2_data_server/nlp-05/KOREATECH/2024-2_DL/link_dl\n"
     ]
    }
   ],
   "source": [
    "import torch\n",
    "from torch import nn, optim\n",
    "from datetime import datetime\n",
    "import os\n",
    "import wandb\n",
    "from pathlib import Path\n",
    "\n",
    "# BASE_PATH = str(Path(__file__).resolve().parent.parent.parent) # BASE_PATH: /Users/yhhan/git/link_dl\n",
    "BASE_PATH = str(Path.cwd().parent.parent.parent)  # 현재 디렉토리 기준으로 부모 디렉토리 이동\n",
    "print(BASE_PATH)"
   ]
  },
  {
   "cell_type": "code",
   "execution_count": 22,
   "metadata": {},
   "outputs": [],
   "source": [
    "import sys\n",
    "sys.path.append(BASE_PATH)"
   ]
  },
  {
   "cell_type": "code",
   "execution_count": 23,
   "metadata": {},
   "outputs": [],
   "source": [
    "# CURRENT_FILE_PATH = os.path.dirname(os.path.abspath(__file__))\n",
    "CURRENT_FILE_PATH = str(Path.cwd())\n",
    "CHECKPOINT_FILE_PATH = os.path.join(CURRENT_FILE_PATH, \"checkpoints\")\n",
    "\n",
    "if not os.path.isdir(CHECKPOINT_FILE_PATH):\n",
    "  os.makedirs(os.path.join(CURRENT_FILE_PATH, \"checkpoints\"))"
   ]
  },
  {
   "cell_type": "code",
   "execution_count": 24,
   "metadata": {},
   "outputs": [],
   "source": [
    "from _01_code._08_fcn_best_practice.c_trainer import ClassificationTrainer\n",
    "from _01_code._15_lstm_and_its_application.f_arg_parser import get_parser\n",
    "# from _01_code._15_lstm_and_its_application.g_crypto_currency_regression_train_lstm import get_btc_krw_data"
   ]
  },
  {
   "cell_type": "code",
   "execution_count": 25,
   "metadata": {},
   "outputs": [],
   "source": [
    "def get_model():\n",
    "   class MyModel(nn.Module):\n",
    "       def __init__(self, n_input, n_output):\n",
    "           # MyModel 클래스 초기화 - 입력 차원과 출력 차원을 인자로 받음\n",
    "           super().__init__()\n",
    "\n",
    "           # LSTM 레이어 정의\n",
    "           # input_size=n_input: 입력 피처 수\n",
    "           # hidden_size=256: LSTM의 은닉 상태 크기\n",
    "           # num_layers=3: LSTM 레이어 수\n",
    "           # batch_first=True: 입력 텐서의 shape를 (batch, seq_len, features)로 설정\n",
    "           self.lstm = nn.LSTM(input_size=n_input, hidden_size=256, num_layers=3, batch_first=True)\n",
    "           \n",
    "           # 전결합 레이어 정의\n",
    "           # in_features=256: LSTM의 은닉 상태 크기와 동일\n",
    "           # out_features=n_output: 최종 출력 차원\n",
    "           self.fcn = nn.Linear(in_features=256, out_features=n_output)\n",
    "\n",
    "       def forward(self, x):\n",
    "           # LSTM 레이어를 통과\n",
    "           # x: 입력 텐서\n",
    "           # hidden: LSTM의 은닉 상태 (여기서는 사용하지 않음)\n",
    "           x, hidden = self.lstm(x)\n",
    "           \n",
    "           # 마지막 시퀀스의 출력만 선택\n",
    "           # x[:, -1, :]: 배치의 각 시퀀스의 마지막 타임스텝의 출력을 선택\n",
    "           x = x[:, -1, :]  # x.shape: [32, 128]\n",
    "           \n",
    "           # 전결합 레이어를 통과하여 최종 출력 생성\n",
    "           x = self.fcn(x)\n",
    "           return x\n",
    "\n",
    "   # 모델 인스턴스 생성\n",
    "   # n_input=5: 입력 피처 수를 5로 설정\n",
    "   # n_output=2: 출력 차원을 2로 설정\n",
    "   my_model = MyModel(n_input=5, n_output=2)\n",
    "\n",
    "   # 생성된 모델 반환\n",
    "   return my_model"
   ]
  },
  {
   "cell_type": "code",
   "execution_count": 32,
   "metadata": {},
   "outputs": [],
   "source": [
    "def main(args):\n",
    "    # 현재 시간을 문자열로 변환하여 실험 구분에 사용\n",
    "    run_time_str = datetime.now().astimezone().strftime('%Y-%m-%d_%H-%M-%S')\n",
    "\n",
    "    # wandb에서 추적할 하이퍼파라미터 설정\n",
    "    config = {\n",
    "        'epochs': args.epochs,                # 총 학습 에폭 수\n",
    "        'batch_size': args.batch_size,        # 배치 크기\n",
    "        'validation_intervals': args.validation_intervals,  # 검증을 수행할 간격\n",
    "        'learning_rate': args.learning_rate,  # 학습률\n",
    "        'early_stop_patience': args.early_stop_patience,  # 조기 종료를 위한 인내심\n",
    "        'early_stop_delta': args.early_stop_delta,        # 조기 종료를 위한 최소 개선값\n",
    "        'weight_decay': args.weight_decay     # L2 정규화 계수\n",
    "    }\n",
    "\n",
    "    # Weights & Biases 초기화\n",
    "    project_name = \"lstm_classification_btc_krw\"\n",
    "    wandb.init(\n",
    "        mode=\"online\" if args.wandb else \"disabled\",  # wandb 사용 여부 설정\n",
    "        project=project_name,                         # 프로젝트 이름\n",
    "        notes=\"btc_krw experiment with lstm\",        # 실험 노트\n",
    "        tags=[\"lstm\", \"classification\", \"btc_krw\"],      # 실험 태그\n",
    "        name=run_time_str,                           # 실험 이름(현재 시간 기반)\n",
    "        config=config                                # 설정된 하이퍼파라미터\n",
    "    )\n",
    "    # 입력 인자와 wandb 설정 출력\n",
    "    print(args)\n",
    "    print(wandb.config)\n",
    "\n",
    "    # 데이터 로더 생성 (테스트 데이터 로더는 현재 사용하지 않음)\n",
    "    train_data_loader, validation_data_loader, _ = get_btc_krw_data(is_regression=False)\n",
    "    \n",
    "    # GPU 사용 가능 여부 확인 및 디바이스 설정\n",
    "    device = torch.device(\"cuda:0\" if torch.cuda.is_available() else \"cpu\")\n",
    "    print(f\"Training on device {device}.\")\n",
    "\n",
    "    # 모델 생성 및 지정된 디바이스로 이동\n",
    "    model = get_model()\n",
    "    model.to(device)\n",
    "\n",
    "    # Adam 옵티마이저 설정\n",
    "    # learning_rate와 weight_decay는 wandb config에서 가져옴\n",
    "    optimizer = optim.Adam(model.parameters(), lr=wandb.config.learning_rate, weight_decay=wandb.config.weight_decay)\n",
    "\n",
    "    classification_trainer = ClassificationTrainer(\n",
    "        project_name, model, optimizer, train_data_loader, validation_data_loader, None,\n",
    "        run_time_str, wandb, device, CHECKPOINT_FILE_PATH\n",
    "    )\n",
    "   \n",
    "    # 학습 실행\n",
    "    classification_trainer.train_loop()\n",
    "\n",
    "    # wandb 실험 종료\n",
    "    wandb.finish()"
   ]
  },
  {
   "cell_type": "code",
   "execution_count": 34,
   "metadata": {},
   "outputs": [
    {
     "data": {
      "text/html": [
       "Tracking run with wandb version 0.19.1"
      ],
      "text/plain": [
       "<IPython.core.display.HTML object>"
      ]
     },
     "metadata": {},
     "output_type": "display_data"
    },
    {
     "data": {
      "text/html": [
       "Run data is saved locally in <code>/data/2_data_server/nlp-05/KOREATECH/2024-2_DL/link_dl/_03_your_code/CSE533/hw4/wandb/run-20241220_214802-qfhl5co5</code>"
      ],
      "text/plain": [
       "<IPython.core.display.HTML object>"
      ]
     },
     "metadata": {},
     "output_type": "display_data"
    },
    {
     "data": {
      "text/html": [
       "Syncing run <strong><a href='https://wandb.ai/chosuyeon-korea-university-of-technology-and-education/lstm_classification_btc_krw/runs/qfhl5co5' target=\"_blank\">2024-12-2021-48-02</a></strong> to <a href='https://wandb.ai/chosuyeon-korea-university-of-technology-and-education/lstm_classification_btc_krw' target=\"_blank\">Weights & Biases</a> (<a href='https://wandb.me/developer-guide' target=\"_blank\">docs</a>)<br>"
      ],
      "text/plain": [
       "<IPython.core.display.HTML object>"
      ]
     },
     "metadata": {},
     "output_type": "display_data"
    },
    {
     "data": {
      "text/html": [
       " View project at <a href='https://wandb.ai/chosuyeon-korea-university-of-technology-and-education/lstm_classification_btc_krw' target=\"_blank\">https://wandb.ai/chosuyeon-korea-university-of-technology-and-education/lstm_classification_btc_krw</a>"
      ],
      "text/plain": [
       "<IPython.core.display.HTML object>"
      ]
     },
     "metadata": {},
     "output_type": "display_data"
    },
    {
     "data": {
      "text/html": [
       " View run at <a href='https://wandb.ai/chosuyeon-korea-university-of-technology-and-education/lstm_classification_btc_krw/runs/qfhl5co5' target=\"_blank\">https://wandb.ai/chosuyeon-korea-university-of-technology-and-education/lstm_classification_btc_krw/runs/qfhl5co5</a>"
      ],
      "text/plain": [
       "<IPython.core.display.HTML object>"
      ]
     },
     "metadata": {},
     "output_type": "display_data"
    },
    {
     "name": "stdout",
     "output_type": "stream",
     "text": [
      "Namespace(wandb=True, batch_size=2048, epochs=10000, learning_rate=1e-05, weight_decay=0.0, validation_intervals=30, early_stop_patience=100, early_stop_delta=1e-06)\n",
      "{'epochs': 10000, 'batch_size': 2048, 'validation_intervals': 30, 'learning_rate': 1e-05, 'early_stop_patience': 100, 'early_stop_delta': 1e-06, 'weight_decay': 0.0}\n",
      "Training on device cuda:0.\n",
      "[Epoch   1] T_loss: 0.69243, T_accuracy: 52.7993 | V_loss: 0.69113, V_accuracy: 56.0000 | Early stopping is stated! | T_time: 00:00:00, T_speed: 0.000\n",
      "[Epoch  30] T_loss: 0.69151, T_accuracy: 52.7993 | V_loss: 0.69034, V_accuracy: 56.0000 | V_loss decreased (0.69113 --> 0.69034). Saving model... | T_time: 00:00:00, T_speed: 0.000\n",
      "[Epoch  60] T_loss: 0.69099, T_accuracy: 52.7993 | V_loss: 0.69176, V_accuracy: 55.0000 | Early stopping counter: 1 out of 100 | T_time: 00:00:01, T_speed: 60.000\n",
      "[Epoch  90] T_loss: 0.69051, T_accuracy: 53.2428 | V_loss: 0.69514, V_accuracy: 44.0000 | Early stopping counter: 2 out of 100 | T_time: 00:00:02, T_speed: 45.000\n",
      "[Epoch 120] T_loss: 0.69046, T_accuracy: 53.1042 | V_loss: 0.69854, V_accuracy: 44.0000 | Early stopping counter: 3 out of 100 | T_time: 00:00:03, T_speed: 40.000\n",
      "[Epoch 150] T_loss: 0.69084, T_accuracy: 53.3259 | V_loss: 0.69945, V_accuracy: 44.0000 | Early stopping counter: 4 out of 100 | T_time: 00:00:04, T_speed: 37.500\n",
      "[Epoch 180] T_loss: 0.69062, T_accuracy: 53.4645 | V_loss: 0.69937, V_accuracy: 44.0000 | Early stopping counter: 5 out of 100 | T_time: 00:00:05, T_speed: 36.000\n",
      "[Epoch 210] T_loss: 0.69078, T_accuracy: 53.4091 | V_loss: 0.69923, V_accuracy: 44.0000 | Early stopping counter: 6 out of 100 | T_time: 00:00:06, T_speed: 35.000\n",
      "[Epoch 240] T_loss: 0.69043, T_accuracy: 53.3259 | V_loss: 0.69902, V_accuracy: 44.0000 | Early stopping counter: 7 out of 100 | T_time: 00:00:07, T_speed: 34.286\n",
      "[Epoch 270] T_loss: 0.69077, T_accuracy: 53.1874 | V_loss: 0.69885, V_accuracy: 44.0000 | Early stopping counter: 8 out of 100 | T_time: 00:00:07, T_speed: 38.571\n",
      "[Epoch 300] T_loss: 0.69050, T_accuracy: 53.1596 | V_loss: 0.69875, V_accuracy: 44.0000 | Early stopping counter: 9 out of 100 | T_time: 00:00:08, T_speed: 37.500\n",
      "[Epoch 330] T_loss: 0.69084, T_accuracy: 53.2428 | V_loss: 0.69887, V_accuracy: 44.0000 | Early stopping counter: 10 out of 100 | T_time: 00:00:09, T_speed: 36.667\n",
      "[Epoch 360] T_loss: 0.69077, T_accuracy: 53.2428 | V_loss: 0.69872, V_accuracy: 44.0000 | Early stopping counter: 11 out of 100 | T_time: 00:00:10, T_speed: 36.000\n",
      "[Epoch 390] T_loss: 0.69042, T_accuracy: 52.9933 | V_loss: 0.69850, V_accuracy: 44.0000 | Early stopping counter: 12 out of 100 | T_time: 00:00:11, T_speed: 35.455\n",
      "[Epoch 420] T_loss: 0.69080, T_accuracy: 53.0488 | V_loss: 0.69853, V_accuracy: 44.0000 | Early stopping counter: 13 out of 100 | T_time: 00:00:12, T_speed: 35.000\n",
      "[Epoch 450] T_loss: 0.69032, T_accuracy: 52.9656 | V_loss: 0.69830, V_accuracy: 44.0000 | Early stopping counter: 14 out of 100 | T_time: 00:00:13, T_speed: 34.615\n",
      "[Epoch 480] T_loss: 0.69080, T_accuracy: 52.9656 | V_loss: 0.69834, V_accuracy: 44.0000 | Early stopping counter: 15 out of 100 | T_time: 00:00:13, T_speed: 36.923\n",
      "[Epoch 510] T_loss: 0.69057, T_accuracy: 52.9656 | V_loss: 0.69835, V_accuracy: 44.0000 | Early stopping counter: 16 out of 100 | T_time: 00:00:14, T_speed: 36.429\n",
      "[Epoch 540] T_loss: 0.69086, T_accuracy: 52.9656 | V_loss: 0.69814, V_accuracy: 44.0000 | Early stopping counter: 17 out of 100 | T_time: 00:00:15, T_speed: 36.000\n",
      "[Epoch 570] T_loss: 0.69070, T_accuracy: 52.9933 | V_loss: 0.69805, V_accuracy: 44.0000 | Early stopping counter: 18 out of 100 | T_time: 00:00:16, T_speed: 35.625\n",
      "[Epoch 600] T_loss: 0.69069, T_accuracy: 53.0211 | V_loss: 0.69802, V_accuracy: 44.0000 | Early stopping counter: 19 out of 100 | T_time: 00:00:17, T_speed: 35.294\n",
      "[Epoch 630] T_loss: 0.69021, T_accuracy: 52.9933 | V_loss: 0.69833, V_accuracy: 44.0000 | Early stopping counter: 20 out of 100 | T_time: 00:00:18, T_speed: 35.000\n",
      "[Epoch 660] T_loss: 0.69072, T_accuracy: 52.9379 | V_loss: 0.69843, V_accuracy: 44.0000 | Early stopping counter: 21 out of 100 | T_time: 00:00:19, T_speed: 34.737\n",
      "[Epoch 690] T_loss: 0.69049, T_accuracy: 52.9379 | V_loss: 0.69823, V_accuracy: 44.0000 | Early stopping counter: 22 out of 100 | T_time: 00:00:19, T_speed: 36.316\n",
      "[Epoch 720] T_loss: 0.69081, T_accuracy: 52.9102 | V_loss: 0.69821, V_accuracy: 44.0000 | Early stopping counter: 23 out of 100 | T_time: 00:00:20, T_speed: 36.000\n",
      "[Epoch 750] T_loss: 0.69099, T_accuracy: 52.9102 | V_loss: 0.69838, V_accuracy: 44.0000 | Early stopping counter: 24 out of 100 | T_time: 00:00:21, T_speed: 35.714\n",
      "[Epoch 780] T_loss: 0.69047, T_accuracy: 52.9102 | V_loss: 0.69824, V_accuracy: 44.0000 | Early stopping counter: 25 out of 100 | T_time: 00:00:22, T_speed: 35.455\n",
      "[Epoch 810] T_loss: 0.69059, T_accuracy: 52.9933 | V_loss: 0.69811, V_accuracy: 44.0000 | Early stopping counter: 26 out of 100 | T_time: 00:00:23, T_speed: 35.217\n",
      "[Epoch 840] T_loss: 0.69060, T_accuracy: 52.9102 | V_loss: 0.69836, V_accuracy: 44.0000 | Early stopping counter: 27 out of 100 | T_time: 00:00:24, T_speed: 35.000\n",
      "[Epoch 870] T_loss: 0.69088, T_accuracy: 52.9933 | V_loss: 0.69819, V_accuracy: 44.0000 | Early stopping counter: 28 out of 100 | T_time: 00:00:25, T_speed: 34.800\n",
      "[Epoch 900] T_loss: 0.69032, T_accuracy: 52.9656 | V_loss: 0.69822, V_accuracy: 44.0000 | Early stopping counter: 29 out of 100 | T_time: 00:00:26, T_speed: 34.615\n",
      "[Epoch 930] T_loss: 0.69053, T_accuracy: 52.9379 | V_loss: 0.69835, V_accuracy: 44.0000 | Early stopping counter: 30 out of 100 | T_time: 00:00:26, T_speed: 35.769\n",
      "[Epoch 960] T_loss: 0.69085, T_accuracy: 52.9379 | V_loss: 0.69833, V_accuracy: 44.0000 | Early stopping counter: 31 out of 100 | T_time: 00:00:27, T_speed: 35.556\n",
      "[Epoch 990] T_loss: 0.69069, T_accuracy: 53.0488 | V_loss: 0.69832, V_accuracy: 44.0000 | Early stopping counter: 32 out of 100 | T_time: 00:00:28, T_speed: 35.357\n",
      "[Epoch 1020] T_loss: 0.69061, T_accuracy: 53.0765 | V_loss: 0.69809, V_accuracy: 44.0000 | Early stopping counter: 33 out of 100 | T_time: 00:00:29, T_speed: 35.172\n",
      "[Epoch 1050] T_loss: 0.69059, T_accuracy: 53.0211 | V_loss: 0.69827, V_accuracy: 44.0000 | Early stopping counter: 34 out of 100 | T_time: 00:00:30, T_speed: 35.000\n",
      "[Epoch 1080] T_loss: 0.69048, T_accuracy: 53.0765 | V_loss: 0.69812, V_accuracy: 44.0000 | Early stopping counter: 35 out of 100 | T_time: 00:00:31, T_speed: 34.839\n",
      "[Epoch 1110] T_loss: 0.69039, T_accuracy: 52.9656 | V_loss: 0.69844, V_accuracy: 44.0000 | Early stopping counter: 36 out of 100 | T_time: 00:00:32, T_speed: 34.688\n",
      "[Epoch 1140] T_loss: 0.69074, T_accuracy: 52.9379 | V_loss: 0.69856, V_accuracy: 44.0000 | Early stopping counter: 37 out of 100 | T_time: 00:00:32, T_speed: 35.625\n",
      "[Epoch 1170] T_loss: 0.69035, T_accuracy: 52.9379 | V_loss: 0.69853, V_accuracy: 44.0000 | Early stopping counter: 38 out of 100 | T_time: 00:00:33, T_speed: 35.455\n",
      "[Epoch 1200] T_loss: 0.69040, T_accuracy: 53.0765 | V_loss: 0.69824, V_accuracy: 44.0000 | Early stopping counter: 39 out of 100 | T_time: 00:00:34, T_speed: 35.294\n",
      "[Epoch 1230] T_loss: 0.69049, T_accuracy: 53.0211 | V_loss: 0.69847, V_accuracy: 44.0000 | Early stopping counter: 40 out of 100 | T_time: 00:00:35, T_speed: 35.143\n",
      "[Epoch 1260] T_loss: 0.69073, T_accuracy: 53.0488 | V_loss: 0.69851, V_accuracy: 44.0000 | Early stopping counter: 41 out of 100 | T_time: 00:00:36, T_speed: 35.000\n",
      "[Epoch 1290] T_loss: 0.69044, T_accuracy: 53.0211 | V_loss: 0.69849, V_accuracy: 44.0000 | Early stopping counter: 42 out of 100 | T_time: 00:00:37, T_speed: 34.865\n",
      "[Epoch 1320] T_loss: 0.69057, T_accuracy: 53.0211 | V_loss: 0.69855, V_accuracy: 44.0000 | Early stopping counter: 43 out of 100 | T_time: 00:00:38, T_speed: 34.737\n",
      "[Epoch 1350] T_loss: 0.69061, T_accuracy: 53.0211 | V_loss: 0.69834, V_accuracy: 44.0000 | Early stopping counter: 44 out of 100 | T_time: 00:00:39, T_speed: 34.615\n",
      "[Epoch 1380] T_loss: 0.69041, T_accuracy: 53.0488 | V_loss: 0.69851, V_accuracy: 44.0000 | Early stopping counter: 45 out of 100 | T_time: 00:00:39, T_speed: 35.385\n",
      "[Epoch 1410] T_loss: 0.69066, T_accuracy: 53.0211 | V_loss: 0.69854, V_accuracy: 44.0000 | Early stopping counter: 46 out of 100 | T_time: 00:00:40, T_speed: 35.250\n",
      "[Epoch 1440] T_loss: 0.69078, T_accuracy: 53.0488 | V_loss: 0.69855, V_accuracy: 44.0000 | Early stopping counter: 47 out of 100 | T_time: 00:00:41, T_speed: 35.122\n",
      "[Epoch 1470] T_loss: 0.69034, T_accuracy: 53.0211 | V_loss: 0.69849, V_accuracy: 44.0000 | Early stopping counter: 48 out of 100 | T_time: 00:00:42, T_speed: 35.000\n",
      "[Epoch 1500] T_loss: 0.69060, T_accuracy: 53.0765 | V_loss: 0.69835, V_accuracy: 44.0000 | Early stopping counter: 49 out of 100 | T_time: 00:00:43, T_speed: 34.884\n",
      "[Epoch 1530] T_loss: 0.69060, T_accuracy: 52.9933 | V_loss: 0.69882, V_accuracy: 44.0000 | Early stopping counter: 50 out of 100 | T_time: 00:00:44, T_speed: 34.773\n",
      "[Epoch 1560] T_loss: 0.69031, T_accuracy: 53.0211 | V_loss: 0.69859, V_accuracy: 44.0000 | Early stopping counter: 51 out of 100 | T_time: 00:00:45, T_speed: 34.667\n",
      "[Epoch 1590] T_loss: 0.69109, T_accuracy: 53.0488 | V_loss: 0.69844, V_accuracy: 44.0000 | Early stopping counter: 52 out of 100 | T_time: 00:00:45, T_speed: 35.333\n",
      "[Epoch 1620] T_loss: 0.69052, T_accuracy: 53.0488 | V_loss: 0.69894, V_accuracy: 44.0000 | Early stopping counter: 53 out of 100 | T_time: 00:00:46, T_speed: 35.217\n",
      "[Epoch 1650] T_loss: 0.69065, T_accuracy: 53.0488 | V_loss: 0.69886, V_accuracy: 44.0000 | Early stopping counter: 54 out of 100 | T_time: 00:00:47, T_speed: 35.106\n",
      "[Epoch 1680] T_loss: 0.69064, T_accuracy: 53.0488 | V_loss: 0.69868, V_accuracy: 44.0000 | Early stopping counter: 55 out of 100 | T_time: 00:00:48, T_speed: 35.000\n",
      "[Epoch 1710] T_loss: 0.69061, T_accuracy: 53.0488 | V_loss: 0.69877, V_accuracy: 44.0000 | Early stopping counter: 56 out of 100 | T_time: 00:00:49, T_speed: 34.898\n",
      "[Epoch 1740] T_loss: 0.69046, T_accuracy: 53.0488 | V_loss: 0.69912, V_accuracy: 44.0000 | Early stopping counter: 57 out of 100 | T_time: 00:00:50, T_speed: 34.800\n",
      "[Epoch 1770] T_loss: 0.69063, T_accuracy: 53.0488 | V_loss: 0.69910, V_accuracy: 44.0000 | Early stopping counter: 58 out of 100 | T_time: 00:00:51, T_speed: 34.706\n",
      "[Epoch 1800] T_loss: 0.69062, T_accuracy: 53.0488 | V_loss: 0.69912, V_accuracy: 44.0000 | Early stopping counter: 59 out of 100 | T_time: 00:00:51, T_speed: 35.294\n",
      "[Epoch 1830] T_loss: 0.69072, T_accuracy: 53.0488 | V_loss: 0.69912, V_accuracy: 44.0000 | Early stopping counter: 60 out of 100 | T_time: 00:00:52, T_speed: 35.192\n",
      "[Epoch 1860] T_loss: 0.69023, T_accuracy: 53.0488 | V_loss: 0.69887, V_accuracy: 44.0000 | Early stopping counter: 61 out of 100 | T_time: 00:00:53, T_speed: 35.094\n",
      "[Epoch 1890] T_loss: 0.69039, T_accuracy: 53.0765 | V_loss: 0.69907, V_accuracy: 44.0000 | Early stopping counter: 62 out of 100 | T_time: 00:00:54, T_speed: 35.000\n",
      "[Epoch 1920] T_loss: 0.69057, T_accuracy: 53.0765 | V_loss: 0.69904, V_accuracy: 44.0000 | Early stopping counter: 63 out of 100 | T_time: 00:00:55, T_speed: 34.909\n",
      "[Epoch 1950] T_loss: 0.69057, T_accuracy: 53.0488 | V_loss: 0.69872, V_accuracy: 44.0000 | Early stopping counter: 64 out of 100 | T_time: 00:00:56, T_speed: 34.821\n",
      "[Epoch 1980] T_loss: 0.69057, T_accuracy: 53.0488 | V_loss: 0.69878, V_accuracy: 44.0000 | Early stopping counter: 65 out of 100 | T_time: 00:00:57, T_speed: 34.737\n",
      "[Epoch 2010] T_loss: 0.69039, T_accuracy: 53.0211 | V_loss: 0.69896, V_accuracy: 44.0000 | Early stopping counter: 66 out of 100 | T_time: 00:00:58, T_speed: 34.655\n",
      "[Epoch 2040] T_loss: 0.69051, T_accuracy: 52.9933 | V_loss: 0.69904, V_accuracy: 44.0000 | Early stopping counter: 67 out of 100 | T_time: 00:00:58, T_speed: 35.172\n",
      "[Epoch 2070] T_loss: 0.69050, T_accuracy: 52.9933 | V_loss: 0.69901, V_accuracy: 44.0000 | Early stopping counter: 68 out of 100 | T_time: 00:00:59, T_speed: 35.085\n",
      "[Epoch 2100] T_loss: 0.69080, T_accuracy: 53.0211 | V_loss: 0.69903, V_accuracy: 44.0000 | Early stopping counter: 69 out of 100 | T_time: 00:01:00, T_speed: 35.000\n",
      "[Epoch 2130] T_loss: 0.69032, T_accuracy: 53.1319 | V_loss: 0.69939, V_accuracy: 44.0000 | Early stopping counter: 70 out of 100 | T_time: 00:01:01, T_speed: 34.918\n",
      "[Epoch 2160] T_loss: 0.69074, T_accuracy: 53.0765 | V_loss: 0.69895, V_accuracy: 44.0000 | Early stopping counter: 71 out of 100 | T_time: 00:01:02, T_speed: 34.839\n",
      "[Epoch 2190] T_loss: 0.69085, T_accuracy: 52.9933 | V_loss: 0.69917, V_accuracy: 44.0000 | Early stopping counter: 72 out of 100 | T_time: 00:01:03, T_speed: 34.762\n",
      "[Epoch 2220] T_loss: 0.69048, T_accuracy: 53.0488 | V_loss: 0.69894, V_accuracy: 44.0000 | Early stopping counter: 73 out of 100 | T_time: 00:01:03, T_speed: 35.238\n",
      "[Epoch 2250] T_loss: 0.69035, T_accuracy: 53.0488 | V_loss: 0.69932, V_accuracy: 44.0000 | Early stopping counter: 74 out of 100 | T_time: 00:01:04, T_speed: 35.156\n",
      "[Epoch 2280] T_loss: 0.69066, T_accuracy: 53.0488 | V_loss: 0.69935, V_accuracy: 44.0000 | Early stopping counter: 75 out of 100 | T_time: 00:01:05, T_speed: 35.077\n",
      "[Epoch 2310] T_loss: 0.69046, T_accuracy: 53.0211 | V_loss: 0.69933, V_accuracy: 44.0000 | Early stopping counter: 76 out of 100 | T_time: 00:01:06, T_speed: 35.000\n",
      "[Epoch 2340] T_loss: 0.69057, T_accuracy: 53.0765 | V_loss: 0.69948, V_accuracy: 44.0000 | Early stopping counter: 77 out of 100 | T_time: 00:01:07, T_speed: 34.925\n",
      "[Epoch 2370] T_loss: 0.69043, T_accuracy: 53.0765 | V_loss: 0.69902, V_accuracy: 44.0000 | Early stopping counter: 78 out of 100 | T_time: 00:01:08, T_speed: 34.853\n",
      "[Epoch 2400] T_loss: 0.69076, T_accuracy: 53.0488 | V_loss: 0.69950, V_accuracy: 44.0000 | Early stopping counter: 79 out of 100 | T_time: 00:01:09, T_speed: 34.783\n",
      "[Epoch 2430] T_loss: 0.69046, T_accuracy: 53.0488 | V_loss: 0.69926, V_accuracy: 44.0000 | Early stopping counter: 80 out of 100 | T_time: 00:01:09, T_speed: 35.217\n",
      "[Epoch 2460] T_loss: 0.69062, T_accuracy: 53.0765 | V_loss: 0.69921, V_accuracy: 44.0000 | Early stopping counter: 81 out of 100 | T_time: 00:01:10, T_speed: 35.143\n",
      "[Epoch 2490] T_loss: 0.69050, T_accuracy: 53.0488 | V_loss: 0.69938, V_accuracy: 44.0000 | Early stopping counter: 82 out of 100 | T_time: 00:01:11, T_speed: 35.070\n",
      "[Epoch 2520] T_loss: 0.69050, T_accuracy: 53.1042 | V_loss: 0.69890, V_accuracy: 44.0000 | Early stopping counter: 83 out of 100 | T_time: 00:01:12, T_speed: 35.000\n",
      "[Epoch 2550] T_loss: 0.69071, T_accuracy: 53.1042 | V_loss: 0.69947, V_accuracy: 44.0000 | Early stopping counter: 84 out of 100 | T_time: 00:01:13, T_speed: 34.932\n",
      "[Epoch 2580] T_loss: 0.69081, T_accuracy: 53.1042 | V_loss: 0.69915, V_accuracy: 44.0000 | Early stopping counter: 85 out of 100 | T_time: 00:01:14, T_speed: 34.865\n",
      "[Epoch 2610] T_loss: 0.69049, T_accuracy: 53.0765 | V_loss: 0.69950, V_accuracy: 44.0000 | Early stopping counter: 86 out of 100 | T_time: 00:01:15, T_speed: 34.800\n",
      "[Epoch 2640] T_loss: 0.69073, T_accuracy: 53.1042 | V_loss: 0.69964, V_accuracy: 44.0000 | Early stopping counter: 87 out of 100 | T_time: 00:01:16, T_speed: 34.737\n",
      "[Epoch 2670] T_loss: 0.69046, T_accuracy: 53.0488 | V_loss: 0.69942, V_accuracy: 44.0000 | Early stopping counter: 88 out of 100 | T_time: 00:01:16, T_speed: 35.132\n",
      "[Epoch 2700] T_loss: 0.69066, T_accuracy: 53.0765 | V_loss: 0.69939, V_accuracy: 44.0000 | Early stopping counter: 89 out of 100 | T_time: 00:01:17, T_speed: 35.065\n",
      "[Epoch 2730] T_loss: 0.69034, T_accuracy: 53.0765 | V_loss: 0.69944, V_accuracy: 44.0000 | Early stopping counter: 90 out of 100 | T_time: 00:01:18, T_speed: 35.000\n",
      "[Epoch 2760] T_loss: 0.69052, T_accuracy: 53.1596 | V_loss: 0.69975, V_accuracy: 44.0000 | Early stopping counter: 91 out of 100 | T_time: 00:01:19, T_speed: 34.937\n",
      "[Epoch 2790] T_loss: 0.69037, T_accuracy: 53.0488 | V_loss: 0.69968, V_accuracy: 44.0000 | Early stopping counter: 92 out of 100 | T_time: 00:01:20, T_speed: 34.875\n",
      "[Epoch 2820] T_loss: 0.69016, T_accuracy: 53.1319 | V_loss: 0.69958, V_accuracy: 44.0000 | Early stopping counter: 93 out of 100 | T_time: 00:01:21, T_speed: 34.815\n",
      "[Epoch 2850] T_loss: 0.69011, T_accuracy: 53.1319 | V_loss: 0.69927, V_accuracy: 44.0000 | Early stopping counter: 94 out of 100 | T_time: 00:01:22, T_speed: 34.756\n",
      "[Epoch 2880] T_loss: 0.69074, T_accuracy: 53.1319 | V_loss: 0.69935, V_accuracy: 44.0000 | Early stopping counter: 95 out of 100 | T_time: 00:01:22, T_speed: 35.122\n",
      "[Epoch 2910] T_loss: 0.69044, T_accuracy: 53.0765 | V_loss: 0.69908, V_accuracy: 44.0000 | Early stopping counter: 96 out of 100 | T_time: 00:01:23, T_speed: 35.060\n",
      "[Epoch 2940] T_loss: 0.69021, T_accuracy: 53.2428 | V_loss: 0.69918, V_accuracy: 44.0000 | Early stopping counter: 97 out of 100 | T_time: 00:01:24, T_speed: 35.000\n",
      "[Epoch 2970] T_loss: 0.69009, T_accuracy: 53.2705 | V_loss: 0.69879, V_accuracy: 44.0000 | Early stopping counter: 98 out of 100 | T_time: 00:01:25, T_speed: 34.941\n",
      "[Epoch 3000] T_loss: 0.69049, T_accuracy: 53.2705 | V_loss: 0.69890, V_accuracy: 44.0000 | Early stopping counter: 99 out of 100 | T_time: 00:01:26, T_speed: 34.884\n",
      "[Epoch 3030] T_loss: 0.69044, T_accuracy: 53.2982 | V_loss: 0.69924, V_accuracy: 44.0000 | Early stopping counter: 100 out of 100 *** TRAIN EARLY STOPPED! *** | T_time: 00:01:27, T_speed: 34.828\n",
      "Final training time: 00:01:27\n"
     ]
    },
    {
     "data": {
      "text/html": [],
      "text/plain": [
       "<IPython.core.display.HTML object>"
      ]
     },
     "metadata": {},
     "output_type": "display_data"
    },
    {
     "data": {
      "text/html": [
       "<br>    <style><br>        .wandb-row {<br>            display: flex;<br>            flex-direction: row;<br>            flex-wrap: wrap;<br>            justify-content: flex-start;<br>            width: 100%;<br>        }<br>        .wandb-col {<br>            display: flex;<br>            flex-direction: column;<br>            flex-basis: 100%;<br>            flex: 1;<br>            padding: 10px;<br>        }<br>    </style><br><div class=\"wandb-row\"><div class=\"wandb-col\"><h3>Run history:</h3><br/><table class=\"wandb\"><tr><td>Epoch</td><td>▁▁▁▂▂▂▂▂▂▃▃▃▄▄▄▄▄▄▄▅▅▅▅▅▅▅▆▆▆▆▆▇▇▇▇▇████</td></tr><tr><td>Training accuracy (%)</td><td>▁▁▁█▆▇▆█▃▃▄▃▃▄▃▃▅▄▃▄▄▄▅▅▅▅▅▄▄▄▅▅▅▅▅▆▆▅██</td></tr><tr><td>Training loss</td><td>█▅▃▂▄▂▃▄▃▃▅▄▃▂▄▂▄▂▃▂▃▃▃▄▃▃▃▃▄▁▃▂▄▃▂▄▄▂▁▂</td></tr><tr><td>Training speed (epochs/sec.)</td><td>█▄▂▂▁▂▁▁▂▁▁▁▁▁▁▁▁▁▁▁▁▁▁▁▁▁▁▁▁▁▁▁▁▁▁▁▁▁▁▁</td></tr><tr><td>Validation accuracy (%)</td><td>██▇▁▁▁▁▁▁▁▁▁▁▁▁▁▁▁▁▁▁▁▁▁▁▁▁▁▁▁▁▁▁▁▁▁▁▁▁▁</td></tr><tr><td>Validation loss</td><td>▂▁▇██▇▇▇▇▇▇▇▇▇▇▇▇▇▇▇▇▇▇▇▇▇███▇▇████████▇</td></tr></table><br/></div><div class=\"wandb-col\"><h3>Run summary:</h3><br/><table class=\"wandb\"><tr><td>Epoch</td><td>3030</td></tr><tr><td>Training accuracy (%)</td><td>53.29823</td></tr><tr><td>Training loss</td><td>0.69044</td></tr><tr><td>Training speed (epochs/sec.)</td><td>34.82759</td></tr><tr><td>Validation accuracy (%)</td><td>44</td></tr><tr><td>Validation loss</td><td>0.69924</td></tr></table><br/></div></div>"
      ],
      "text/plain": [
       "<IPython.core.display.HTML object>"
      ]
     },
     "metadata": {},
     "output_type": "display_data"
    },
    {
     "data": {
      "text/html": [
       " View run <strong style=\"color:#cdcd00\">2024-12-2021-48-02</strong> at: <a href='https://wandb.ai/chosuyeon-korea-university-of-technology-and-education/lstm_classification_btc_krw/runs/qfhl5co5' target=\"_blank\">https://wandb.ai/chosuyeon-korea-university-of-technology-and-education/lstm_classification_btc_krw/runs/qfhl5co5</a><br> View project at: <a href='https://wandb.ai/chosuyeon-korea-university-of-technology-and-education/lstm_classification_btc_krw' target=\"_blank\">https://wandb.ai/chosuyeon-korea-university-of-technology-and-education/lstm_classification_btc_krw</a><br>Synced 5 W&B file(s), 0 media file(s), 0 artifact file(s) and 0 other file(s)"
      ],
      "text/plain": [
       "<IPython.core.display.HTML object>"
      ]
     },
     "metadata": {},
     "output_type": "display_data"
    },
    {
     "data": {
      "text/html": [
       "Find logs at: <code>./wandb/run-20241220_214802-qfhl5co5/logs</code>"
      ],
      "text/plain": [
       "<IPython.core.display.HTML object>"
      ]
     },
     "metadata": {},
     "output_type": "display_data"
    }
   ],
   "source": [
    "if __name__ == \"__main__\":\n",
    "  parser = get_parser()\n",
    "  # args = parser.parse_args()\n",
    "  args = parser.parse_args([\n",
    "      '--wandb',                       # wandb 활성화\n",
    "      '-r', '0.00001',                 # learning_rate 수정\n",
    "      '-p', '100',                     # early_stop_patience 수정\n",
    "  ])\n",
    "  main(args)\n",
    "  # python _01_code/_11_lstm_and_its_application/i_crypto_currency_classification_train_lstm.py -p 100 -r 0.00001"
   ]
  },
  {
   "cell_type": "markdown",
   "metadata": {},
   "source": [
    "##### _01_code/_15_lstm_and_its_application/j_crypto_currency_classification_test_lstm.py"
   ]
  },
  {
   "cell_type": "code",
   "execution_count": 35,
   "metadata": {},
   "outputs": [
    {
     "name": "stdout",
     "output_type": "stream",
     "text": [
      "/data/2_data_server/nlp-05/KOREATECH/2024-2_DL/link_dl\n"
     ]
    }
   ],
   "source": [
    "import torch\n",
    "import os\n",
    "from pathlib import Path\n",
    "from datetime import datetime\n",
    "import wandb\n",
    "\n",
    "# BASE_PATH = str(Path(__file__).resolve().parent.parent.parent) # BASE_PATH: /Users/yhhan/git/link_dl\n",
    "BASE_PATH = str(Path.cwd().parent.parent.parent)  # 현재 디렉토리 기준으로 부모 디렉토리 이동\n",
    "print(BASE_PATH)"
   ]
  },
  {
   "cell_type": "code",
   "execution_count": 36,
   "metadata": {},
   "outputs": [],
   "source": [
    "import sys\n",
    "sys.path.append(BASE_PATH)"
   ]
  },
  {
   "cell_type": "code",
   "execution_count": 37,
   "metadata": {},
   "outputs": [],
   "source": [
    "# CURRENT_FILE_PATH = os.path.dirname(os.path.abspath(__file__))\n",
    "CURRENT_FILE_PATH = str(Path.cwd())\n",
    "CHECKPOINT_FILE_PATH = os.path.join(CURRENT_FILE_PATH, \"checkpoints\")\n",
    "\n",
    "if not os.path.isdir(CHECKPOINT_FILE_PATH):\n",
    "  os.makedirs(os.path.join(CURRENT_FILE_PATH, \"checkpoints\"))"
   ]
  },
  {
   "cell_type": "code",
   "execution_count": 38,
   "metadata": {},
   "outputs": [],
   "source": [
    "from _01_code._15_lstm_and_its_application.f_arg_parser import get_parser\n",
    "# from _01_code._15_lstm_and_its_application.g_crypto_currency_regression_train_lstm import get_btc_krw_data\n",
    "# from _01_code._15_lstm_and_its_application.i_crypto_currency_classification_train_lstm import get_model"
   ]
  },
  {
   "cell_type": "code",
   "execution_count": 39,
   "metadata": {},
   "outputs": [],
   "source": [
    "def test(test_model):\n",
    "  _, _, test_data_loader = get_btc_krw_data(is_regression=False)\n",
    "\n",
    "  test_model.eval()\n",
    "\n",
    "  num_corrects_test = 0\n",
    "  num_tested_samples = 0\n",
    "\n",
    "  print(\"[TEST DATA]\")\n",
    "  with torch.no_grad():\n",
    "    for test_batch in test_data_loader:\n",
    "      input_test, target_test = test_batch\n",
    "\n",
    "      output_test = test_model(input_test)\n",
    "\n",
    "      predicted_test = torch.argmax(output_test, dim=1)\n",
    "      num_corrects_test += torch.sum(torch.eq(predicted_test, target_test))\n",
    "\n",
    "      num_tested_samples += len(input_test)\n",
    "\n",
    "    test_accuracy = 100.0 * num_corrects_test / num_tested_samples\n",
    "\n",
    "    print(f\"TEST RESULTS: {test_accuracy:6.3f}%\")\n",
    "\n",
    "    for idx, (output, target) in enumerate(zip(output_test, target_test)):\n",
    "      print(\"{0:2}: {1:6,.2f} <--> {2:6,.2f}\".format(\n",
    "        idx, torch.argmax(output).item(), target.item()\n",
    "      ))"
   ]
  },
  {
   "cell_type": "code",
   "execution_count": 40,
   "metadata": {},
   "outputs": [],
   "source": [
    "def main(args):\n",
    "  run_time_str = datetime.now().astimezone().strftime('%Y-%m-%d_%H-%M-%S')\n",
    "\n",
    "  config = {\n",
    "    'epochs': args.epochs,\n",
    "    'batch_size': args.batch_size,\n",
    "    'validation_intervals': args.validation_intervals,\n",
    "    'learning_rate': args.learning_rate,\n",
    "    'early_stop_patience': args.early_stop_patience,\n",
    "    'early_stop_delta': args.early_stop_delta,\n",
    "  }\n",
    "\n",
    "  project_name = \"lstm_classification_btc_krw\"\n",
    "  wandb.init(\n",
    "    mode=\"disabled\",\n",
    "    project=project_name,\n",
    "    notes=\"btc_krw experiment with lstm\",\n",
    "    tags=[\"lstm\", \"regression\", \"btc_krw\"],\n",
    "    name=run_time_str,\n",
    "    config=config\n",
    "  )\n",
    "\n",
    "  test_model = get_model()\n",
    "\n",
    "  latest_file_path = os.path.join(\n",
    "    CHECKPOINT_FILE_PATH, f\"{project_name}_checkpoint_latest.pt\"\n",
    "  )\n",
    "  print(\"MODEL FILE: {0}\".format(latest_file_path))\n",
    "  test_model.load_state_dict(torch.load(latest_file_path, map_location=torch.device('cpu')))\n",
    "\n",
    "  test(test_model)"
   ]
  },
  {
   "cell_type": "code",
   "execution_count": 41,
   "metadata": {},
   "outputs": [
    {
     "name": "stdout",
     "output_type": "stream",
     "text": [
      "MODEL FILE: /data/2_data_server/nlp-05/KOREATECH/2024-2_DL/link_dl/_03_your_code/CSE533/hw4/checkpoints/lstm_classification_btc_krw_checkpoint_latest.pt\n"
     ]
    },
    {
     "name": "stderr",
     "output_type": "stream",
     "text": [
      "/tmp/ipykernel_42112/510403193.py:29: FutureWarning: You are using `torch.load` with `weights_only=False` (the current default value), which uses the default pickle module implicitly. It is possible to construct malicious pickle data which will execute arbitrary code during unpickling (See https://github.com/pytorch/pytorch/blob/main/SECURITY.md#untrusted-models for more details). In a future release, the default value for `weights_only` will be flipped to `True`. This limits the functions that could be executed during unpickling. Arbitrary objects will no longer be allowed to be loaded via this mode unless they are explicitly allowlisted by the user via `torch.serialization.add_safe_globals`. We recommend you start setting `weights_only=True` for any use case where you don't have full control of the loaded file. Please open an issue on GitHub for any issues related to this experimental feature.\n",
      "  test_model.load_state_dict(torch.load(latest_file_path, map_location=torch.device('cpu')))\n"
     ]
    },
    {
     "name": "stdout",
     "output_type": "stream",
     "text": [
      "[TEST DATA]\n",
      "TEST RESULTS: 60.000%\n",
      " 0:   1.00 <-->   1.00\n",
      " 1:   1.00 <-->   1.00\n",
      " 2:   1.00 <-->   0.00\n",
      " 3:   1.00 <-->   1.00\n",
      " 4:   1.00 <-->   1.00\n",
      " 5:   1.00 <-->   0.00\n",
      " 6:   1.00 <-->   1.00\n",
      " 7:   1.00 <-->   1.00\n",
      " 8:   1.00 <-->   0.00\n",
      " 9:   1.00 <-->   0.00\n"
     ]
    }
   ],
   "source": [
    "if __name__ == \"__main__\":\n",
    "  parser = get_parser()\n",
    "  args = parser.parse_args([\n",
    "      '--no-wandb',                    # wandb 비활성화 (False)\n",
    "      '--batch_size', '2048',          # batch_size 기본값\n",
    "      '--epochs', '10000',             # epochs 기본값 \n",
    "      '--learning_rate', '0.0001',     # learning_rate 기본값 (1e-4)\n",
    "      '--weight_decay', '0.0',         # weight_decay 기본값\n",
    "      '--validation_intervals', '30',   # validation_intervals 기본값\n",
    "      '--early_stop_patience', '30',   # early_stop_patience 기본값\n",
    "      '--early_stop_delta', '0.000001' # early_stop_delta 기본값\n",
    "  ])\n",
    "  main(args)"
   ]
  },
  {
   "cell_type": "markdown",
   "metadata": {},
   "source": [
    "#### [문제 2] 적절한 새로운 모델 구성 및 하이퍼파라미터 찾기\n",
    "- Classification 학습을 위한 데이터 관련 설정 값\n",
    "    - sequence_size = 21, validation_size = 150, test_size = 30, is_regression = True"
   ]
  },
  {
   "cell_type": "markdown",
   "metadata": {},
   "source": [
    "##### regression_train_lstm"
   ]
  },
  {
   "cell_type": "code",
   "execution_count": 77,
   "metadata": {},
   "outputs": [
    {
     "name": "stdout",
     "output_type": "stream",
     "text": [
      "/data/2_data_server/nlp-05/KOREATECH/2024-2_DL/link_dl\n"
     ]
    }
   ],
   "source": [
    "import torch\n",
    "from torch import nn, optim\n",
    "from torch.utils.data import DataLoader\n",
    "from datetime import datetime\n",
    "import os\n",
    "import wandb\n",
    "from pathlib import Path\n",
    "\n",
    "# BASE_PATH = str(Path(__file__).resolve().parent.parent.parent) # BASE_PATH: /Users/yhhan/git/link_dl\n",
    "BASE_PATH = str(Path.cwd().parent.parent.parent)  # 현재 디렉토리 기준으로 부모 디렉토리 이동\n",
    "print(BASE_PATH)\n",
    "\n",
    "import sys\n",
    "sys.path.append(BASE_PATH)\n",
    "\n",
    "# CURRENT_FILE_PATH = os.path.dirname(os.path.abspath(__file__))\n",
    "CURRENT_FILE_PATH = str(Path.cwd())\n",
    "CHECKPOINT_FILE_PATH = os.path.join(CURRENT_FILE_PATH, \"checkpoints\")\n",
    "\n",
    "if not os.path.isdir(CHECKPOINT_FILE_PATH):\n",
    "  os.makedirs(os.path.join(CURRENT_FILE_PATH, \"checkpoints\"))\n",
    "\n",
    "from _01_code._15_lstm_and_its_application.f_arg_parser import get_parser\n",
    "from _01_code._14_rnn.g_rnn_trainer import RegressionTrainer\n",
    "# from _01_code._03_real_world_data_to_tensors.p_cryptocurrency_dataset_dataloader import get_cryptocurrency_data, \\\n",
    "#   CryptoCurrencyDataset\n",
    "\n",
    "def get_btc_krw_data(sequence_size=10, validation_size=100, test_size=10, is_regression=True):\n",
    "   # 비트코인 가격 데이터를 학습/검증/테스트 세트로 분리하는 함수\n",
    "   \n",
    "   # 파라미터 설명:\n",
    "   # sequence_size: 입력 시퀀스의 길이 (몇 일치 데이터를 보고 예측할지)\n",
    "   # validation_size: 검증 데이터셋의 크기\n",
    "   # test_size: 테스트 데이터셋의 크기 \n",
    "   # is_regression: True이면 회귀 문제, False이면 분류 문제로 처리\n",
    "\n",
    "   # get_cryptocurrency_data 함수를 호출하여 데이터 분할\n",
    "   X_train, X_validation, X_test, y_train, y_validation, y_test, y_train_date, y_validation_date, y_test_date \\\n",
    "       = get_cryptocurrency_data(\n",
    "           sequence_size=sequence_size,\n",
    "           validation_size=validation_size, \n",
    "           test_size=test_size,\n",
    "           target_column='Close',  # 종가를 예측 타겟으로 사용\n",
    "           y_normalizer=1.0e7,     # y값을 정규화하기 위한 스케일링 팩터\n",
    "           is_regression=is_regression\n",
    "       )\n",
    "\n",
    "   # 반환되는 데이터 형태:\n",
    "   # X_train.shape: [3212, 10, 5] - 3212개 샘플, 각 10일치 시퀀스, 5개 특성\n",
    "   # X_validation.shape: [100, 10, 5] - 100개 검증 샘플\n",
    "   # X_test.shape: [10, 10, 5] - 10개 테스트 샘플\n",
    "   # y_train.shape: [3212] - 각 시퀀스에 대한 타겟값\n",
    "   # y_validation.shape: [100]\n",
    "   # y_test.shape: [10]\n",
    "\n",
    "   # CryptoCurrencyDataset 클래스를 사용하여 PyTorch Dataset 객체 생성\n",
    "   train_crypto_currency_dataset = CryptoCurrencyDataset(X=X_train, y=y_train)\n",
    "   validation_crypto_currency_dataset = CryptoCurrencyDataset(X=X_validation, y=y_validation)\n",
    "   test_crypto_currency_dataset = CryptoCurrencyDataset(X=X_test, y=y_test)\n",
    "\n",
    "   # DataLoader를 사용하여 배치 처리를 위한 이터레이터 생성\n",
    "   train_data_loader = DataLoader(\n",
    "       dataset=train_crypto_currency_dataset, \n",
    "       batch_size=wandb.config.batch_size,  # wandb에 설정된 배치 크기 사용\n",
    "       shuffle=True  # 매 에폭마다 데이터 순서를 섞음\n",
    "   )\n",
    "   \n",
    "   validation_data_loader = DataLoader(\n",
    "       dataset=validation_crypto_currency_dataset,\n",
    "       batch_size=wandb.config.batch_size,\n",
    "       shuffle=True\n",
    "   )\n",
    "   \n",
    "   test_data_loader = DataLoader(\n",
    "       dataset=test_crypto_currency_dataset,\n",
    "       batch_size=len(test_crypto_currency_dataset),  # 테스트는 전체 데이터를 한 번에 처리\n",
    "       shuffle=True\n",
    "   )\n",
    "\n",
    "   # 생성된 DataLoader 객체들 반환\n",
    "   return train_data_loader, validation_data_loader, test_data_loader\n",
    "\n",
    "def get_model():\n",
    "   # LSTM과 FCN을 결합한 시계열 예측 모델 클래스 정의\n",
    "   class MyModel(nn.Module):\n",
    "       def __init__(self, n_input, n_output):\n",
    "           # n_input: 입력 특성의 수 (여기서는 5개: Open, High, Low, Close, Volume 등)\n",
    "           # n_output: 출력값의 수 (여기서는 1개: 다음 날의 종가 예측)\n",
    "           super().__init__()\n",
    "\n",
    "           # LSTM 레이어 정의\n",
    "           self.lstm = nn.LSTM(\n",
    "               input_size=n_input,     # 입력 특성 수\n",
    "               hidden_size=128,        # LSTM의 은닉 상태 크기\n",
    "               num_layers=2,           ## LSTM layers 그대로로\n",
    "               batch_first=True,       # 입력 텐서의 형태가 [batch_size, sequence_length, n_input]\n",
    "               dropout=0.2             ## Dropout 적용\n",
    "           )\n",
    "\n",
    "           # 완전연결층(Fully Connected Layer) 정의\n",
    "           self.fcn = nn.Linear(\n",
    "               in_features=128,        # LSTM의 은닉 상태 크기와 동일\n",
    "               out_features=n_output   # 출력값의 수 (예측값)\n",
    "           )\n",
    "\n",
    "       def forward(self, x):\n",
    "           # x의 예상되는 입력 shape: [batch_size, sequence_length, n_input]\n",
    "           \n",
    "           # LSTM 레이어 통과\n",
    "           # x: LSTM의 출력값, hidden: 마지막 은닉 상태와 셀 상태\n",
    "           x, hidden = self.lstm(x)\n",
    "           # x의 shape: [batch_size, sequence_length, hidden_size]\n",
    "\n",
    "           # 마지막 시점의 출력만 선택\n",
    "           x = x[:, -1, :]  \n",
    "           # x의 shape: [batch_size, hidden_size]\n",
    "           # [:, -1, :]: 모든 배치(-1 인덱스)의 마지막 시점 출력을 선택\n",
    "\n",
    "           # 완전연결층을 통과시켜 최종 예측값 생성\n",
    "           x = self.fcn(x)\n",
    "           # x의 shape: [batch_size, n_output]\n",
    "\n",
    "           return x\n",
    "\n",
    "   # 모델 인스턴스 생성\n",
    "   # n_input=5: 입력 특성 5개\n",
    "   # n_output=1: 예측값 1개 (다음 날의 종가)\n",
    "   my_model = MyModel(n_input=5, n_output=1)\n",
    "\n",
    "   return my_model\n"
   ]
  },
  {
   "cell_type": "code",
   "execution_count": 78,
   "metadata": {},
   "outputs": [],
   "source": [
    "def main(args):\n",
    "    # 현재 시간을 문자열로 변환하여 실험 구분에 사용\n",
    "    run_time_str = datetime.now().astimezone().strftime('%Y-%m-%d_%H-%M-%S')\n",
    "\n",
    "    # wandb에서 추적할 하이퍼파라미터 설정\n",
    "    config = {\n",
    "        'epochs': args.epochs,                # 총 학습 에폭 수\n",
    "        'batch_size': args.batch_size,        # 배치 크기\n",
    "        'validation_intervals': args.validation_intervals,  # 검증을 수행할 간격\n",
    "        'learning_rate': args.learning_rate,  # 학습률\n",
    "        'early_stop_patience': args.early_stop_patience,  # 조기 종료를 위한 인내심\n",
    "        'early_stop_delta': args.early_stop_delta,        # 조기 종료를 위한 최소 개선값\n",
    "        'weight_decay': args.weight_decay     # L2 정규화 계수\n",
    "    }\n",
    "\n",
    "    # Weights & Biases 초기화\n",
    "    project_name = \"lstm_regression_btc_krw\"\n",
    "    wandb.init(\n",
    "        mode=\"online\" if args.wandb else \"disabled\",  # wandb 사용 여부 설정\n",
    "        project=project_name,                         # 프로젝트 이름\n",
    "        notes=\"btc_krw experiment with lstm\",        # 실험 노트\n",
    "        tags=[\"lstm\", \"regression\", \"btc_krw\"],      # 실험 태그\n",
    "        name=run_time_str,                           # 실험 이름(현재 시간 기반)\n",
    "        config=config                                # 설정된 하이퍼파라미터\n",
    "    )\n",
    "    # 입력 인자와 wandb 설정 출력\n",
    "    print(args)\n",
    "    print(wandb.config)\n",
    "\n",
    "    # wandb.config에 args 값을 업데이트\n",
    "    wandb.config.update(args.__dict__)\n",
    "\n",
    "    # 데이터 로더 생성 (테스트 데이터 로더는 현재 사용하지 않음)\n",
    "    train_data_loader, validation_data_loader, _ = get_btc_krw_data()\n",
    "    \n",
    "    # GPU 사용 가능 여부 확인 및 디바이스 설정\n",
    "    device = torch.device(\"cuda:0\" if torch.cuda.is_available() else \"cpu\")\n",
    "    print(f\"Training on device {device}.\")\n",
    "\n",
    "    # 모델 생성 및 지정된 디바이스로 이동\n",
    "    model = get_model()\n",
    "    model.to(device)\n",
    "\n",
    "    # Adam 옵티마이저 설정\n",
    "    # learning_rate와 weight_decay는 wandb config에서 가져옴\n",
    "    optimizer = optim.Adam(\n",
    "        model.parameters(), \n",
    "        lr=wandb.config.learning_rate, \n",
    "        weight_decay=wandb.config.weight_decay\n",
    "    )\n",
    "\n",
    "    # 회귀 학습을 위한 트레이너 객체 생성\n",
    "    regression_trainer = RegressionTrainer(\n",
    "        project_name,              # 프로젝트 이름\n",
    "        model,                     # 학습할 모델\n",
    "        optimizer,                 # 옵티마이저\n",
    "        train_data_loader,         # 학습 데이터 로더\n",
    "        validation_data_loader,    # 검증 데이터 로더\n",
    "        None,                      # 테스트 데이터 로더(사용하지 않음)\n",
    "        run_time_str,             # 실험 구분을 위한 시간 문자열\n",
    "        wandb,                     # wandb 객체\n",
    "        device,                    # 학습 디바이스\n",
    "        CHECKPOINT_FILE_PATH       # 체크포인트 저장 경로\n",
    "    )\n",
    "    \n",
    "    # 학습 실행\n",
    "    regression_trainer.train_loop()\n",
    "\n",
    "    # wandb 실험 종료\n",
    "    wandb.finish()"
   ]
  },
  {
   "cell_type": "code",
   "execution_count": 79,
   "metadata": {},
   "outputs": [
    {
     "name": "stdout",
     "output_type": "stream",
     "text": [
      "Namespace(wandb=True, epochs=10000, batch_size=2048, validation_intervals=30, learning_rate=0.0001, early_stop_patience=30, early_stop_delta=1e-06, weight_decay=0.0001)\n"
     ]
    },
    {
     "data": {
      "text/html": [
       "Tracking run with wandb version 0.19.1"
      ],
      "text/plain": [
       "<IPython.core.display.HTML object>"
      ]
     },
     "metadata": {},
     "output_type": "display_data"
    },
    {
     "data": {
      "text/html": [
       "Run data is saved locally in <code>/data/2_data_server/nlp-05/KOREATECH/2024-2_DL/link_dl/_03_your_code/CSE533/hw4/wandb/run-20241220_224545-2byuyp33</code>"
      ],
      "text/plain": [
       "<IPython.core.display.HTML object>"
      ]
     },
     "metadata": {},
     "output_type": "display_data"
    },
    {
     "data": {
      "text/html": [
       "Syncing run <strong><a href='https://wandb.ai/chosuyeon-korea-university-of-technology-and-education/lstm_regression_btc_krw/runs/2byuyp33' target=\"_blank\">2024-12-20_22-45-45</a></strong> to <a href='https://wandb.ai/chosuyeon-korea-university-of-technology-and-education/lstm_regression_btc_krw' target=\"_blank\">Weights & Biases</a> (<a href='https://wandb.me/developer-guide' target=\"_blank\">docs</a>)<br>"
      ],
      "text/plain": [
       "<IPython.core.display.HTML object>"
      ]
     },
     "metadata": {},
     "output_type": "display_data"
    },
    {
     "data": {
      "text/html": [
       " View project at <a href='https://wandb.ai/chosuyeon-korea-university-of-technology-and-education/lstm_regression_btc_krw' target=\"_blank\">https://wandb.ai/chosuyeon-korea-university-of-technology-and-education/lstm_regression_btc_krw</a>"
      ],
      "text/plain": [
       "<IPython.core.display.HTML object>"
      ]
     },
     "metadata": {},
     "output_type": "display_data"
    },
    {
     "data": {
      "text/html": [
       " View run at <a href='https://wandb.ai/chosuyeon-korea-university-of-technology-and-education/lstm_regression_btc_krw/runs/2byuyp33' target=\"_blank\">https://wandb.ai/chosuyeon-korea-university-of-technology-and-education/lstm_regression_btc_krw/runs/2byuyp33</a>"
      ],
      "text/plain": [
       "<IPython.core.display.HTML object>"
      ]
     },
     "metadata": {},
     "output_type": "display_data"
    },
    {
     "name": "stdout",
     "output_type": "stream",
     "text": [
      "Namespace(wandb=True, epochs=10000, batch_size=2048, validation_intervals=30, learning_rate=0.0001, early_stop_patience=30, early_stop_delta=1e-06, weight_decay=0.0001)\n",
      "{'epochs': 10000, 'batch_size': 2048, 'validation_intervals': 30, 'learning_rate': 0.0001, 'early_stop_patience': 30, 'early_stop_delta': 1e-06, 'weight_decay': 0.0001}\n",
      "Training on device cuda:0.\n",
      "[Epoch   1] T_loss: 10.61363, V_loss: 81.14098, Early stopping is stated! | T_time: 00:00:00, T_speed: 0.036\n",
      "[Epoch  30] T_loss: 7.13531, V_loss: 52.97094, V_loss decreased (81.14098 --> 52.97094). Saving model... | T_time: 00:00:00, T_speed: 0.039\n",
      "[Epoch  60] T_loss: 0.72913, V_loss: 11.44549, V_loss decreased (52.97094 --> 11.44549). Saving model... | T_time: 00:00:01, T_speed: 0.104\n",
      "[Epoch  90] T_loss: 0.37553, V_loss: 7.40900, V_loss decreased (11.44549 --> 7.40900). Saving model... | T_time: 00:00:02, T_speed: 0.236\n",
      "[Epoch 120] T_loss: 0.26352, V_loss: 5.23286, V_loss decreased (7.40900 --> 5.23286). Saving model... | T_time: 00:00:03, T_speed: 0.603\n",
      "[Epoch 150] T_loss: 0.19041, V_loss: 3.98439, V_loss decreased (5.23286 --> 3.98439). Saving model... | T_time: 00:00:04, T_speed: 4.860\n",
      "[Epoch 180] T_loss: 0.13220, V_loss: 3.03718, V_loss decreased (3.98439 --> 3.03718). Saving model... | T_time: 00:00:04, T_speed: 0.184\n",
      "[Epoch 210] T_loss: 0.09438, V_loss: 2.37535, V_loss decreased (3.03718 --> 2.37535). Saving model... | T_time: 00:00:05, T_speed: 0.257\n",
      "[Epoch 240] T_loss: 0.07590, V_loss: 2.02141, V_loss decreased (2.37535 --> 2.02141). Saving model... | T_time: 00:00:06, T_speed: 0.317\n",
      "[Epoch 270] T_loss: 0.06710, V_loss: 1.82580, V_loss decreased (2.02141 --> 1.82580). Saving model... | T_time: 00:00:07, T_speed: 0.496\n",
      "[Epoch 300] T_loss: 0.06125, V_loss: 1.69438, V_loss decreased (1.82580 --> 1.69438). Saving model... | T_time: 00:00:08, T_speed: 0.865\n",
      "[Epoch 330] T_loss: 0.05727, V_loss: 1.60303, V_loss decreased (1.69438 --> 1.60303). Saving model... | T_time: 00:00:09, T_speed: 2.091\n",
      "[Epoch 360] T_loss: 0.05467, V_loss: 1.54077, V_loss decreased (1.60303 --> 1.54077). Saving model... | T_time: 00:00:10, T_speed: 4.355\n",
      "[Epoch 390] T_loss: 0.05182, V_loss: 1.47838, V_loss decreased (1.54077 --> 1.47838). Saving model... | T_time: 00:00:10, T_speed: 0.453\n",
      "[Epoch 420] T_loss: 0.04974, V_loss: 1.44662, V_loss decreased (1.47838 --> 1.44662). Saving model... | T_time: 00:00:11, T_speed: 0.592\n",
      "[Epoch 450] T_loss: 0.04777, V_loss: 1.39329, V_loss decreased (1.44662 --> 1.39329). Saving model... | T_time: 00:00:12, T_speed: 0.852\n",
      "[Epoch 480] T_loss: 0.04631, V_loss: 1.36075, V_loss decreased (1.39329 --> 1.36075). Saving model... | T_time: 00:00:13, T_speed: 1.496\n",
      "[Epoch 510] T_loss: 0.04458, V_loss: 1.33074, V_loss decreased (1.36075 --> 1.33074). Saving model... | T_time: 00:00:14, T_speed: 1.993\n",
      "[Epoch 540] T_loss: 0.04264, V_loss: 1.29842, V_loss decreased (1.33074 --> 1.29842). Saving model... | T_time: 00:00:15, T_speed: 8.700\n",
      "[Epoch 570] T_loss: 0.04013, V_loss: 1.26836, V_loss decreased (1.29842 --> 1.26836). Saving model... | T_time: 00:00:15, T_speed: 0.661\n",
      "[Epoch 600] T_loss: 0.03905, V_loss: 1.23914, V_loss decreased (1.26836 --> 1.23914). Saving model... | T_time: 00:00:16, T_speed: 0.905\n",
      "[Epoch 630] T_loss: 0.03797, V_loss: 1.20883, V_loss decreased (1.23914 --> 1.20883). Saving model... | T_time: 00:00:17, T_speed: 1.021\n",
      "[Epoch 660] T_loss: 0.03578, V_loss: 1.17970, V_loss decreased (1.20883 --> 1.17970). Saving model... | T_time: 00:00:18, T_speed: 1.493\n",
      "[Epoch 690] T_loss: 0.03499, V_loss: 1.15328, V_loss decreased (1.17970 --> 1.15328). Saving model... | T_time: 00:00:19, T_speed: 2.663\n",
      "[Epoch 720] T_loss: 0.03410, V_loss: 1.12534, V_loss decreased (1.15328 --> 1.12534). Saving model... | T_time: 00:00:20, T_speed: 16.101\n",
      "[Epoch 750] T_loss: 0.03372, V_loss: 1.10232, V_loss decreased (1.12534 --> 1.10232). Saving model... | T_time: 00:00:20, T_speed: 0.751\n",
      "[Epoch 780] T_loss: 0.03309, V_loss: 1.07844, V_loss decreased (1.10232 --> 1.07844). Saving model... | T_time: 00:00:21, T_speed: 0.983\n",
      "[Epoch 810] T_loss: 0.03209, V_loss: 1.05642, V_loss decreased (1.07844 --> 1.05642). Saving model... | T_time: 00:00:22, T_speed: 1.304\n",
      "[Epoch 840] T_loss: 0.03110, V_loss: 1.03735, V_loss decreased (1.05642 --> 1.03735). Saving model... | T_time: 00:00:23, T_speed: 1.562\n",
      "[Epoch 870] T_loss: 0.03062, V_loss: 1.01412, V_loss decreased (1.03735 --> 1.01412). Saving model... | T_time: 00:00:24, T_speed: 2.614\n",
      "[Epoch 900] T_loss: 0.02966, V_loss: 0.99540, V_loss decreased (1.01412 --> 0.99540). Saving model... | T_time: 00:00:25, T_speed: 7.401\n",
      "[Epoch 930] T_loss: 0.02911, V_loss: 0.97734, V_loss decreased (0.99540 --> 0.97734). Saving model... | T_time: 00:00:25, T_speed: 1.027\n",
      "[Epoch 960] T_loss: 0.02911, V_loss: 0.95899, V_loss decreased (0.97734 --> 0.95899). Saving model... | T_time: 00:00:26, T_speed: 1.157\n",
      "[Epoch 990] T_loss: 0.02855, V_loss: 0.94485, V_loss decreased (0.95899 --> 0.94485). Saving model... | T_time: 00:00:27, T_speed: 1.584\n",
      "[Epoch 1020] T_loss: 0.02787, V_loss: 0.92656, V_loss decreased (0.94485 --> 0.92656). Saving model... | T_time: 00:00:28, T_speed: 2.470\n",
      "[Epoch 1050] T_loss: 0.02809, V_loss: 0.90954, V_loss decreased (0.92656 --> 0.90954). Saving model... | T_time: 00:00:29, T_speed: 5.316\n",
      "[Epoch 1080] T_loss: 0.02788, V_loss: 0.89233, V_loss decreased (0.90954 --> 0.89233). Saving model... | T_time: 00:00:30, T_speed: 10.557\n",
      "[Epoch 1110] T_loss: 0.02668, V_loss: 0.87876, V_loss decreased (0.89233 --> 0.87876). Saving model... | T_time: 00:00:30, T_speed: 1.257\n",
      "[Epoch 1140] T_loss: 0.02659, V_loss: 0.85985, V_loss decreased (0.87876 --> 0.85985). Saving model... | T_time: 00:00:31, T_speed: 1.720\n",
      "[Epoch 1170] T_loss: 0.02618, V_loss: 0.84123, V_loss decreased (0.85985 --> 0.84123). Saving model... | T_time: 00:00:32, T_speed: 2.449\n",
      "[Epoch 1200] T_loss: 0.02473, V_loss: 0.82883, V_loss decreased (0.84123 --> 0.82883). Saving model... | T_time: 00:00:33, T_speed: 3.028\n",
      "[Epoch 1230] T_loss: 0.02552, V_loss: 0.81479, V_loss decreased (0.82883 --> 0.81479). Saving model... | T_time: 00:00:34, T_speed: 6.679\n",
      "[Epoch 1260] T_loss: 0.02491, V_loss: 0.80108, V_loss decreased (0.81479 --> 0.80108). Saving model... | T_time: 00:00:34, T_speed: 1.275\n",
      "[Epoch 1290] T_loss: 0.02513, V_loss: 0.78633, V_loss decreased (0.80108 --> 0.78633). Saving model... | T_time: 00:00:35, T_speed: 1.660\n",
      "[Epoch 1320] T_loss: 0.02455, V_loss: 0.77011, V_loss decreased (0.78633 --> 0.77011). Saving model... | T_time: 00:00:36, T_speed: 1.845\n",
      "[Epoch 1350] T_loss: 0.02396, V_loss: 0.75517, V_loss decreased (0.77011 --> 0.75517). Saving model... | T_time: 00:00:37, T_speed: 2.757\n",
      "[Epoch 1380] T_loss: 0.02374, V_loss: 0.74113, V_loss decreased (0.75517 --> 0.74113). Saving model... | T_time: 00:00:38, T_speed: 5.152\n",
      "[Epoch 1410] T_loss: 0.02389, V_loss: 0.72835, V_loss decreased (0.74113 --> 0.72835). Saving model... | T_time: 00:00:39, T_speed: 7.709\n",
      "[Epoch 1440] T_loss: 0.02354, V_loss: 0.71528, V_loss decreased (0.72835 --> 0.71528). Saving model... | T_time: 00:00:39, T_speed: 1.493\n",
      "[Epoch 1470] T_loss: 0.02360, V_loss: 0.70177, V_loss decreased (0.71528 --> 0.70177). Saving model... | T_time: 00:00:40, T_speed: 1.979\n",
      "[Epoch 1500] T_loss: 0.02278, V_loss: 0.69076, V_loss decreased (0.70177 --> 0.69076). Saving model... | T_time: 00:00:41, T_speed: 2.873\n",
      "[Epoch 1530] T_loss: 0.02216, V_loss: 0.67812, V_loss decreased (0.69076 --> 0.67812). Saving model... | T_time: 00:00:42, T_speed: 3.649\n",
      "[Epoch 1560] T_loss: 0.02205, V_loss: 0.66610, V_loss decreased (0.67812 --> 0.66610). Saving model... | T_time: 00:00:43, T_speed: 7.898\n",
      "[Epoch 1590] T_loss: 0.02220, V_loss: 0.65568, V_loss decreased (0.66610 --> 0.65568). Saving model... | T_time: 00:00:44, T_speed: 91.238\n",
      "[Epoch 1620] T_loss: 0.02156, V_loss: 0.64145, V_loss decreased (0.65568 --> 0.64145). Saving model... | T_time: 00:00:44, T_speed: 1.955\n",
      "[Epoch 1650] T_loss: 0.02035, V_loss: 0.63389, V_loss decreased (0.64145 --> 0.63389). Saving model... | T_time: 00:00:45, T_speed: 2.133\n",
      "[Epoch 1680] T_loss: 0.02158, V_loss: 0.62536, V_loss decreased (0.63389 --> 0.62536). Saving model... | T_time: 00:00:46, T_speed: 2.807\n",
      "[Epoch 1710] T_loss: 0.02122, V_loss: 0.61193, V_loss decreased (0.62536 --> 0.61193). Saving model... | T_time: 00:00:47, T_speed: 4.214\n",
      "[Epoch 1740] T_loss: 0.02097, V_loss: 0.60455, V_loss decreased (0.61193 --> 0.60455). Saving model... | T_time: 00:00:48, T_speed: 6.784\n",
      "[Epoch 1770] T_loss: 0.02043, V_loss: 0.59107, V_loss decreased (0.60455 --> 0.59107). Saving model... | T_time: 00:00:49, T_speed: 10.711\n",
      "[Epoch 1800] T_loss: 0.01980, V_loss: 0.58341, V_loss decreased (0.59107 --> 0.58341). Saving model... | T_time: 00:00:49, T_speed: 1.874\n",
      "[Epoch 1830] T_loss: 0.02019, V_loss: 0.57315, V_loss decreased (0.58341 --> 0.57315). Saving model... | T_time: 00:00:50, T_speed: 2.295\n",
      "[Epoch 1860] T_loss: 0.01916, V_loss: 0.56613, V_loss decreased (0.57315 --> 0.56613). Saving model... | T_time: 00:00:51, T_speed: 3.075\n",
      "[Epoch 1890] T_loss: 0.02004, V_loss: 0.55789, V_loss decreased (0.56613 --> 0.55789). Saving model... | T_time: 00:00:52, T_speed: 3.314\n",
      "[Epoch 1920] T_loss: 0.01896, V_loss: 0.54981, V_loss decreased (0.55789 --> 0.54981). Saving model... | T_time: 00:00:53, T_speed: 5.338\n",
      "[Epoch 1950] T_loss: 0.01919, V_loss: 0.54326, V_loss decreased (0.54981 --> 0.54326). Saving model... | T_time: 00:00:54, T_speed: 12.097\n",
      "[Epoch 1980] T_loss: 0.01909, V_loss: 0.53280, V_loss decreased (0.54326 --> 0.53280). Saving model... | T_time: 00:00:54, T_speed: 2.053\n",
      "[Epoch 2010] T_loss: 0.01876, V_loss: 0.52833, V_loss decreased (0.53280 --> 0.52833). Saving model... | T_time: 00:00:55, T_speed: 2.266\n",
      "[Epoch 2040] T_loss: 0.01870, V_loss: 0.52130, V_loss decreased (0.52833 --> 0.52130). Saving model... | T_time: 00:00:56, T_speed: 3.053\n",
      "[Epoch 2070] T_loss: 0.01915, V_loss: 0.51500, V_loss decreased (0.52130 --> 0.51500). Saving model... | T_time: 00:00:57, T_speed: 4.434\n",
      "[Epoch 2100] T_loss: 0.01883, V_loss: 0.50822, V_loss decreased (0.51500 --> 0.50822). Saving model... | T_time: 00:00:58, T_speed: 4.822\n",
      "[Epoch 2130] T_loss: 0.01841, V_loss: 0.50538, V_loss decreased (0.50822 --> 0.50538). Saving model... | T_time: 00:00:59, T_speed: 9.430\n",
      "[Epoch 2160] T_loss: 0.01758, V_loss: 0.49943, V_loss decreased (0.50538 --> 0.49943). Saving model... | T_time: 00:00:59, T_speed: 2.162\n",
      "[Epoch 2190] T_loss: 0.01782, V_loss: 0.49006, V_loss decreased (0.49943 --> 0.49006). Saving model... | T_time: 00:01:00, T_speed: 2.694\n",
      "[Epoch 2220] T_loss: 0.01759, V_loss: 0.48744, V_loss decreased (0.49006 --> 0.48744). Saving model... | T_time: 00:01:01, T_speed: 3.023\n",
      "[Epoch 2250] T_loss: 0.01769, V_loss: 0.47935, V_loss decreased (0.48744 --> 0.47935). Saving model... | T_time: 00:01:02, T_speed: 4.259\n",
      "[Epoch 2280] T_loss: 0.01801, V_loss: 0.47498, V_loss decreased (0.47935 --> 0.47498). Saving model... | T_time: 00:01:03, T_speed: 7.136\n",
      "[Epoch 2310] T_loss: 0.01734, V_loss: 0.47050, V_loss decreased (0.47498 --> 0.47050). Saving model... | T_time: 00:01:04, T_speed: 20.924\n",
      "[Epoch 2340] T_loss: 0.01734, V_loss: 0.46511, V_loss decreased (0.47050 --> 0.46511). Saving model... | T_time: 00:01:05, T_speed: 107.001\n",
      "[Epoch 2370] T_loss: 0.01760, V_loss: 0.45983, V_loss decreased (0.46511 --> 0.45983). Saving model... | T_time: 00:01:05, T_speed: 2.766\n",
      "[Epoch 2400] T_loss: 0.01711, V_loss: 0.45292, V_loss decreased (0.45983 --> 0.45292). Saving model... | T_time: 00:01:06, T_speed: 3.466\n",
      "[Epoch 2430] T_loss: 0.01761, V_loss: 0.44995, V_loss decreased (0.45292 --> 0.44995). Saving model... | T_time: 00:01:07, T_speed: 4.948\n",
      "[Epoch 2460] T_loss: 0.01752, V_loss: 0.44602, V_loss decreased (0.44995 --> 0.44602). Saving model... | T_time: 00:01:08, T_speed: 8.922\n",
      "[Epoch 2490] T_loss: 0.01699, V_loss: 0.44148, V_loss decreased (0.44602 --> 0.44148). Saving model... | T_time: 00:01:09, T_speed: 13.452\n",
      "[Epoch 2520] T_loss: 0.01659, V_loss: 0.43765, V_loss decreased (0.44148 --> 0.43765). Saving model... | T_time: 00:01:09, T_speed: 2.553\n",
      "[Epoch 2550] T_loss: 0.01646, V_loss: 0.43211, V_loss decreased (0.43765 --> 0.43211). Saving model... | T_time: 00:01:10, T_speed: 2.979\n",
      "[Epoch 2580] T_loss: 0.01640, V_loss: 0.43072, V_loss decreased (0.43211 --> 0.43072). Saving model... | T_time: 00:01:11, T_speed: 3.760\n",
      "[Epoch 2610] T_loss: 0.01648, V_loss: 0.42842, V_loss decreased (0.43072 --> 0.42842). Saving model... | T_time: 00:01:12, T_speed: 4.233\n",
      "[Epoch 2640] T_loss: 0.01616, V_loss: 0.42065, V_loss decreased (0.42842 --> 0.42065). Saving model... | T_time: 00:01:13, T_speed: 6.486\n",
      "[Epoch 2670] T_loss: 0.01616, V_loss: 0.41824, V_loss decreased (0.42065 --> 0.41824). Saving model... | T_time: 00:01:14, T_speed: 7.845\n",
      "[Epoch 2700] T_loss: 0.01603, V_loss: 0.41712, V_loss decreased (0.41824 --> 0.41712). Saving model... | T_time: 00:01:15, T_speed: 21.695\n",
      "[Epoch 2730] T_loss: 0.01568, V_loss: 0.41110, V_loss decreased (0.41712 --> 0.41110). Saving model... | T_time: 00:01:15, T_speed: 3.017\n",
      "[Epoch 2760] T_loss: 0.01541, V_loss: 0.40908, V_loss decreased (0.41110 --> 0.40908). Saving model... | T_time: 00:01:16, T_speed: 3.996\n",
      "[Epoch 2790] T_loss: 0.01596, V_loss: 0.40188, V_loss decreased (0.40908 --> 0.40188). Saving model... | T_time: 00:01:17, T_speed: 5.775\n",
      "[Epoch 2820] T_loss: 0.01512, V_loss: 0.40207, Early stopping counter: 1 out of 30 | T_time: 00:01:18, T_speed: 7.048\n",
      "[Epoch 2850] T_loss: 0.01581, V_loss: 0.39880, V_loss decreased (0.40188 --> 0.39880). Saving model... | T_time: 00:01:19, T_speed: 18.281\n",
      "[Epoch 2880] T_loss: 0.01502, V_loss: 0.39711, V_loss decreased (0.39880 --> 0.39711). Saving model... | T_time: 00:01:19, T_speed: 3.053\n",
      "[Epoch 2910] T_loss: 0.01499, V_loss: 0.39013, V_loss decreased (0.39711 --> 0.39013). Saving model... | T_time: 00:01:20, T_speed: 4.017\n",
      "[Epoch 2940] T_loss: 0.01543, V_loss: 0.39058, Early stopping counter: 1 out of 30 | T_time: 00:01:21, T_speed: 4.088\n",
      "[Epoch 2970] T_loss: 0.01497, V_loss: 0.38571, V_loss decreased (0.39013 --> 0.38571). Saving model... | T_time: 00:01:22, T_speed: 6.171\n",
      "[Epoch 3000] T_loss: 0.01451, V_loss: 0.38698, Early stopping counter: 1 out of 30 | T_time: 00:01:23, T_speed: 9.273\n",
      "[Epoch 3030] T_loss: 0.01472, V_loss: 0.38225, V_loss decreased (0.38571 --> 0.38225). Saving model... | T_time: 00:01:24, T_speed: 34.561\n",
      "[Epoch 3060] T_loss: 0.01507, V_loss: 0.38091, V_loss decreased (0.38225 --> 0.38091). Saving model... | T_time: 00:01:25, T_speed: 26.936\n",
      "[Epoch 3090] T_loss: 0.01443, V_loss: 0.37720, V_loss decreased (0.38091 --> 0.37720). Saving model... | T_time: 00:01:25, T_speed: 3.350\n",
      "[Epoch 3120] T_loss: 0.01447, V_loss: 0.37433, V_loss decreased (0.37720 --> 0.37433). Saving model... | T_time: 00:01:26, T_speed: 4.337\n",
      "[Epoch 3150] T_loss: 0.01394, V_loss: 0.37343, V_loss decreased (0.37433 --> 0.37343). Saving model... | T_time: 00:01:27, T_speed: 6.079\n",
      "[Epoch 3180] T_loss: 0.01503, V_loss: 0.37006, V_loss decreased (0.37343 --> 0.37006). Saving model... | T_time: 00:01:28, T_speed: 6.621\n",
      "[Epoch 3210] T_loss: 0.01448, V_loss: 0.36643, V_loss decreased (0.37006 --> 0.36643). Saving model... | T_time: 00:01:29, T_speed: 11.782\n",
      "[Epoch 3240] T_loss: 0.01467, V_loss: 0.36653, Early stopping counter: 1 out of 30 | T_time: 00:01:30, T_speed: 62.130\n",
      "[Epoch 3270] T_loss: 0.01418, V_loss: 0.36342, V_loss decreased (0.36643 --> 0.36342). Saving model... | T_time: 00:01:30, T_speed: 3.505\n",
      "[Epoch 3300] T_loss: 0.01425, V_loss: 0.36526, Early stopping counter: 1 out of 30 | T_time: 00:01:31, T_speed: 4.230\n",
      "[Epoch 3330] T_loss: 0.01479, V_loss: 0.35939, V_loss decreased (0.36342 --> 0.35939). Saving model... | T_time: 00:01:32, T_speed: 6.094\n",
      "[Epoch 3360] T_loss: 0.01378, V_loss: 0.36214, Early stopping counter: 1 out of 30 | T_time: 00:01:33, T_speed: 8.927\n",
      "[Epoch 3390] T_loss: 0.01395, V_loss: 0.35609, V_loss decreased (0.35939 --> 0.35609). Saving model... | T_time: 00:01:34, T_speed: 13.006\n",
      "[Epoch 3420] T_loss: 0.01443, V_loss: 0.35207, V_loss decreased (0.35609 --> 0.35207). Saving model... | T_time: 00:01:35, T_speed: 40.998\n",
      "[Epoch 3450] T_loss: 0.01393, V_loss: 0.35232, Early stopping counter: 1 out of 30 | T_time: 00:01:35, T_speed: 3.822\n",
      "[Epoch 3480] T_loss: 0.01416, V_loss: 0.35285, Early stopping counter: 2 out of 30 | T_time: 00:01:36, T_speed: 5.297\n",
      "[Epoch 3510] T_loss: 0.01394, V_loss: 0.34628, V_loss decreased (0.35207 --> 0.34628). Saving model... | T_time: 00:01:37, T_speed: 6.525\n",
      "[Epoch 3540] T_loss: 0.01411, V_loss: 0.34368, V_loss decreased (0.34628 --> 0.34368). Saving model... | T_time: 00:01:38, T_speed: 10.465\n",
      "[Epoch 3570] T_loss: 0.01384, V_loss: 0.34818, Early stopping counter: 1 out of 30 | T_time: 00:01:39, T_speed: 17.835\n",
      "[Epoch 3600] T_loss: 0.01408, V_loss: 0.34647, Early stopping counter: 2 out of 30 | T_time: 00:01:39, T_speed: 3.725\n",
      "[Epoch 3630] T_loss: 0.01351, V_loss: 0.34284, V_loss decreased (0.34368 --> 0.34284). Saving model... | T_time: 00:01:40, T_speed: 4.274\n",
      "[Epoch 3660] T_loss: 0.01384, V_loss: 0.34333, Early stopping counter: 1 out of 30 | T_time: 00:01:41, T_speed: 5.450\n",
      "[Epoch 3690] T_loss: 0.01334, V_loss: 0.34265, V_loss decreased (0.34284 --> 0.34265). Saving model... | T_time: 00:01:42, T_speed: 8.713\n",
      "[Epoch 3720] T_loss: 0.01390, V_loss: 0.34109, V_loss decreased (0.34265 --> 0.34109). Saving model... | T_time: 00:01:43, T_speed: 16.092\n",
      "[Epoch 3750] T_loss: 0.01399, V_loss: 0.33881, V_loss decreased (0.34109 --> 0.33881). Saving model... | T_time: 00:01:44, T_speed: 22.109\n",
      "[Epoch 3780] T_loss: 0.01336, V_loss: 0.33786, V_loss decreased (0.33881 --> 0.33786). Saving model... | T_time: 00:01:44, T_speed: 3.901\n",
      "[Epoch 3810] T_loss: 0.01347, V_loss: 0.33529, V_loss decreased (0.33786 --> 0.33529). Saving model... | T_time: 00:01:45, T_speed: 4.843\n",
      "[Epoch 3840] T_loss: 0.01371, V_loss: 0.33094, V_loss decreased (0.33529 --> 0.33094). Saving model... | T_time: 00:01:46, T_speed: 6.502\n",
      "[Epoch 3870] T_loss: 0.01339, V_loss: 0.33488, Early stopping counter: 1 out of 30 | T_time: 00:01:47, T_speed: 7.621\n",
      "[Epoch 3900] T_loss: 0.01340, V_loss: 0.33292, Early stopping counter: 2 out of 30 | T_time: 00:01:48, T_speed: 14.841\n",
      "[Epoch 3930] T_loss: 0.01313, V_loss: 0.33257, Early stopping counter: 3 out of 30 | T_time: 00:01:49, T_speed: 260.800\n",
      "[Epoch 3960] T_loss: 0.01338, V_loss: 0.33351, Early stopping counter: 4 out of 30 | T_time: 00:01:49, T_speed: 4.484\n",
      "[Epoch 3990] T_loss: 0.01342, V_loss: 0.33033, V_loss decreased (0.33094 --> 0.33033). Saving model... | T_time: 00:01:50, T_speed: 6.243\n",
      "[Epoch 4020] T_loss: 0.01299, V_loss: 0.32897, V_loss decreased (0.33033 --> 0.32897). Saving model... | T_time: 00:01:51, T_speed: 9.420\n",
      "[Epoch 4050] T_loss: 0.01343, V_loss: 0.33391, Early stopping counter: 1 out of 30 | T_time: 00:01:52, T_speed: 17.400\n",
      "[Epoch 4080] T_loss: 0.01360, V_loss: 0.32691, V_loss decreased (0.32897 --> 0.32691). Saving model... | T_time: 00:01:53, T_speed: 35.465\n",
      "[Epoch 4110] T_loss: 0.01351, V_loss: 0.33089, Early stopping counter: 1 out of 30 | T_time: 00:01:53, T_speed: 4.450\n",
      "[Epoch 4140] T_loss: 0.01335, V_loss: 0.32626, V_loss decreased (0.32691 --> 0.32626). Saving model... | T_time: 00:01:54, T_speed: 6.038\n",
      "[Epoch 4170] T_loss: 0.01301, V_loss: 0.33010, Early stopping counter: 1 out of 30 | T_time: 00:01:55, T_speed: 8.408\n",
      "[Epoch 4200] T_loss: 0.01306, V_loss: 0.32673, Early stopping counter: 2 out of 30 | T_time: 00:01:56, T_speed: 11.728\n",
      "[Epoch 4230] T_loss: 0.01310, V_loss: 0.32697, Early stopping counter: 3 out of 30 | T_time: 00:01:57, T_speed: 39.012\n",
      "[Epoch 4260] T_loss: 0.01298, V_loss: 0.32547, V_loss decreased (0.32626 --> 0.32547). Saving model... | T_time: 00:01:57, T_speed: 4.974\n",
      "[Epoch 4290] T_loss: 0.01302, V_loss: 0.32528, V_loss decreased (0.32547 --> 0.32528). Saving model... | T_time: 00:01:58, T_speed: 6.741\n",
      "[Epoch 4320] T_loss: 0.01299, V_loss: 0.32845, Early stopping counter: 1 out of 30 | T_time: 00:01:59, T_speed: 8.091\n",
      "[Epoch 4350] T_loss: 0.01324, V_loss: 0.32813, Early stopping counter: 2 out of 30 | T_time: 00:02:00, T_speed: 14.651\n",
      "[Epoch 4380] T_loss: 0.01299, V_loss: 0.32485, V_loss decreased (0.32528 --> 0.32485). Saving model... | T_time: 00:02:01, T_speed: 78.828\n",
      "[Epoch 4410] T_loss: 0.01351, V_loss: 0.32423, V_loss decreased (0.32485 --> 0.32423). Saving model... | T_time: 00:02:01, T_speed: 5.265\n",
      "[Epoch 4440] T_loss: 0.01334, V_loss: 0.32570, Early stopping counter: 1 out of 30 | T_time: 00:02:02, T_speed: 6.509\n",
      "[Epoch 4470] T_loss: 0.01314, V_loss: 0.32740, Early stopping counter: 2 out of 30 | T_time: 00:02:03, T_speed: 7.534\n",
      "[Epoch 4500] T_loss: 0.01269, V_loss: 0.32599, Early stopping counter: 3 out of 30 | T_time: 00:02:04, T_speed: 12.877\n",
      "[Epoch 4530] T_loss: 0.01301, V_loss: 0.32700, Early stopping counter: 4 out of 30 | T_time: 00:02:05, T_speed: 20.168\n",
      "[Epoch 4560] T_loss: 0.01348, V_loss: 0.32991, Early stopping counter: 5 out of 30 | T_time: 00:02:05, T_speed: 4.669\n",
      "[Epoch 4590] T_loss: 0.01324, V_loss: 0.32100, V_loss decreased (0.32423 --> 0.32100). Saving model... | T_time: 00:02:06, T_speed: 6.021\n",
      "[Epoch 4620] T_loss: 0.01295, V_loss: 0.32473, Early stopping counter: 1 out of 30 | T_time: 00:02:07, T_speed: 8.071\n",
      "[Epoch 4650] T_loss: 0.01311, V_loss: 0.32601, Early stopping counter: 2 out of 30 | T_time: 00:02:08, T_speed: 10.404\n",
      "[Epoch 4680] T_loss: 0.01312, V_loss: 0.32218, Early stopping counter: 3 out of 30 | T_time: 00:02:09, T_speed: 23.607\n",
      "[Epoch 4710] T_loss: 0.01294, V_loss: 0.32677, Early stopping counter: 4 out of 30 | T_time: 00:02:09, T_speed: 4.968\n",
      "[Epoch 4740] T_loss: 0.01323, V_loss: 0.32092, V_loss decreased (0.32100 --> 0.32092). Saving model... | T_time: 00:02:10, T_speed: 6.795\n",
      "[Epoch 4770] T_loss: 0.01274, V_loss: 0.32804, Early stopping counter: 1 out of 30 | T_time: 00:02:11, T_speed: 9.264\n",
      "[Epoch 4800] T_loss: 0.01291, V_loss: 0.32355, Early stopping counter: 2 out of 30 | T_time: 00:02:12, T_speed: 12.083\n",
      "[Epoch 4830] T_loss: 0.01297, V_loss: 0.32808, Early stopping counter: 3 out of 30 | T_time: 00:02:13, T_speed: 32.455\n",
      "[Epoch 4860] T_loss: 0.01279, V_loss: 0.32378, Early stopping counter: 4 out of 30 | T_time: 00:02:13, T_speed: 5.390\n",
      "[Epoch 4890] T_loss: 0.01275, V_loss: 0.32138, Early stopping counter: 5 out of 30 | T_time: 00:02:14, T_speed: 7.473\n",
      "[Epoch 4920] T_loss: 0.01293, V_loss: 0.32305, Early stopping counter: 6 out of 30 | T_time: 00:02:15, T_speed: 9.401\n",
      "[Epoch 4950] T_loss: 0.01287, V_loss: 0.31949, V_loss decreased (0.32092 --> 0.31949). Saving model... | T_time: 00:02:16, T_speed: 17.707\n",
      "[Epoch 4980] T_loss: 0.01283, V_loss: 0.33006, Early stopping counter: 1 out of 30 | T_time: 00:02:17, T_speed: 55.976\n",
      "[Epoch 5010] T_loss: 0.01334, V_loss: 0.32628, Early stopping counter: 2 out of 30 | T_time: 00:02:17, T_speed: 5.913\n",
      "[Epoch 5040] T_loss: 0.01264, V_loss: 0.32798, Early stopping counter: 3 out of 30 | T_time: 00:02:18, T_speed: 6.962\n",
      "[Epoch 5070] T_loss: 0.01277, V_loss: 0.32534, Early stopping counter: 4 out of 30 | T_time: 00:02:19, T_speed: 10.707\n",
      "[Epoch 5100] T_loss: 0.01248, V_loss: 0.33030, Early stopping counter: 5 out of 30 | T_time: 00:02:20, T_speed: 22.937\n",
      "[Epoch 5130] T_loss: 0.01285, V_loss: 0.32685, Early stopping counter: 6 out of 30 | T_time: 00:02:21, T_speed: 52.870\n",
      "[Epoch 5160] T_loss: 0.01273, V_loss: 0.33365, Early stopping counter: 7 out of 30 | T_time: 00:02:21, T_speed: 5.978\n",
      "[Epoch 5190] T_loss: 0.01262, V_loss: 0.33045, Early stopping counter: 8 out of 30 | T_time: 00:02:22, T_speed: 8.424\n",
      "[Epoch 5220] T_loss: 0.01249, V_loss: 0.32639, Early stopping counter: 9 out of 30 | T_time: 00:02:23, T_speed: 14.255\n",
      "[Epoch 5250] T_loss: 0.01231, V_loss: 0.32967, Early stopping counter: 10 out of 30 | T_time: 00:02:24, T_speed: 21.659\n",
      "[Epoch 5280] T_loss: 0.01264, V_loss: 0.32799, Early stopping counter: 11 out of 30 | T_time: 00:02:24, T_speed: 5.336\n",
      "[Epoch 5310] T_loss: 0.01332, V_loss: 0.33357, Early stopping counter: 12 out of 30 | T_time: 00:02:25, T_speed: 7.173\n",
      "[Epoch 5340] T_loss: 0.01275, V_loss: 0.33916, Early stopping counter: 13 out of 30 | T_time: 00:02:26, T_speed: 10.852\n",
      "[Epoch 5370] T_loss: 0.01317, V_loss: 0.33200, Early stopping counter: 14 out of 30 | T_time: 00:02:27, T_speed: 14.134\n",
      "[Epoch 5400] T_loss: 0.01277, V_loss: 0.33569, Early stopping counter: 15 out of 30 | T_time: 00:02:28, T_speed: 40.723\n",
      "[Epoch 5430] T_loss: 0.01281, V_loss: 0.32955, Early stopping counter: 16 out of 30 | T_time: 00:02:28, T_speed: 6.138\n",
      "[Epoch 5460] T_loss: 0.01307, V_loss: 0.33301, Early stopping counter: 17 out of 30 | T_time: 00:02:29, T_speed: 8.629\n",
      "[Epoch 5490] T_loss: 0.01269, V_loss: 0.33433, Early stopping counter: 18 out of 30 | T_time: 00:02:30, T_speed: 10.890\n",
      "[Epoch 5520] T_loss: 0.01269, V_loss: 0.33132, Early stopping counter: 19 out of 30 | T_time: 00:02:31, T_speed: 21.710\n",
      "[Epoch 5550] T_loss: 0.01251, V_loss: 0.33419, Early stopping counter: 20 out of 30 | T_time: 00:02:32, T_speed: 764.884\n",
      "[Epoch 5580] T_loss: 0.01258, V_loss: 0.33192, Early stopping counter: 21 out of 30 | T_time: 00:02:32, T_speed: 7.369\n",
      "[Epoch 5610] T_loss: 0.01266, V_loss: 0.32820, Early stopping counter: 22 out of 30 | T_time: 00:02:33, T_speed: 8.939\n",
      "[Epoch 5640] T_loss: 0.01260, V_loss: 0.33083, Early stopping counter: 23 out of 30 | T_time: 00:02:34, T_speed: 14.157\n",
      "[Epoch 5670] T_loss: 0.01260, V_loss: 0.32909, Early stopping counter: 24 out of 30 | T_time: 00:02:35, T_speed: 36.439\n",
      "[Epoch 5700] T_loss: 0.01253, V_loss: 0.32814, Early stopping counter: 25 out of 30 | T_time: 00:02:36, T_speed: 224.834\n",
      "[Epoch 5730] T_loss: 0.01254, V_loss: 0.32783, Early stopping counter: 26 out of 30 | T_time: 00:02:36, T_speed: 7.272\n",
      "[Epoch 5760] T_loss: 0.01308, V_loss: 0.33827, Early stopping counter: 27 out of 30 | T_time: 00:02:37, T_speed: 10.502\n",
      "[Epoch 5790] T_loss: 0.01281, V_loss: 0.33522, Early stopping counter: 28 out of 30 | T_time: 00:02:38, T_speed: 18.901\n",
      "[Epoch 5820] T_loss: 0.01242, V_loss: 0.33560, Early stopping counter: 29 out of 30 | T_time: 00:02:39, T_speed: 34.409\n",
      "[Epoch 5850] T_loss: 0.01282, V_loss: 0.33703, Early stopping counter: 30 out of 30 *** TRAIN EARLY STOPPED! *** | T_time: 00:02:39, T_speed: 6.347\n",
      "Final training time: 00:02:39\n"
     ]
    },
    {
     "data": {
      "text/html": [],
      "text/plain": [
       "<IPython.core.display.HTML object>"
      ]
     },
     "metadata": {},
     "output_type": "display_data"
    },
    {
     "data": {
      "text/html": [
       "<br>    <style><br>        .wandb-row {<br>            display: flex;<br>            flex-direction: row;<br>            flex-wrap: wrap;<br>            justify-content: flex-start;<br>            width: 100%;<br>        }<br>        .wandb-col {<br>            display: flex;<br>            flex-direction: column;<br>            flex-basis: 100%;<br>            flex: 1;<br>            padding: 10px;<br>        }<br>    </style><br><div class=\"wandb-row\"><div class=\"wandb-col\"><h3>Run history:</h3><br/><table class=\"wandb\"><tr><td>Epoch</td><td>▁▂▂▂▂▂▂▂▂▃▃▃▃▃▃▃▄▄▄▄▅▅▅▆▆▆▆▆▆▆▆▆▇▇▇▇▇▇██</td></tr><tr><td>Training loss</td><td>█▆▁▁▁▁▁▁▁▁▁▁▁▁▁▁▁▁▁▁▁▁▁▁▁▁▁▁▁▁▁▁▁▁▁▁▁▁▁▁</td></tr><tr><td>Training speed (epochs/sec.)</td><td>▁▁▁▁▁▂▇▁▁▁▂▁▁▁█▁▂▂▂▃▁▁▁▁▂▁▂▁▁▂▁▂▅▁▂▁▁▂▂▁</td></tr><tr><td>Validation loss</td><td>█▁▁▁▁▁▁▁▁▁▁▁▁▁▁▁▁▁▁▁▁▁▁▁▁▁▁▁▁▁▁▁▁▁▁▁▁▁▁▁</td></tr></table><br/></div><div class=\"wandb-col\"><h3>Run summary:</h3><br/><table class=\"wandb\"><tr><td>Epoch</td><td>5850</td></tr><tr><td>Training loss</td><td>0.01282</td></tr><tr><td>Training speed (epochs/sec.)</td><td>6.34705</td></tr><tr><td>Validation loss</td><td>0.33703</td></tr></table><br/></div></div>"
      ],
      "text/plain": [
       "<IPython.core.display.HTML object>"
      ]
     },
     "metadata": {},
     "output_type": "display_data"
    },
    {
     "data": {
      "text/html": [
       " View run <strong style=\"color:#cdcd00\">2024-12-20_22-45-45</strong> at: <a href='https://wandb.ai/chosuyeon-korea-university-of-technology-and-education/lstm_regression_btc_krw/runs/2byuyp33' target=\"_blank\">https://wandb.ai/chosuyeon-korea-university-of-technology-and-education/lstm_regression_btc_krw/runs/2byuyp33</a><br> View project at: <a href='https://wandb.ai/chosuyeon-korea-university-of-technology-and-education/lstm_regression_btc_krw' target=\"_blank\">https://wandb.ai/chosuyeon-korea-university-of-technology-and-education/lstm_regression_btc_krw</a><br>Synced 5 W&B file(s), 0 media file(s), 0 artifact file(s) and 0 other file(s)"
      ],
      "text/plain": [
       "<IPython.core.display.HTML object>"
      ]
     },
     "metadata": {},
     "output_type": "display_data"
    },
    {
     "data": {
      "text/html": [
       "Find logs at: <code>./wandb/run-20241220_224545-2byuyp33/logs</code>"
      ],
      "text/plain": [
       "<IPython.core.display.HTML object>"
      ]
     },
     "metadata": {},
     "output_type": "display_data"
    }
   ],
   "source": [
    "if __name__ == \"__main__\":\n",
    "    import argparse\n",
    "\n",
    "    # ArgumentParser 생성 및 플래그 추가\n",
    "    parser = argparse.ArgumentParser(description=\"LSTM regression trainer arguments\")\n",
    "    \n",
    "    parser.add_argument('--wandb', action='store_true', help='Weights & Biases 사용 여부')\n",
    "    parser.add_argument('--epochs', type=int, default=10_000, help='총 학습 에폭 수')\n",
    "    parser.add_argument('--batch_size', type=int, default=2048, help='배치 크기')\n",
    "    parser.add_argument('--validation_intervals', type=int, default=30, help='검증을 수행할 간격')\n",
    "    parser.add_argument('--learning_rate', type=float, default=1e-4, help='학습률')\n",
    "    parser.add_argument('--early_stop_patience', type=int, default=30, help='조기 종료를 위한 인내심')\n",
    "    parser.add_argument('--early_stop_delta', type=float, default=0.000001, help='조기 종료를 위한 최소 개선값')\n",
    "    parser.add_argument('--weight_decay', type=float, default=0.0, help='L2 정규화 계수')\n",
    "    \n",
    "    # 지정된 순서대로 args를 생성\n",
    "    args = parser.parse_args([\n",
    "        '--wandb',\n",
    "        '--batch_size', '2048',\n",
    "        '--validation_intervals', '30',\n",
    "        '--learning_rate', '0.0001',\n",
    "        '--early_stop_patience', '30',\n",
    "        '--early_stop_delta', '1e-06',\n",
    "        '--weight_decay', '1e-04'\n",
    "    ])\n",
    "\n",
    "    # args 출력 확인\n",
    "    print(args)\n",
    "\n",
    "    # main 함수 호출\n",
    "    main(args)"
   ]
  },
  {
   "cell_type": "markdown",
   "metadata": {},
   "source": [
    "- 가장 학습이 잘 되는 모델 구성 및 하이퍼파라미터 값\n",
    "    - LSTM layers의 개수: 2개(수정 없이 그대로)\n",
    "    - Linear layers의 개수: 1개(수정 없이 그대로)\n",
    "    - Weight Decay: 1e−4\n",
    "    - Dropout Rate: 0.2"
   ]
  },
  {
   "cell_type": "markdown",
   "metadata": {},
   "source": [
    "##### regression_test_lstm"
   ]
  },
  {
   "cell_type": "code",
   "execution_count": 84,
   "metadata": {},
   "outputs": [
    {
     "name": "stdout",
     "output_type": "stream",
     "text": [
      "/data/2_data_server/nlp-05/KOREATECH/2024-2_DL/link_dl\n"
     ]
    }
   ],
   "source": [
    "import torch\n",
    "import wandb\n",
    "from matplotlib import pyplot as plt\n",
    "from datetime import datetime\n",
    "import os\n",
    "from pathlib import Path\n",
    "\n",
    "# BASE_PATH = str(Path(__file__).resolve().parent.parent.parent) # BASE_PATH: /Users/yhhan/git/link_dl\n",
    "BASE_PATH = str(Path.cwd().parent.parent.parent)  # 현재 디렉토리 기준으로 부모 디렉토리 이동\n",
    "print(BASE_PATH)\n",
    "\n",
    "import sys\n",
    "sys.path.append(BASE_PATH)\n",
    "\n",
    "# CURRENT_FILE_PATH = os.path.dirname(os.path.abspath(__file__))\n",
    "CURRENT_FILE_PATH = str(Path.cwd())\n",
    "CHECKPOINT_FILE_PATH = os.path.join(CURRENT_FILE_PATH, \"checkpoints\")\n",
    "\n",
    "if not os.path.isdir(CHECKPOINT_FILE_PATH):\n",
    "  os.makedirs(os.path.join(CURRENT_FILE_PATH, \"checkpoints\"))\n",
    "\n",
    "def test(test_model):\n",
    "    # test_model을 매개변수로 받는 테스트 함수 정의\n",
    "    \n",
    "    _, _, test_data_loader = get_btc_krw_data()\n",
    "    # BTC/KRW 데이터를 로드하는 함수를 호출하여 테스트 데이터 로더만 사용\n",
    "    # 앞의 두 값은 무시하고 세 번째 값(test_data_loader)만 가져옴\n",
    "\n",
    "    test_model.eval()\n",
    "    # 모델을 평가 모드로 설정 (학습 모드가 아닌 추론 모드)\n",
    "    # dropout, batch normalization 등이 평가 모드로 동작하게 됨\n",
    "\n",
    "    y_normalizer = 100\n",
    "    # 출력값을 정규화하기 위한 스케일링 팩터 설정\n",
    "\n",
    "    print(\"[TEST DATA]\")\n",
    "    with torch.no_grad():\n",
    "        # gradient 계산을 비활성화하여 메모리 사용량 감소 및 연산 속도 향상\n",
    "        for test_batch in test_data_loader:\n",
    "            # 테스트 데이터 로더에서 배치 단위로 데이터를 가져옴\n",
    "            input_test, target_test = test_batch\n",
    "            # 배치에서 입력 데이터와 정답 데이터를 분리\n",
    "\n",
    "            output_test = test_model(input_test)\n",
    "            # 모델에 테스트 입력 데이터를 통과시켜 예측값 생성\n",
    "\n",
    "        for idx, (output, target) in enumerate(zip(output_test, target_test)):\n",
    "            # 예측값과 실제값을 순회하면서 각각의 결과를 출력\n",
    "            print(\"{0:2}: {1:6,.2f} <--> {2:6,.2f} (Loss: {3:>13,.2f})\".format(\n",
    "                idx,                                            # 인덱스\n",
    "                output.item() * y_normalizer,                   # 정규화된 예측값\n",
    "                target.item() * y_normalizer,                   # 정규화된 실제값\n",
    "                abs(output.squeeze(dim=-1).item() - target.item()) * y_normalizer  # 절대 오차\n",
    "            ))\n",
    "            # 포맷팅된 문자열로 결과를 출력:\n",
    "            # - 인덱스는 2자리\n",
    "            # - 예측값과 실제값은 소수점 둘째자리까지 표시하고 천 단위 구분자 사용\n",
    "            # - Loss는 우측 정렬하여 13자리로 표시\n",
    "\n",
    "def predict_all(test_model):\n",
    "   # 예측값의 정규화를 위한 스케일링 팩터 설정\n",
    "   y_normalizer = 100\n",
    "\n",
    "   # 암호화폐 데이터를 가져와서 train/validation/test 세트로 분할\n",
    "   # sequence_size=10: 입력 시퀀스 길이\n",
    "   # validation_size=100: 검증 세트 크기\n",
    "   # test_size=10: 테스트 세트 크기\n",
    "   # target_column='Close': 종가를 예측 대상으로 설정\n",
    "   # y_normalizer=1.0e7: 타겟값 정규화 스케일링 팩터\n",
    "   # is_regression=True: 회귀 문제로 설정\n",
    "   X_train, X_validation, X_test, y_train, y_validation, y_test, y_train_date, y_validation_date, y_test_date \\\n",
    "       = get_cryptocurrency_data(\n",
    "           sequence_size=10, validation_size=100, test_size=10,\n",
    "           target_column='Close', y_normalizer=1.0e7, is_regression=True\n",
    "       )\n",
    "\n",
    "   # 각 데이터셋에 대한 CryptoCurrencyDataset 객체 생성\n",
    "   train_crypto_currency_dataset = CryptoCurrencyDataset(X=X_train, y=y_train)\n",
    "   validation_crypto_currency_dataset = CryptoCurrencyDataset(X=X_validation, y=y_validation)\n",
    "   test_crypto_currency_dataset = CryptoCurrencyDataset(X=X_test, y=y_test)\n",
    "\n",
    "   # 데이터셋과 레이블을 리스트로 묶음\n",
    "   dataset_list = [\n",
    "       train_crypto_currency_dataset, validation_crypto_currency_dataset, test_crypto_currency_dataset\n",
    "   ]\n",
    "   dataset_labels = [\n",
    "       \"train\", \"validation\", \"test\"\n",
    "   ]\n",
    "   \n",
    "   # x축 값 초기화\n",
    "   num = 0\n",
    "   # 3개의 서브플롯을 가진 figure 생성 (6x9 크기)\n",
    "   fig, axs = plt.subplots(3, 1, figsize=(6, 9))\n",
    "\n",
    "   # 각 데이터셋(train/validation/test)에 대해 반복\n",
    "   for i in range(3):\n",
    "       # 그래프 그리기 위한 데이터 저장용 리스트\n",
    "       X = []          # x축 값\n",
    "       TARGET_Y = []   # 실제 타겟값\n",
    "       PREDICTION_Y = [] # 예측값\n",
    "       \n",
    "       # 현재 데이터셋의 각 데이터에 대해 반복\n",
    "       for data in dataset_list[i]:\n",
    "           input, target = data\n",
    "           # 모델 예측 수행 (배치 차원 추가 후 예측하고 다시 제거)\n",
    "           prediction = test_model(input.unsqueeze(0)).squeeze(-1).squeeze(-1)\n",
    "\n",
    "           # 그래프 데이터 추가\n",
    "           X.append(num)\n",
    "           TARGET_Y.append(target.item() * y_normalizer)\n",
    "           PREDICTION_Y.append(prediction.item() * y_normalizer)\n",
    "           \n",
    "           num += 1\n",
    "\n",
    "       # i번째 서브플롯에 타겟값과 예측값 그래프 그리기\n",
    "       axs[i].plot(X, TARGET_Y, label='target')\n",
    "       axs[i].plot(X, PREDICTION_Y, label='prediction')\n",
    "       axs[i].set_title(dataset_labels[i])\n",
    "       axs[i].legend()\n",
    "\n",
    "   # 서브플롯 간 간격 자동 조정\n",
    "   plt.tight_layout()\n",
    "   # 그래프 표시\n",
    "   plt.show()"
   ]
  },
  {
   "cell_type": "code",
   "execution_count": 86,
   "metadata": {},
   "outputs": [
    {
     "name": "stdout",
     "output_type": "stream",
     "text": [
      "MODEL FILE: /data/2_data_server/nlp-05/KOREATECH/2024-2_DL/link_dl/_03_your_code/CSE533/hw4/checkpoints/lstm_regression_btc_krw_checkpoint_latest.pt\n"
     ]
    },
    {
     "name": "stderr",
     "output_type": "stream",
     "text": [
      "/tmp/ipykernel_42112/3274596096.py:30: FutureWarning: You are using `torch.load` with `weights_only=False` (the current default value), which uses the default pickle module implicitly. It is possible to construct malicious pickle data which will execute arbitrary code during unpickling (See https://github.com/pytorch/pytorch/blob/main/SECURITY.md#untrusted-models for more details). In a future release, the default value for `weights_only` will be flipped to `True`. This limits the functions that could be executed during unpickling. Arbitrary objects will no longer be allowed to be loaded via this mode unless they are explicitly allowlisted by the user via `torch.serialization.add_safe_globals`. We recommend you start setting `weights_only=True` for any use case where you don't have full control of the loaded file. Please open an issue on GitHub for any issues related to this experimental feature.\n",
      "  test_model.load_state_dict(torch.load(latest_file_path, map_location=torch.device('cpu')))\n"
     ]
    },
    {
     "name": "stdout",
     "output_type": "stream",
     "text": [
      "[TEST DATA]\n",
      " 0: 1,116.04 <--> 1,360.09 (Loss:        244.06)\n",
      " 1: 1,105.22 <--> 1,319.45 (Loss:        214.23)\n",
      " 2: 1,117.85 <--> 1,390.43 (Loss:        272.58)\n",
      " 3: 1,122.02 <--> 1,378.05 (Loss:        256.03)\n",
      " 4: 1,109.84 <--> 1,334.58 (Loss:        224.74)\n",
      " 5: 1,109.98 <--> 1,380.87 (Loss:        270.89)\n",
      " 6: 1,115.17 <--> 1,331.62 (Loss:        216.45)\n",
      " 7: 1,122.94 <--> 1,302.60 (Loss:        179.66)\n",
      " 8: 1,120.79 <--> 1,373.29 (Loss:        252.50)\n",
      " 9: 1,115.56 <--> 1,284.38 (Loss:        168.82)\n"
     ]
    },
    {
     "data": {
      "image/png": "[encoded data removed]",
      "text/plain": [
       "<Figure size 600x900 with 3 Axes>"
      ]
     },
     "metadata": {},
     "output_type": "display_data"
    }
   ],
   "source": [
    "def main(args):\n",
    "  run_time_str = datetime.now().astimezone().strftime('%Y-%m-%d_%H-%M-%S')\n",
    "\n",
    "  config = {\n",
    "    'epochs': args.epochs,\n",
    "    'batch_size': args.batch_size,\n",
    "    'validation_intervals': args.validation_intervals,\n",
    "    'learning_rate': args.learning_rate,\n",
    "    'early_stop_patience': args.early_stop_patience,\n",
    "    'early_stop_delta': args.early_stop_delta,\n",
    "  }\n",
    "\n",
    "  project_name = \"lstm_regression_btc_krw\"\n",
    "  wandb.init(\n",
    "    mode=\"disabled\",\n",
    "    project=project_name,\n",
    "    notes=\"btc_krw experiment with lstm\",\n",
    "    tags=[\"lstm\", \"regression\", \"btc_krw\"],\n",
    "    name=run_time_str,\n",
    "    config=config\n",
    "  )\n",
    "\n",
    "  test_model = get_model()\n",
    "\n",
    "  project_name = \"lstm_regression_btc_krw\"\n",
    "  latest_file_path = os.path.join(\n",
    "    CHECKPOINT_FILE_PATH, f\"{project_name}_checkpoint_latest.pt\"\n",
    "  )\n",
    "  print(\"MODEL FILE: {0}\".format(latest_file_path))\n",
    "  test_model.load_state_dict(torch.load(latest_file_path, map_location=torch.device('cpu')))\n",
    "\n",
    "  test(test_model)\n",
    "  predict_all(test_model)\n",
    "\n",
    "if __name__ == \"__main__\":\n",
    "  parser = get_parser()\n",
    "  # args = parser.parse_args()\n",
    "  args = parser.parse_args([\n",
    "    '--no-wandb',\n",
    "    '--batch_size', '2048',\n",
    "    '--validation_intervals', '30',\n",
    "    '--learning_rate', '0.0001',\n",
    "    '--early_stop_patience', '30',\n",
    "    '--early_stop_delta', '1e-06',\n",
    "    '--weight_decay', '1e-04'\n",
    "  ])\n",
    "  main(args)"
   ]
  },
  {
   "cell_type": "markdown",
   "metadata": {},
   "source": [
    "##### classification_train_lstm.py"
   ]
  },
  {
   "cell_type": "code",
   "execution_count": 88,
   "metadata": {},
   "outputs": [
    {
     "name": "stdout",
     "output_type": "stream",
     "text": [
      "/data/2_data_server/nlp-05/KOREATECH/2024-2_DL/link_dl\n"
     ]
    }
   ],
   "source": [
    "import torch\n",
    "from torch import nn, optim\n",
    "from datetime import datetime\n",
    "import os\n",
    "import wandb\n",
    "from pathlib import Path\n",
    "\n",
    "# BASE_PATH = str(Path(__file__).resolve().parent.parent.parent) # BASE_PATH: /Users/yhhan/git/link_dl\n",
    "BASE_PATH = str(Path.cwd().parent.parent.parent)  # 현재 디렉토리 기준으로 부모 디렉토리 이동\n",
    "print(BASE_PATH)\n",
    "\n",
    "import sys\n",
    "sys.path.append(BASE_PATH)\n",
    "\n",
    "# CURRENT_FILE_PATH = os.path.dirname(os.path.abspath(__file__))\n",
    "CURRENT_FILE_PATH = str(Path.cwd())\n",
    "CHECKPOINT_FILE_PATH = os.path.join(CURRENT_FILE_PATH, \"checkpoints\")\n",
    "\n",
    "if not os.path.isdir(CHECKPOINT_FILE_PATH):\n",
    "  os.makedirs(os.path.join(CURRENT_FILE_PATH, \"checkpoints\"))\n",
    "\n",
    "from _01_code._08_fcn_best_practice.c_trainer import ClassificationTrainer\n",
    "\n",
    "def get_model():\n",
    "   class MyModel(nn.Module):\n",
    "       def __init__(self, n_input, n_output):\n",
    "           # MyModel 클래스 초기화 - 입력 차원과 출력 차원을 인자로 받음\n",
    "           super().__init__()\n",
    "\n",
    "           # LSTM 레이어 정의\n",
    "           # input_size=n_input: 입력 피처 수\n",
    "           # hidden_size=256: LSTM의 은닉 상태 크기\n",
    "           # num_layers=3: LSTM 레이어 수\n",
    "           # batch_first=True: 입력 텐서의 shape를 (batch, seq_len, features)로 설정\n",
    "           self.lstm = nn.LSTM(input_size=n_input, hidden_size=256, num_layers=3, batch_first=True, dropout=0.3)\n",
    "           \n",
    "           # 전결합 레이어 정의\n",
    "           # in_features=256: LSTM의 은닉 상태 크기와 동일\n",
    "           # out_features=n_output: 최종 출력 차원\n",
    "           self.fcn = nn.Linear(in_features=256, out_features=n_output)\n",
    "\n",
    "       def forward(self, x):\n",
    "           # LSTM 레이어를 통과\n",
    "           # x: 입력 텐서\n",
    "           # hidden: LSTM의 은닉 상태 (여기서는 사용하지 않음)\n",
    "           x, hidden = self.lstm(x)\n",
    "           \n",
    "           # 마지막 시퀀스의 출력만 선택\n",
    "           # x[:, -1, :]: 배치의 각 시퀀스의 마지막 타임스텝의 출력을 선택\n",
    "           x = x[:, -1, :]  # x.shape: [32, 128]\n",
    "           \n",
    "           # 전결합 레이어를 통과하여 최종 출력 생성\n",
    "           x = self.fcn(x)\n",
    "           return x\n",
    "\n",
    "   # 모델 인스턴스 생성\n",
    "   # n_input=5: 입력 피처 수를 5로 설정\n",
    "   # n_output=2: 출력 차원을 2로 설정\n",
    "   my_model = MyModel(n_input=5, n_output=2)\n",
    "\n",
    "   # 생성된 모델 반환\n",
    "   return my_model"
   ]
  },
  {
   "cell_type": "code",
   "execution_count": 98,
   "metadata": {},
   "outputs": [],
   "source": [
    "def main(args):\n",
    "    # 현재 시간을 문자열로 변환하여 실험 구분에 사용\n",
    "    run_time_str = datetime.now().astimezone().strftime('%Y-%m-%d_%H-%M-%S')\n",
    "\n",
    "    # wandb에서 추적할 하이퍼파라미터 설정\n",
    "    config = {\n",
    "        'epochs': args.epochs,                # 총 학습 에폭 수\n",
    "        'batch_size': args.batch_size,        # 배치 크기\n",
    "        'validation_intervals': args.validation_intervals,  # 검증을 수행할 간격\n",
    "        'learning_rate': args.learning_rate,  # 학습률\n",
    "        'early_stop_patience': args.early_stop_patience,  # 조기 종료를 위한 인내심\n",
    "        'early_stop_delta': args.early_stop_delta,        # 조기 종료를 위한 최소 개선값\n",
    "        'weight_decay': args.weight_decay     # L2 정규화 계수\n",
    "    }\n",
    "\n",
    "    # Weights & Biases 초기화\n",
    "    project_name = \"lstm_classification_btc_krw\"\n",
    "    wandb.init(\n",
    "        mode=\"online\" if args.wandb else \"disabled\",  # wandb 사용 여부 설정\n",
    "        project=project_name,                         # 프로젝트 이름\n",
    "        notes=\"btc_krw experiment with lstm\",        # 실험 노트\n",
    "        tags=[\"lstm\", \"classification\", \"btc_krw\"],      # 실험 태그\n",
    "        name=run_time_str,                           # 실험 이름(현재 시간 기반)\n",
    "        config=config                                # 설정된 하이퍼파라미터\n",
    "    )\n",
    "    # 입력 인자와 wandb 설정 출력\n",
    "    print(args)\n",
    "    print(wandb.config)\n",
    "\n",
    "    # wandb.config에 args 값을 업데이트\n",
    "    wandb.config.update(args.__dict__)\n",
    "\n",
    "    # 데이터 로더 생성 (테스트 데이터 로더는 현재 사용하지 않음)\n",
    "    train_data_loader, validation_data_loader, _ = get_btc_krw_data(is_regression=False)\n",
    "    \n",
    "    # GPU 사용 가능 여부 확인 및 디바이스 설정\n",
    "    device = torch.device(\"cuda:0\" if torch.cuda.is_available() else \"cpu\")\n",
    "    print(f\"Training on device {device}.\")\n",
    "\n",
    "    # 모델 생성 및 지정된 디바이스로 이동\n",
    "    model = get_model()\n",
    "    model.to(device)\n",
    "\n",
    "    # Adam 옵티마이저 설정\n",
    "    # learning_rate와 weight_decay는 wandb config에서 가져옴\n",
    "    optimizer = optim.Adam(model.parameters(), lr=wandb.config.learning_rate, weight_decay=wandb.config.weight_decay)\n",
    "\n",
    "    classification_trainer = ClassificationTrainer(\n",
    "        project_name, model, optimizer, train_data_loader, validation_data_loader, None,\n",
    "        run_time_str, wandb, device, CHECKPOINT_FILE_PATH\n",
    "    )\n",
    "   \n",
    "    # 학습 실행\n",
    "    classification_trainer.train_loop()\n",
    "\n",
    "    # wandb 실험 종료\n",
    "    wandb.finish()"
   ]
  },
  {
   "cell_type": "code",
   "execution_count": 99,
   "metadata": {},
   "outputs": [
    {
     "data": {
      "text/html": [
       "Tracking run with wandb version 0.19.1"
      ],
      "text/plain": [
       "<IPython.core.display.HTML object>"
      ]
     },
     "metadata": {},
     "output_type": "display_data"
    },
    {
     "data": {
      "text/html": [
       "Run data is saved locally in <code>/data/2_data_server/nlp-05/KOREATECH/2024-2_DL/link_dl/_03_your_code/CSE533/hw4/wandb/run-20241220_231338-d5cnvw9e</code>"
      ],
      "text/plain": [
       "<IPython.core.display.HTML object>"
      ]
     },
     "metadata": {},
     "output_type": "display_data"
    },
    {
     "data": {
      "text/html": [
       "Syncing run <strong><a href='https://wandb.ai/chosuyeon-korea-university-of-technology-and-education/lstm_classification_btc_krw/runs/d5cnvw9e' target=\"_blank\">2024-12-20_23-13-38</a></strong> to <a href='https://wandb.ai/chosuyeon-korea-university-of-technology-and-education/lstm_classification_btc_krw' target=\"_blank\">Weights & Biases</a> (<a href='https://wandb.me/developer-guide' target=\"_blank\">docs</a>)<br>"
      ],
      "text/plain": [
       "<IPython.core.display.HTML object>"
      ]
     },
     "metadata": {},
     "output_type": "display_data"
    },
    {
     "data": {
      "text/html": [
       " View project at <a href='https://wandb.ai/chosuyeon-korea-university-of-technology-and-education/lstm_classification_btc_krw' target=\"_blank\">https://wandb.ai/chosuyeon-korea-university-of-technology-and-education/lstm_classification_btc_krw</a>"
      ],
      "text/plain": [
       "<IPython.core.display.HTML object>"
      ]
     },
     "metadata": {},
     "output_type": "display_data"
    },
    {
     "data": {
      "text/html": [
       " View run at <a href='https://wandb.ai/chosuyeon-korea-university-of-technology-and-education/lstm_classification_btc_krw/runs/d5cnvw9e' target=\"_blank\">https://wandb.ai/chosuyeon-korea-university-of-technology-and-education/lstm_classification_btc_krw/runs/d5cnvw9e</a>"
      ],
      "text/plain": [
       "<IPython.core.display.HTML object>"
      ]
     },
     "metadata": {},
     "output_type": "display_data"
    },
    {
     "name": "stdout",
     "output_type": "stream",
     "text": [
      "Namespace(wandb=True, batch_size=2048, epochs=10000, learning_rate=1e-05, weight_decay=0.0001, validation_intervals=30, early_stop_patience=100, early_stop_delta=1e-06)\n",
      "{'epochs': 10000, 'batch_size': 2048, 'validation_intervals': 30, 'learning_rate': 1e-05, 'early_stop_patience': 100, 'early_stop_delta': 1e-06, 'weight_decay': 0.0001}\n",
      "Training on device cuda:0.\n",
      "[Epoch   1] T_loss: 0.69403, T_accuracy: 47.2007 | V_loss: 0.69494, V_accuracy: 44.0000 | Early stopping is stated! | T_time: 00:00:00, T_speed: 0.000\n",
      "[Epoch  30] T_loss: 0.69247, T_accuracy: 52.7439 | V_loss: 0.69282, V_accuracy: 55.0000 | V_loss decreased (0.69494 --> 0.69282). Saving model... | T_time: 00:00:00, T_speed: 0.000\n",
      "[Epoch  60] T_loss: 0.69154, T_accuracy: 52.7993 | V_loss: 0.69186, V_accuracy: 56.0000 | V_loss decreased (0.69282 --> 0.69186). Saving model... | T_time: 00:00:01, T_speed: 60.000\n",
      "[Epoch  90] T_loss: 0.69127, T_accuracy: 52.8825 | V_loss: 0.69217, V_accuracy: 53.0000 | Early stopping counter: 1 out of 100 | T_time: 00:00:02, T_speed: 45.000\n",
      "[Epoch 120] T_loss: 0.69068, T_accuracy: 52.8271 | V_loss: 0.69346, V_accuracy: 47.0000 | Early stopping counter: 2 out of 100 | T_time: 00:00:03, T_speed: 40.000\n",
      "[Epoch 150] T_loss: 0.69114, T_accuracy: 53.3259 | V_loss: 0.69503, V_accuracy: 44.0000 | Early stopping counter: 3 out of 100 | T_time: 00:00:04, T_speed: 37.500\n",
      "[Epoch 180] T_loss: 0.69045, T_accuracy: 53.1874 | V_loss: 0.69660, V_accuracy: 44.0000 | Early stopping counter: 4 out of 100 | T_time: 00:00:05, T_speed: 36.000\n",
      "[Epoch 210] T_loss: 0.69070, T_accuracy: 53.0211 | V_loss: 0.69760, V_accuracy: 44.0000 | Early stopping counter: 5 out of 100 | T_time: 00:00:06, T_speed: 35.000\n",
      "[Epoch 240] T_loss: 0.69082, T_accuracy: 53.0765 | V_loss: 0.69796, V_accuracy: 44.0000 | Early stopping counter: 6 out of 100 | T_time: 00:00:07, T_speed: 34.286\n",
      "[Epoch 270] T_loss: 0.69064, T_accuracy: 53.2428 | V_loss: 0.69831, V_accuracy: 44.0000 | Early stopping counter: 7 out of 100 | T_time: 00:00:08, T_speed: 33.750\n",
      "[Epoch 300] T_loss: 0.69050, T_accuracy: 53.2428 | V_loss: 0.69835, V_accuracy: 44.0000 | Early stopping counter: 8 out of 100 | T_time: 00:00:09, T_speed: 33.333\n",
      "[Epoch 330] T_loss: 0.69060, T_accuracy: 53.0765 | V_loss: 0.69836, V_accuracy: 44.0000 | Early stopping counter: 9 out of 100 | T_time: 00:00:10, T_speed: 33.000\n",
      "[Epoch 360] T_loss: 0.69050, T_accuracy: 53.2428 | V_loss: 0.69841, V_accuracy: 44.0000 | Early stopping counter: 10 out of 100 | T_time: 00:00:11, T_speed: 32.727\n",
      "[Epoch 390] T_loss: 0.69078, T_accuracy: 53.2428 | V_loss: 0.69851, V_accuracy: 44.0000 | Early stopping counter: 11 out of 100 | T_time: 00:00:11, T_speed: 35.455\n",
      "[Epoch 420] T_loss: 0.69046, T_accuracy: 53.2982 | V_loss: 0.69858, V_accuracy: 44.0000 | Early stopping counter: 12 out of 100 | T_time: 00:00:12, T_speed: 35.000\n",
      "[Epoch 450] T_loss: 0.69080, T_accuracy: 53.2705 | V_loss: 0.69839, V_accuracy: 44.0000 | Early stopping counter: 13 out of 100 | T_time: 00:00:13, T_speed: 34.615\n",
      "[Epoch 480] T_loss: 0.69054, T_accuracy: 53.1319 | V_loss: 0.69851, V_accuracy: 44.0000 | Early stopping counter: 14 out of 100 | T_time: 00:00:14, T_speed: 34.286\n",
      "[Epoch 510] T_loss: 0.69047, T_accuracy: 53.0211 | V_loss: 0.69854, V_accuracy: 44.0000 | Early stopping counter: 15 out of 100 | T_time: 00:00:15, T_speed: 34.000\n",
      "[Epoch 540] T_loss: 0.69060, T_accuracy: 53.2428 | V_loss: 0.69854, V_accuracy: 44.0000 | Early stopping counter: 16 out of 100 | T_time: 00:00:16, T_speed: 33.750\n",
      "[Epoch 570] T_loss: 0.69051, T_accuracy: 53.2151 | V_loss: 0.69852, V_accuracy: 44.0000 | Early stopping counter: 17 out of 100 | T_time: 00:00:17, T_speed: 33.529\n",
      "[Epoch 600] T_loss: 0.69043, T_accuracy: 53.3814 | V_loss: 0.69847, V_accuracy: 44.0000 | Early stopping counter: 18 out of 100 | T_time: 00:00:18, T_speed: 33.333\n",
      "[Epoch 630] T_loss: 0.69066, T_accuracy: 53.4368 | V_loss: 0.69842, V_accuracy: 44.0000 | Early stopping counter: 19 out of 100 | T_time: 00:00:19, T_speed: 33.158\n",
      "[Epoch 660] T_loss: 0.69057, T_accuracy: 53.2705 | V_loss: 0.69863, V_accuracy: 44.0000 | Early stopping counter: 20 out of 100 | T_time: 00:00:19, T_speed: 34.737\n",
      "[Epoch 690] T_loss: 0.69037, T_accuracy: 53.3259 | V_loss: 0.69846, V_accuracy: 44.0000 | Early stopping counter: 21 out of 100 | T_time: 00:00:20, T_speed: 34.500\n",
      "[Epoch 720] T_loss: 0.69061, T_accuracy: 53.3537 | V_loss: 0.69849, V_accuracy: 44.0000 | Early stopping counter: 22 out of 100 | T_time: 00:00:21, T_speed: 34.286\n",
      "[Epoch 750] T_loss: 0.69050, T_accuracy: 53.1596 | V_loss: 0.69842, V_accuracy: 44.0000 | Early stopping counter: 23 out of 100 | T_time: 00:00:22, T_speed: 34.091\n",
      "[Epoch 780] T_loss: 0.69066, T_accuracy: 53.1874 | V_loss: 0.69852, V_accuracy: 44.0000 | Early stopping counter: 24 out of 100 | T_time: 00:00:23, T_speed: 33.913\n",
      "[Epoch 810] T_loss: 0.69083, T_accuracy: 53.3259 | V_loss: 0.69839, V_accuracy: 44.0000 | Early stopping counter: 25 out of 100 | T_time: 00:00:24, T_speed: 33.750\n",
      "[Epoch 840] T_loss: 0.69080, T_accuracy: 52.9933 | V_loss: 0.69849, V_accuracy: 44.0000 | Early stopping counter: 26 out of 100 | T_time: 00:00:25, T_speed: 33.600\n",
      "[Epoch 870] T_loss: 0.69065, T_accuracy: 53.1596 | V_loss: 0.69851, V_accuracy: 44.0000 | Early stopping counter: 27 out of 100 | T_time: 00:00:26, T_speed: 33.462\n",
      "[Epoch 900] T_loss: 0.69077, T_accuracy: 53.1596 | V_loss: 0.69862, V_accuracy: 44.0000 | Early stopping counter: 28 out of 100 | T_time: 00:00:27, T_speed: 33.333\n",
      "[Epoch 930] T_loss: 0.69066, T_accuracy: 53.3259 | V_loss: 0.69860, V_accuracy: 44.0000 | Early stopping counter: 29 out of 100 | T_time: 00:00:27, T_speed: 34.444\n",
      "[Epoch 960] T_loss: 0.69028, T_accuracy: 53.2151 | V_loss: 0.69839, V_accuracy: 44.0000 | Early stopping counter: 30 out of 100 | T_time: 00:00:28, T_speed: 34.286\n",
      "[Epoch 990] T_loss: 0.69067, T_accuracy: 53.1596 | V_loss: 0.69837, V_accuracy: 44.0000 | Early stopping counter: 31 out of 100 | T_time: 00:00:29, T_speed: 34.138\n",
      "[Epoch 1020] T_loss: 0.69073, T_accuracy: 53.0488 | V_loss: 0.69847, V_accuracy: 44.0000 | Early stopping counter: 32 out of 100 | T_time: 00:00:30, T_speed: 34.000\n",
      "[Epoch 1050] T_loss: 0.69097, T_accuracy: 53.3537 | V_loss: 0.69858, V_accuracy: 44.0000 | Early stopping counter: 33 out of 100 | T_time: 00:00:31, T_speed: 33.871\n",
      "[Epoch 1080] T_loss: 0.69047, T_accuracy: 53.3259 | V_loss: 0.69859, V_accuracy: 44.0000 | Early stopping counter: 34 out of 100 | T_time: 00:00:32, T_speed: 33.750\n",
      "[Epoch 1110] T_loss: 0.69057, T_accuracy: 53.1042 | V_loss: 0.69853, V_accuracy: 44.0000 | Early stopping counter: 35 out of 100 | T_time: 00:00:33, T_speed: 33.636\n",
      "[Epoch 1140] T_loss: 0.69093, T_accuracy: 52.8548 | V_loss: 0.69842, V_accuracy: 44.0000 | Early stopping counter: 36 out of 100 | T_time: 00:00:34, T_speed: 33.529\n",
      "[Epoch 1170] T_loss: 0.69061, T_accuracy: 53.1874 | V_loss: 0.69832, V_accuracy: 44.0000 | Early stopping counter: 37 out of 100 | T_time: 00:00:34, T_speed: 34.412\n",
      "[Epoch 1200] T_loss: 0.69073, T_accuracy: 53.1596 | V_loss: 0.69840, V_accuracy: 44.0000 | Early stopping counter: 38 out of 100 | T_time: 00:00:35, T_speed: 34.286\n",
      "[Epoch 1230] T_loss: 0.69028, T_accuracy: 52.9656 | V_loss: 0.69842, V_accuracy: 44.0000 | Early stopping counter: 39 out of 100 | T_time: 00:00:36, T_speed: 34.167\n",
      "[Epoch 1260] T_loss: 0.69072, T_accuracy: 53.1874 | V_loss: 0.69883, V_accuracy: 44.0000 | Early stopping counter: 40 out of 100 | T_time: 00:00:37, T_speed: 34.054\n",
      "[Epoch 1290] T_loss: 0.69068, T_accuracy: 52.9933 | V_loss: 0.69867, V_accuracy: 44.0000 | Early stopping counter: 41 out of 100 | T_time: 00:00:38, T_speed: 33.947\n",
      "[Epoch 1320] T_loss: 0.69062, T_accuracy: 53.0765 | V_loss: 0.69869, V_accuracy: 44.0000 | Early stopping counter: 42 out of 100 | T_time: 00:00:39, T_speed: 33.846\n",
      "[Epoch 1350] T_loss: 0.69061, T_accuracy: 53.2151 | V_loss: 0.69850, V_accuracy: 44.0000 | Early stopping counter: 43 out of 100 | T_time: 00:00:40, T_speed: 33.750\n",
      "[Epoch 1380] T_loss: 0.69042, T_accuracy: 53.0211 | V_loss: 0.69842, V_accuracy: 44.0000 | Early stopping counter: 44 out of 100 | T_time: 00:00:41, T_speed: 33.659\n",
      "[Epoch 1410] T_loss: 0.69063, T_accuracy: 53.1042 | V_loss: 0.69819, V_accuracy: 44.0000 | Early stopping counter: 45 out of 100 | T_time: 00:00:41, T_speed: 34.390\n",
      "[Epoch 1440] T_loss: 0.69091, T_accuracy: 52.9379 | V_loss: 0.69826, V_accuracy: 44.0000 | Early stopping counter: 46 out of 100 | T_time: 00:00:42, T_speed: 34.286\n",
      "[Epoch 1470] T_loss: 0.69043, T_accuracy: 52.9933 | V_loss: 0.69821, V_accuracy: 44.0000 | Early stopping counter: 47 out of 100 | T_time: 00:00:43, T_speed: 34.186\n",
      "[Epoch 1500] T_loss: 0.69051, T_accuracy: 52.9102 | V_loss: 0.69822, V_accuracy: 44.0000 | Early stopping counter: 48 out of 100 | T_time: 00:00:44, T_speed: 34.091\n",
      "[Epoch 1530] T_loss: 0.69044, T_accuracy: 53.1874 | V_loss: 0.69856, V_accuracy: 44.0000 | Early stopping counter: 49 out of 100 | T_time: 00:00:45, T_speed: 34.000\n",
      "[Epoch 1560] T_loss: 0.69058, T_accuracy: 53.2151 | V_loss: 0.69835, V_accuracy: 44.0000 | Early stopping counter: 50 out of 100 | T_time: 00:00:46, T_speed: 33.913\n",
      "[Epoch 1590] T_loss: 0.69071, T_accuracy: 53.0765 | V_loss: 0.69844, V_accuracy: 44.0000 | Early stopping counter: 51 out of 100 | T_time: 00:00:47, T_speed: 33.830\n",
      "[Epoch 1620] T_loss: 0.69068, T_accuracy: 53.0211 | V_loss: 0.69839, V_accuracy: 44.0000 | Early stopping counter: 52 out of 100 | T_time: 00:00:48, T_speed: 33.750\n",
      "[Epoch 1650] T_loss: 0.69073, T_accuracy: 52.9933 | V_loss: 0.69839, V_accuracy: 44.0000 | Early stopping counter: 53 out of 100 | T_time: 00:00:49, T_speed: 33.673\n",
      "[Epoch 1680] T_loss: 0.69058, T_accuracy: 53.0765 | V_loss: 0.69818, V_accuracy: 44.0000 | Early stopping counter: 54 out of 100 | T_time: 00:00:50, T_speed: 33.600\n",
      "[Epoch 1710] T_loss: 0.69081, T_accuracy: 53.1042 | V_loss: 0.69833, V_accuracy: 44.0000 | Early stopping counter: 55 out of 100 | T_time: 00:00:50, T_speed: 34.200\n",
      "[Epoch 1740] T_loss: 0.69059, T_accuracy: 53.1042 | V_loss: 0.69824, V_accuracy: 44.0000 | Early stopping counter: 56 out of 100 | T_time: 00:00:51, T_speed: 34.118\n",
      "[Epoch 1770] T_loss: 0.69023, T_accuracy: 53.0211 | V_loss: 0.69811, V_accuracy: 44.0000 | Early stopping counter: 57 out of 100 | T_time: 00:00:52, T_speed: 34.038\n",
      "[Epoch 1800] T_loss: 0.69058, T_accuracy: 53.1042 | V_loss: 0.69831, V_accuracy: 44.0000 | Early stopping counter: 58 out of 100 | T_time: 00:00:53, T_speed: 33.962\n",
      "[Epoch 1830] T_loss: 0.69074, T_accuracy: 53.1042 | V_loss: 0.69847, V_accuracy: 44.0000 | Early stopping counter: 59 out of 100 | T_time: 00:00:54, T_speed: 33.889\n",
      "[Epoch 1860] T_loss: 0.69068, T_accuracy: 53.2428 | V_loss: 0.69853, V_accuracy: 44.0000 | Early stopping counter: 60 out of 100 | T_time: 00:00:55, T_speed: 33.818\n",
      "[Epoch 1890] T_loss: 0.69051, T_accuracy: 53.2705 | V_loss: 0.69841, V_accuracy: 44.0000 | Early stopping counter: 61 out of 100 | T_time: 00:00:56, T_speed: 33.750\n",
      "[Epoch 1920] T_loss: 0.69060, T_accuracy: 52.9656 | V_loss: 0.69850, V_accuracy: 44.0000 | Early stopping counter: 62 out of 100 | T_time: 00:00:56, T_speed: 34.286\n",
      "[Epoch 1950] T_loss: 0.69095, T_accuracy: 52.9656 | V_loss: 0.69833, V_accuracy: 44.0000 | Early stopping counter: 63 out of 100 | T_time: 00:00:57, T_speed: 34.211\n",
      "[Epoch 1980] T_loss: 0.69048, T_accuracy: 53.0765 | V_loss: 0.69836, V_accuracy: 44.0000 | Early stopping counter: 64 out of 100 | T_time: 00:00:58, T_speed: 34.138\n",
      "[Epoch 2010] T_loss: 0.69071, T_accuracy: 53.0765 | V_loss: 0.69830, V_accuracy: 44.0000 | Early stopping counter: 65 out of 100 | T_time: 00:00:59, T_speed: 34.068\n",
      "[Epoch 2040] T_loss: 0.69057, T_accuracy: 53.0765 | V_loss: 0.69824, V_accuracy: 44.0000 | Early stopping counter: 66 out of 100 | T_time: 00:01:00, T_speed: 34.000\n",
      "[Epoch 2070] T_loss: 0.69049, T_accuracy: 53.0211 | V_loss: 0.69858, V_accuracy: 44.0000 | Early stopping counter: 67 out of 100 | T_time: 00:01:01, T_speed: 33.934\n",
      "[Epoch 2100] T_loss: 0.69064, T_accuracy: 53.0488 | V_loss: 0.69839, V_accuracy: 44.0000 | Early stopping counter: 68 out of 100 | T_time: 00:01:02, T_speed: 33.871\n",
      "[Epoch 2130] T_loss: 0.69082, T_accuracy: 53.1319 | V_loss: 0.69842, V_accuracy: 44.0000 | Early stopping counter: 69 out of 100 | T_time: 00:01:03, T_speed: 33.810\n",
      "[Epoch 2160] T_loss: 0.69053, T_accuracy: 52.9656 | V_loss: 0.69851, V_accuracy: 44.0000 | Early stopping counter: 70 out of 100 | T_time: 00:01:04, T_speed: 33.750\n",
      "[Epoch 2190] T_loss: 0.69073, T_accuracy: 53.0211 | V_loss: 0.69851, V_accuracy: 44.0000 | Early stopping counter: 71 out of 100 | T_time: 00:01:04, T_speed: 34.219\n",
      "[Epoch 2220] T_loss: 0.69035, T_accuracy: 53.0211 | V_loss: 0.69847, V_accuracy: 44.0000 | Early stopping counter: 72 out of 100 | T_time: 00:01:05, T_speed: 34.154\n",
      "[Epoch 2250] T_loss: 0.69043, T_accuracy: 53.0488 | V_loss: 0.69842, V_accuracy: 44.0000 | Early stopping counter: 73 out of 100 | T_time: 00:01:06, T_speed: 34.091\n",
      "[Epoch 2280] T_loss: 0.69073, T_accuracy: 53.0211 | V_loss: 0.69846, V_accuracy: 44.0000 | Early stopping counter: 74 out of 100 | T_time: 00:01:07, T_speed: 34.030\n",
      "[Epoch 2310] T_loss: 0.69042, T_accuracy: 53.0765 | V_loss: 0.69841, V_accuracy: 44.0000 | Early stopping counter: 75 out of 100 | T_time: 00:01:08, T_speed: 33.971\n",
      "[Epoch 2340] T_loss: 0.69063, T_accuracy: 52.9379 | V_loss: 0.69851, V_accuracy: 44.0000 | Early stopping counter: 76 out of 100 | T_time: 00:01:09, T_speed: 33.913\n",
      "[Epoch 2370] T_loss: 0.69056, T_accuracy: 53.0765 | V_loss: 0.69854, V_accuracy: 44.0000 | Early stopping counter: 77 out of 100 | T_time: 00:01:10, T_speed: 33.857\n",
      "[Epoch 2400] T_loss: 0.69055, T_accuracy: 52.9656 | V_loss: 0.69843, V_accuracy: 44.0000 | Early stopping counter: 78 out of 100 | T_time: 00:01:11, T_speed: 33.803\n",
      "[Epoch 2430] T_loss: 0.69056, T_accuracy: 53.1596 | V_loss: 0.69833, V_accuracy: 44.0000 | Early stopping counter: 79 out of 100 | T_time: 00:01:11, T_speed: 34.225\n",
      "[Epoch 2460] T_loss: 0.69088, T_accuracy: 53.1042 | V_loss: 0.69835, V_accuracy: 44.0000 | Early stopping counter: 80 out of 100 | T_time: 00:01:12, T_speed: 34.167\n",
      "[Epoch 2490] T_loss: 0.69049, T_accuracy: 53.0488 | V_loss: 0.69831, V_accuracy: 44.0000 | Early stopping counter: 81 out of 100 | T_time: 00:01:13, T_speed: 34.110\n",
      "[Epoch 2520] T_loss: 0.69062, T_accuracy: 53.1874 | V_loss: 0.69829, V_accuracy: 44.0000 | Early stopping counter: 82 out of 100 | T_time: 00:01:14, T_speed: 34.054\n",
      "[Epoch 2550] T_loss: 0.69048, T_accuracy: 53.1042 | V_loss: 0.69844, V_accuracy: 44.0000 | Early stopping counter: 83 out of 100 | T_time: 00:01:15, T_speed: 34.000\n",
      "[Epoch 2580] T_loss: 0.69068, T_accuracy: 53.1596 | V_loss: 0.69847, V_accuracy: 44.0000 | Early stopping counter: 84 out of 100 | T_time: 00:01:16, T_speed: 33.947\n",
      "[Epoch 2610] T_loss: 0.69045, T_accuracy: 52.9379 | V_loss: 0.69850, V_accuracy: 44.0000 | Early stopping counter: 85 out of 100 | T_time: 00:01:17, T_speed: 33.896\n",
      "[Epoch 2640] T_loss: 0.69040, T_accuracy: 53.0211 | V_loss: 0.69838, V_accuracy: 44.0000 | Early stopping counter: 86 out of 100 | T_time: 00:01:18, T_speed: 33.846\n",
      "[Epoch 2670] T_loss: 0.69048, T_accuracy: 53.0765 | V_loss: 0.69858, V_accuracy: 44.0000 | Early stopping counter: 87 out of 100 | T_time: 00:01:18, T_speed: 34.231\n",
      "[Epoch 2700] T_loss: 0.69066, T_accuracy: 53.0488 | V_loss: 0.69862, V_accuracy: 44.0000 | Early stopping counter: 88 out of 100 | T_time: 00:01:19, T_speed: 34.177\n",
      "[Epoch 2730] T_loss: 0.69051, T_accuracy: 52.9102 | V_loss: 0.69851, V_accuracy: 44.0000 | Early stopping counter: 89 out of 100 | T_time: 00:01:20, T_speed: 34.125\n",
      "[Epoch 2760] T_loss: 0.69062, T_accuracy: 53.0765 | V_loss: 0.69854, V_accuracy: 44.0000 | Early stopping counter: 90 out of 100 | T_time: 00:01:21, T_speed: 34.074\n",
      "[Epoch 2790] T_loss: 0.69058, T_accuracy: 53.0211 | V_loss: 0.69823, V_accuracy: 44.0000 | Early stopping counter: 91 out of 100 | T_time: 00:01:22, T_speed: 34.024\n",
      "[Epoch 2820] T_loss: 0.69040, T_accuracy: 53.0488 | V_loss: 0.69836, V_accuracy: 44.0000 | Early stopping counter: 92 out of 100 | T_time: 00:01:23, T_speed: 33.976\n",
      "[Epoch 2850] T_loss: 0.69060, T_accuracy: 53.0488 | V_loss: 0.69852, V_accuracy: 44.0000 | Early stopping counter: 93 out of 100 | T_time: 00:01:24, T_speed: 33.929\n",
      "[Epoch 2880] T_loss: 0.69047, T_accuracy: 53.2151 | V_loss: 0.69846, V_accuracy: 44.0000 | Early stopping counter: 94 out of 100 | T_time: 00:01:25, T_speed: 33.882\n",
      "[Epoch 2910] T_loss: 0.69044, T_accuracy: 53.3259 | V_loss: 0.69862, V_accuracy: 44.0000 | Early stopping counter: 95 out of 100 | T_time: 00:01:26, T_speed: 33.837\n",
      "[Epoch 2940] T_loss: 0.69045, T_accuracy: 53.0488 | V_loss: 0.69865, V_accuracy: 44.0000 | Early stopping counter: 96 out of 100 | T_time: 00:01:26, T_speed: 34.186\n",
      "[Epoch 2970] T_loss: 0.69080, T_accuracy: 53.0211 | V_loss: 0.69862, V_accuracy: 44.0000 | Early stopping counter: 97 out of 100 | T_time: 00:01:27, T_speed: 34.138\n",
      "[Epoch 3000] T_loss: 0.69055, T_accuracy: 53.1874 | V_loss: 0.69852, V_accuracy: 44.0000 | Early stopping counter: 98 out of 100 | T_time: 00:01:28, T_speed: 34.091\n",
      "[Epoch 3030] T_loss: 0.69059, T_accuracy: 53.0488 | V_loss: 0.69856, V_accuracy: 44.0000 | Early stopping counter: 99 out of 100 | T_time: 00:01:29, T_speed: 34.045\n",
      "[Epoch 3060] T_loss: 0.69066, T_accuracy: 53.1319 | V_loss: 0.69827, V_accuracy: 44.0000 | Early stopping counter: 100 out of 100 *** TRAIN EARLY STOPPED! *** | T_time: 00:01:30, T_speed: 34.000\n",
      "Final training time: 00:01:30\n"
     ]
    },
    {
     "data": {
      "text/html": [],
      "text/plain": [
       "<IPython.core.display.HTML object>"
      ]
     },
     "metadata": {},
     "output_type": "display_data"
    },
    {
     "data": {
      "text/html": [
       "<br>    <style><br>        .wandb-row {<br>            display: flex;<br>            flex-direction: row;<br>            flex-wrap: wrap;<br>            justify-content: flex-start;<br>            width: 100%;<br>        }<br>        .wandb-col {<br>            display: flex;<br>            flex-direction: column;<br>            flex-basis: 100%;<br>            flex: 1;<br>            padding: 10px;<br>        }<br>    </style><br><div class=\"wandb-row\"><div class=\"wandb-col\"><h3>Run history:</h3><br/><table class=\"wandb\"><tr><td>Epoch</td><td>▁▁▁▂▂▂▃▃▃▃▄▄▄▄▄▄▅▅▅▅▅▆▆▆▆▆▆▆▆▆▇▇▇▇▇▇▇▇██</td></tr><tr><td>Training accuracy (%)</td><td>▁▇▇▇████████████▇███████████████████████</td></tr><tr><td>Training loss</td><td>█▅▃▂▂▁▁▂▁▁▂▂▂▂▂▂▂▂▁▁▁▂▁▂▁▁▂▁▁▁▂▁▁▁▂▁▁▁▁▁</td></tr><tr><td>Training speed (epochs/sec.)</td><td>▁█▇▇▆▆▆▇▆▆▆▆▆▆▆▆▆▆▆▆▆▆▆▆▆▆▆▆▆▆▆▆▆▆▆▆▆▆▆▆</td></tr><tr><td>Validation accuracy (%)</td><td>▁█▁▁▁▁▁▁▁▁▁▁▁▁▁▁▁▁▁▁▁▁▁▁▁▁▁▁▁▁▁▁▁▁▁▁▁▁▁▁</td></tr><tr><td>Validation loss</td><td>▄▁█████████████▇███▇███▇▇██▇▇███▇▇███▇█▇</td></tr></table><br/></div><div class=\"wandb-col\"><h3>Run summary:</h3><br/><table class=\"wandb\"><tr><td>Epoch</td><td>3060</td></tr><tr><td>Training accuracy (%)</td><td>53.13193</td></tr><tr><td>Training loss</td><td>0.69066</td></tr><tr><td>Training speed (epochs/sec.)</td><td>34</td></tr><tr><td>Validation accuracy (%)</td><td>44</td></tr><tr><td>Validation loss</td><td>0.69827</td></tr></table><br/></div></div>"
      ],
      "text/plain": [
       "<IPython.core.display.HTML object>"
      ]
     },
     "metadata": {},
     "output_type": "display_data"
    },
    {
     "data": {
      "text/html": [
       " View run <strong style=\"color:#cdcd00\">2024-12-20_23-13-38</strong> at: <a href='https://wandb.ai/chosuyeon-korea-university-of-technology-and-education/lstm_classification_btc_krw/runs/d5cnvw9e' target=\"_blank\">https://wandb.ai/chosuyeon-korea-university-of-technology-and-education/lstm_classification_btc_krw/runs/d5cnvw9e</a><br> View project at: <a href='https://wandb.ai/chosuyeon-korea-university-of-technology-and-education/lstm_classification_btc_krw' target=\"_blank\">https://wandb.ai/chosuyeon-korea-university-of-technology-and-education/lstm_classification_btc_krw</a><br>Synced 5 W&B file(s), 0 media file(s), 0 artifact file(s) and 0 other file(s)"
      ],
      "text/plain": [
       "<IPython.core.display.HTML object>"
      ]
     },
     "metadata": {},
     "output_type": "display_data"
    },
    {
     "data": {
      "text/html": [
       "Find logs at: <code>./wandb/run-20241220_231338-d5cnvw9e/logs</code>"
      ],
      "text/plain": [
       "<IPython.core.display.HTML object>"
      ]
     },
     "metadata": {},
     "output_type": "display_data"
    }
   ],
   "source": [
    "# if __name__ == \"__main__\":\n",
    "#     import argparse\n",
    "\n",
    "#     # ArgumentParser 생성 및 플래그 추가\n",
    "#     parser = argparse.ArgumentParser(description=\"LSTM classification trainer arguments\")\n",
    "    \n",
    "#     parser.add_argument('--wandb', action='store_true', help='Weights & Biases 사용 여부')\n",
    "#     parser.add_argument('--epochs', type=int, default=10_000, help='총 학습 에폭 수')\n",
    "#     parser.add_argument('--batch_size', type=int, default=2048, help='배치 크기')\n",
    "#     parser.add_argument('--validation_intervals', type=int, default=30, help='검증을 수행할 간격')\n",
    "#     parser.add_argument('--learning_rate', type=float, default=1e-4, help='학습률')\n",
    "#     parser.add_argument('--early_stop_patience', type=int, default=30, help='조기 종료를 위한 인내심')\n",
    "#     parser.add_argument('--early_stop_delta', type=float, default=0.000001, help='조기 종료를 위한 최소 개선값')\n",
    "#     parser.add_argument('--weight_decay', type=float, default=0.0, help='L2 정규화 계수')\n",
    "    \n",
    "#     # 지정된 순서대로 args를 생성\n",
    "#     args = parser.parse_args([\n",
    "#         '--wandb',\n",
    "#         '--batch_size', '2048',\n",
    "#         '--validation_intervals', '30',\n",
    "#         '--learning_rate', '0.0001',\n",
    "#         '--early_stop_patience', '30',\n",
    "#         '--early_stop_delta', '1e-06',\n",
    "#         '--weight_decay', '1e-4'\n",
    "#     ])\n",
    "\n",
    "#     # args 출력 확인\n",
    "#     print(args)\n",
    "\n",
    "#     # main 함수 호출\n",
    "#     main(args)\n",
    "\n",
    "if __name__ == \"__main__\":\n",
    "  parser = get_parser()\n",
    "  # args = parser.parse_args()\n",
    "  args = parser.parse_args([\n",
    "      '--wandb',                       # wandb 활성화\n",
    "      '-r', '0.00001',                 # learning_rate 수정\n",
    "      '-p', '100',                     # early_stop_patience 수정\n",
    "      '-w', '1e-4',\n",
    "  ])\n",
    "  main(args)"
   ]
  },
  {
   "cell_type": "markdown",
   "metadata": {},
   "source": [
    "- 가장 학습이 잘 되는 모델 구성 및 하이퍼파라미터 값\n",
    "    - LSTM layers의 개수: 2개(수정 없이 그대로)\n",
    "    - Linear layers의 개수: 1개(수정 없이 그대로)\n",
    "    - Weight Decay: 1e−4\n",
    "    - Dropout Rate: 0.3"
   ]
  },
  {
   "cell_type": "markdown",
   "metadata": {},
   "source": [
    "##### classification_test_lstm"
   ]
  },
  {
   "cell_type": "code",
   "execution_count": 101,
   "metadata": {},
   "outputs": [
    {
     "name": "stdout",
     "output_type": "stream",
     "text": [
      "/data/2_data_server/nlp-05/KOREATECH/2024-2_DL/link_dl\n"
     ]
    }
   ],
   "source": [
    "import torch\n",
    "import os\n",
    "from pathlib import Path\n",
    "from datetime import datetime\n",
    "import wandb\n",
    "\n",
    "# BASE_PATH = str(Path(__file__).resolve().parent.parent.parent) # BASE_PATH: /Users/yhhan/git/link_dl\n",
    "BASE_PATH = str(Path.cwd().parent.parent.parent)  # 현재 디렉토리 기준으로 부모 디렉토리 이동\n",
    "print(BASE_PATH)\n",
    "\n",
    "import sys\n",
    "sys.path.append(BASE_PATH)\n",
    "\n",
    "# CURRENT_FILE_PATH = os.path.dirname(os.path.abspath(__file__))\n",
    "CURRENT_FILE_PATH = str(Path.cwd())\n",
    "CHECKPOINT_FILE_PATH = os.path.join(CURRENT_FILE_PATH, \"checkpoints\")\n",
    "\n",
    "if not os.path.isdir(CHECKPOINT_FILE_PATH):\n",
    "  os.makedirs(os.path.join(CURRENT_FILE_PATH, \"checkpoints\"))\n",
    "\n",
    "from _01_code._15_lstm_and_its_application.f_arg_parser import get_parser\n",
    "# from _01_code._15_lstm_and_its_application.g_crypto_currency_regression_train_lstm import get_btc_krw_data\n",
    "# from _01_code._15_lstm_and_its_application.i_crypto_currency_classification_train_lstm import get_model\n",
    "\n",
    "def test(test_model):\n",
    "  _, _, test_data_loader = get_btc_krw_data(is_regression=False)\n",
    "\n",
    "  test_model.eval()\n",
    "\n",
    "  num_corrects_test = 0\n",
    "  num_tested_samples = 0\n",
    "\n",
    "  print(\"[TEST DATA]\")\n",
    "  with torch.no_grad():\n",
    "    for test_batch in test_data_loader:\n",
    "      input_test, target_test = test_batch\n",
    "\n",
    "      output_test = test_model(input_test)\n",
    "\n",
    "      predicted_test = torch.argmax(output_test, dim=1)\n",
    "      num_corrects_test += torch.sum(torch.eq(predicted_test, target_test))\n",
    "\n",
    "      num_tested_samples += len(input_test)\n",
    "\n",
    "    test_accuracy = 100.0 * num_corrects_test / num_tested_samples\n",
    "\n",
    "    print(f\"TEST RESULTS: {test_accuracy:6.3f}%\")\n",
    "\n",
    "    for idx, (output, target) in enumerate(zip(output_test, target_test)):\n",
    "      print(\"{0:2}: {1:6,.2f} <--> {2:6,.2f}\".format(\n",
    "        idx, torch.argmax(output).item(), target.item()\n",
    "      ))"
   ]
  },
  {
   "cell_type": "code",
   "execution_count": 103,
   "metadata": {},
   "outputs": [
    {
     "name": "stdout",
     "output_type": "stream",
     "text": [
      "MODEL FILE: /data/2_data_server/nlp-05/KOREATECH/2024-2_DL/link_dl/_03_your_code/CSE533/hw4/checkpoints/lstm_classification_btc_krw_checkpoint_latest.pt\n"
     ]
    },
    {
     "name": "stderr",
     "output_type": "stream",
     "text": [
      "/tmp/ipykernel_42112/138346085.py:29: FutureWarning: You are using `torch.load` with `weights_only=False` (the current default value), which uses the default pickle module implicitly. It is possible to construct malicious pickle data which will execute arbitrary code during unpickling (See https://github.com/pytorch/pytorch/blob/main/SECURITY.md#untrusted-models for more details). In a future release, the default value for `weights_only` will be flipped to `True`. This limits the functions that could be executed during unpickling. Arbitrary objects will no longer be allowed to be loaded via this mode unless they are explicitly allowlisted by the user via `torch.serialization.add_safe_globals`. We recommend you start setting `weights_only=True` for any use case where you don't have full control of the loaded file. Please open an issue on GitHub for any issues related to this experimental feature.\n",
      "  test_model.load_state_dict(torch.load(latest_file_path, map_location=torch.device('cpu')))\n"
     ]
    },
    {
     "name": "stdout",
     "output_type": "stream",
     "text": [
      "[TEST DATA]\n",
      "TEST RESULTS: 40.000%\n",
      " 0:   0.00 <-->   1.00\n",
      " 1:   0.00 <-->   1.00\n",
      " 2:   0.00 <-->   0.00\n",
      " 3:   0.00 <-->   1.00\n",
      " 4:   0.00 <-->   1.00\n",
      " 5:   0.00 <-->   1.00\n",
      " 6:   0.00 <-->   0.00\n",
      " 7:   0.00 <-->   0.00\n",
      " 8:   0.00 <-->   1.00\n",
      " 9:   0.00 <-->   0.00\n"
     ]
    }
   ],
   "source": [
    "def main(args):\n",
    "  run_time_str = datetime.now().astimezone().strftime('%Y-%m-%d_%H-%M-%S')\n",
    "\n",
    "  config = {\n",
    "    'epochs': args.epochs,\n",
    "    'batch_size': args.batch_size,\n",
    "    'validation_intervals': args.validation_intervals,\n",
    "    'learning_rate': args.learning_rate,\n",
    "    'early_stop_patience': args.early_stop_patience,\n",
    "    'early_stop_delta': args.early_stop_delta,\n",
    "  }\n",
    "\n",
    "  project_name = \"lstm_classification_btc_krw\"\n",
    "  wandb.init(\n",
    "    mode=\"disabled\",\n",
    "    project=project_name,\n",
    "    notes=\"btc_krw experiment with lstm\",\n",
    "    tags=[\"lstm\", \"regression\", \"btc_krw\"],\n",
    "    name=run_time_str,\n",
    "    config=config\n",
    "  )\n",
    "\n",
    "  test_model = get_model()\n",
    "\n",
    "  latest_file_path = os.path.join(\n",
    "    CHECKPOINT_FILE_PATH, f\"{project_name}_checkpoint_latest.pt\"\n",
    "  )\n",
    "  print(\"MODEL FILE: {0}\".format(latest_file_path))\n",
    "  test_model.load_state_dict(torch.load(latest_file_path, map_location=torch.device('cpu')))\n",
    "\n",
    "  test(test_model)\n",
    "\n",
    "if __name__ == \"__main__\":\n",
    "  parser = get_parser()\n",
    "  args = parser.parse_args([\n",
    "      '--no-wandb',                    # wandb 비활성화 (False)\n",
    "      '--batch_size', '2048',          # batch_size 기본값\n",
    "      '--epochs', '10000',             # epochs 기본값 \n",
    "      '--learning_rate', '0.00001',     # learning_rate 기본값 (1e-4)\n",
    "      '--weight_decay', '0.0001',         \n",
    "      '--validation_intervals', '30',   # validation_intervals 기본값\n",
    "      '--early_stop_patience', '100',   # early_stop_patience 기본값\n",
    "      '--early_stop_delta', '0.000001' # early_stop_delta 기본값\n",
    "  ])\n",
    "  main(args)"
   ]
  },
  {
   "cell_type": "markdown",
   "metadata": {},
   "source": [
    "#### [문제 3] 데이터 Feature 추가 후 성능 변화 확인하기"
   ]
  },
  {
   "cell_type": "markdown",
   "metadata": {},
   "source": [
    "진행하지 못함"
   ]
  },
  {
   "cell_type": "markdown",
   "metadata": {},
   "source": [
    "# 숙제 후기"
   ]
  },
  {
   "cell_type": "markdown",
   "metadata": {},
   "source": [
    "- lstm을 regression과 classification task를 진행해보면서 어느 값이 최적의 값인지 확인할 수 있었음\n",
    "- 마지막 문제인 3도 진행했으면 좋았겠으나 진행하지 못해 매우 아쉬움"
   ]
  }
 ],
 "metadata": {
  "kernelspec": {
   "display_name": "DL",
   "language": "python",
   "name": "python3"
  },
  "language_info": {
   "codemirror_mode": {
    "name": "ipython",
    "version": 3
   },
   "file_extension": ".py",
   "mimetype": "text/x-python",
   "name": "python",
   "nbconvert_exporter": "python",
   "pygments_lexer": "ipython3",
   "version": "3.10.16"
  }
 },
 "nbformat": 4,
 "nbformat_minor": 2
}

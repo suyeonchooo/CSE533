{
 "cells": [
  {
   "cell_type": "markdown",
   "metadata": {},
   "source": [
    "# Homework 3"
   ]
  },
  {
   "cell_type": "markdown",
   "metadata": {},
   "source": [
    "#### [문제 1] Fashion MNIST 데이터 정규화를 위한 Mean과 Std. 값 찾기"
   ]
  },
  {
   "cell_type": "markdown",
   "metadata": {},
   "source": [
    "##### a_fashion_mnist_data.py"
   ]
  },
  {
   "cell_type": "code",
   "execution_count": 19,
   "metadata": {},
   "outputs": [
    {
     "name": "stdout",
     "output_type": "stream",
     "text": [
      "/data/2_data_server/nlp-05/KOREATECH/2024-2_DL/link_dl\n"
     ]
    }
   ],
   "source": [
    "import os\n",
    "from pathlib import Path\n",
    "import torch\n",
    "import wandb\n",
    "from torch import nn\n",
    "\n",
    "from torch.utils.data import DataLoader, random_split\n",
    "from torchvision import datasets\n",
    "from torchvision.transforms import transforms\n",
    "\n",
    "# BASE_PATH = str(Path(__file__).resolve().parent.parent.parent) \n",
    "BASE_PATH = str(Path.cwd().parent.parent.parent)  # 현재 디렉토리 기준으로 부모 디렉토리 이동\n",
    "print(BASE_PATH)\n",
    "\n",
    "import sys\n",
    "\n",
    "sys.path.append(BASE_PATH)\n",
    "\n",
    "from _01_code._99_common_utils.utils import get_num_cpu_cores, is_linux, is_windows"
   ]
  },
  {
   "cell_type": "code",
   "execution_count": 20,
   "metadata": {},
   "outputs": [],
   "source": [
    "def get_fashion_mnist_data():\n",
    "    # 데이터 경로 설정 (BASE_PATH 기준으로 _00_data/j_fashion_mnist에 저장)\n",
    "    data_path = os.path.join(BASE_PATH, \"_00_data\", \"j_fashion_mnist\")\n",
    "\n",
    "    # FashionMNIST 데이터셋 다운로드 및 로드\n",
    "    # train=True로 학습 데이터셋을 불러오며, transform=transforms.ToTensor()로 이미지를 텐서 형식으로 변환\n",
    "    f_mnist_train = datasets.FashionMNIST(data_path, train=True, download=True, transform=transforms.ToTensor())\n",
    "    \n",
    "    # 학습 데이터셋을 학습용(55,000)과 검증용(5,000)으로 나눔\n",
    "    f_mnist_train, f_mnist_validation = random_split(f_mnist_train, [55_000, 5_000])\n",
    "\n",
    "    # 학습 및 검증 데이터셋의 샘플 개수 출력\n",
    "    print(\"Num Train Samples: \", len(f_mnist_train))\n",
    "    print(\"Num Validation Samples: \", len(f_mnist_validation))\n",
    "    \n",
    "    # 데이터셋의 샘플 이미지 크기 출력 (채널 수 1, 높이 28, 너비 28)\n",
    "    print(\"Sample Shape: \", f_mnist_train[0][0].shape)  # torch.Size([1, 28, 28])\n",
    "\n",
    "    # 데이터 로딩에 사용할 CPU 코어 수를 결정 (Linux/Windows는 CPU 코어 수, 그 외는 0으로 설정)\n",
    "    num_data_loading_workers = get_num_cpu_cores() if is_linux() or is_windows() else 0\n",
    "    print(\"Number of Data Loading Workers:\", num_data_loading_workers)\n",
    "\n",
    "    # 학습 데이터 로더 생성\n",
    "    # 데이터셋: f_mnist_train, 배치 크기: wandb.config.batch_size, 셔플 활성화, pin_memory 활성화, 워커 수: num_data_loading_workers\n",
    "    train_data_loader = DataLoader(\n",
    "        dataset=f_mnist_train, batch_size=wandb.config.batch_size, shuffle=True,\n",
    "        pin_memory=True, num_workers=num_data_loading_workers\n",
    "    )\n",
    "\n",
    "    # 검증 데이터 로더 생성\n",
    "    # 데이터셋: f_mnist_validation, 배치 크기: wandb.config.batch_size, pin_memory 활성화, 워커 수: num_data_loading_workers\n",
    "    validation_data_loader = DataLoader(\n",
    "        dataset=f_mnist_validation, batch_size=wandb.config.batch_size,\n",
    "        pin_memory=True, num_workers=num_data_loading_workers\n",
    "    )\n",
    "\n",
    "    # 데이터 정규화를 위한 변환 파이프라인 설정\n",
    "    # - ConvertImageDtype: 이미지를 torch.float 형식으로 변환\n",
    "    # - Normalize: 평균(mean=0.0)과 표준편차(std=0.1)로 정규화\n",
    "    f_mnist_transforms = nn.Sequential(\n",
    "        transforms.ConvertImageDtype(torch.float),\n",
    "        transforms.Normalize(mean=0.0, std=0.1),\n",
    "    )\n",
    "\n",
    "    # 학습 데이터 로더, 검증 데이터 로더, 변환 파이프라인 반환\n",
    "    return train_data_loader, validation_data_loader, f_mnist_transforms\n"
   ]
  },
  {
   "cell_type": "code",
   "execution_count": 21,
   "metadata": {},
   "outputs": [],
   "source": [
    "def get_fashion_mnist_test_data():\n",
    "    # 데이터 경로 설정 (BASE_PATH 기준으로 _00_data/j_fashion_mnist에 저장)\n",
    "    data_path = os.path.join(BASE_PATH, \"_00_data\", \"j_fashion_mnist\")\n",
    "\n",
    "    # 테스트용 FashionMNIST 데이터셋 다운로드 및 로드 (train=False로 테스트 데이터셋 로드)\n",
    "    # transform 없이 원본 이미지만 로드하는 버전\n",
    "    f_mnist_test_images = datasets.FashionMNIST(data_path, train=False, download=True)\n",
    "\n",
    "    # transform=transforms.ToTensor()로 이미지를 텐서 형식으로 변환한 테스트 데이터셋 로드\n",
    "    f_mnist_test = datasets.FashionMNIST(data_path, train=False, download=True, transform=transforms.ToTensor())\n",
    "\n",
    "    # 테스트 데이터셋의 샘플 개수 출력\n",
    "    print(\"Num Test Samples: \", len(f_mnist_test))\n",
    "    \n",
    "    # 데이터셋의 샘플 이미지 크기 출력 (채널 수 1, 높이 28, 너비 28)\n",
    "    print(\"Sample Shape: \", f_mnist_test[0][0].shape)  # torch.Size([1, 28, 28])\n",
    "\n",
    "    # 테스트 데이터 로더 생성\n",
    "    # - 데이터셋: f_mnist_test\n",
    "    # - 배치 크기: len(f_mnist_test) (한 번에 전체 데이터 로드)\n",
    "    test_data_loader = DataLoader(dataset=f_mnist_test, batch_size=len(f_mnist_test))\n",
    "\n",
    "    # 데이터 정규화를 위한 변환 파이프라인 설정\n",
    "    # - ConvertImageDtype: 이미지를 torch.float 형식으로 변환\n",
    "    # - Normalize: 평균(mean=0.0)과 표준편차(std=0.1)로 정규화\n",
    "    f_mnist_transforms = nn.Sequential(\n",
    "        transforms.ConvertImageDtype(torch.float),\n",
    "        # transforms.Normalize(mean=0.0, std=0.1),\n",
    "        transforms.Normalize(mean=0.2860407531261444, std=0.320453405380249),\n",
    "    )\n",
    "\n",
    "    # 원본 테스트 데이터셋, 테스트 데이터 로더, 변환 파이프라인 반환\n",
    "    return f_mnist_test_images, test_data_loader, f_mnist_transforms\n"
   ]
  },
  {
   "cell_type": "code",
   "execution_count": 6,
   "metadata": {},
   "outputs": [
    {
     "name": "stdout",
     "output_type": "stream",
     "text": [
      "Downloading http://fashion-mnist.s3-website.eu-central-1.amazonaws.com/train-images-idx3-ubyte.gz\n",
      "Downloading http://fashion-mnist.s3-website.eu-central-1.amazonaws.com/train-images-idx3-ubyte.gz to /data/2_data_server/nlp-05/KOREATECH/2024-2_DL/link_dl/_00_data/j_fashion_mnist/FashionMNIST/raw/train-images-idx3-ubyte.gz\n"
     ]
    },
    {
     "name": "stderr",
     "output_type": "stream",
     "text": [
      "100.0%\n"
     ]
    },
    {
     "name": "stdout",
     "output_type": "stream",
     "text": [
      "Extracting /data/2_data_server/nlp-05/KOREATECH/2024-2_DL/link_dl/_00_data/j_fashion_mnist/FashionMNIST/raw/train-images-idx3-ubyte.gz to /data/2_data_server/nlp-05/KOREATECH/2024-2_DL/link_dl/_00_data/j_fashion_mnist/FashionMNIST/raw\n",
      "\n",
      "Downloading http://fashion-mnist.s3-website.eu-central-1.amazonaws.com/train-labels-idx1-ubyte.gz\n",
      "Downloading http://fashion-mnist.s3-website.eu-central-1.amazonaws.com/train-labels-idx1-ubyte.gz to /data/2_data_server/nlp-05/KOREATECH/2024-2_DL/link_dl/_00_data/j_fashion_mnist/FashionMNIST/raw/train-labels-idx1-ubyte.gz\n"
     ]
    },
    {
     "name": "stderr",
     "output_type": "stream",
     "text": [
      "100.0%\n"
     ]
    },
    {
     "name": "stdout",
     "output_type": "stream",
     "text": [
      "Extracting /data/2_data_server/nlp-05/KOREATECH/2024-2_DL/link_dl/_00_data/j_fashion_mnist/FashionMNIST/raw/train-labels-idx1-ubyte.gz to /data/2_data_server/nlp-05/KOREATECH/2024-2_DL/link_dl/_00_data/j_fashion_mnist/FashionMNIST/raw\n",
      "\n",
      "Downloading http://fashion-mnist.s3-website.eu-central-1.amazonaws.com/t10k-images-idx3-ubyte.gz\n",
      "Downloading http://fashion-mnist.s3-website.eu-central-1.amazonaws.com/t10k-images-idx3-ubyte.gz to /data/2_data_server/nlp-05/KOREATECH/2024-2_DL/link_dl/_00_data/j_fashion_mnist/FashionMNIST/raw/t10k-images-idx3-ubyte.gz\n"
     ]
    },
    {
     "name": "stderr",
     "output_type": "stream",
     "text": [
      "100.0%\n"
     ]
    },
    {
     "name": "stdout",
     "output_type": "stream",
     "text": [
      "Extracting /data/2_data_server/nlp-05/KOREATECH/2024-2_DL/link_dl/_00_data/j_fashion_mnist/FashionMNIST/raw/t10k-images-idx3-ubyte.gz to /data/2_data_server/nlp-05/KOREATECH/2024-2_DL/link_dl/_00_data/j_fashion_mnist/FashionMNIST/raw\n",
      "\n",
      "Downloading http://fashion-mnist.s3-website.eu-central-1.amazonaws.com/t10k-labels-idx1-ubyte.gz\n",
      "Downloading http://fashion-mnist.s3-website.eu-central-1.amazonaws.com/t10k-labels-idx1-ubyte.gz to /data/2_data_server/nlp-05/KOREATECH/2024-2_DL/link_dl/_00_data/j_fashion_mnist/FashionMNIST/raw/t10k-labels-idx1-ubyte.gz\n"
     ]
    },
    {
     "name": "stderr",
     "output_type": "stream",
     "text": [
      "100.0%"
     ]
    },
    {
     "name": "stdout",
     "output_type": "stream",
     "text": [
      "Extracting /data/2_data_server/nlp-05/KOREATECH/2024-2_DL/link_dl/_00_data/j_fashion_mnist/FashionMNIST/raw/t10k-labels-idx1-ubyte.gz to /data/2_data_server/nlp-05/KOREATECH/2024-2_DL/link_dl/_00_data/j_fashion_mnist/FashionMNIST/raw\n",
      "\n",
      "Num Train Samples:  55000\n",
      "Num Validation Samples:  5000\n",
      "Sample Shape:  torch.Size([1, 28, 28])\n",
      "Number of Data Loading Workers: 20\n",
      "\n",
      "Num Test Samples:  10000\n",
      "Sample Shape:  torch.Size([1, 28, 28])\n"
     ]
    },
    {
     "name": "stderr",
     "output_type": "stream",
     "text": [
      "\n"
     ]
    }
   ],
   "source": [
    "if __name__ == \"__main__\":\n",
    "    # 메인 실행 블록 시작\n",
    "    # wandb 초기 설정 (mode=\"disabled\"로 로깅 비활성화, 설정 값으로 'batch_size' 지정)\n",
    "    config = {'batch_size': 2048, }  # 배치 크기를 2048로 설정\n",
    "    wandb.init(mode=\"disabled\", config=config)  # wandb 로깅 비활성화로 초기화\n",
    "\n",
    "    # FashionMNIST 학습 및 검증 데이터 로더와 변환 파이프라인 로드\n",
    "    train_data_loader, validation_data_loader, f_mnist_transforms = get_fashion_mnist_data()\n",
    "\n",
    "    # 빈 줄 출력 (가독성 향상)\n",
    "    print()\n",
    "\n",
    "    # FashionMNIST 테스트 데이터셋, 테스트 데이터 로더, 변환 파이프라인 로드\n",
    "    f_mnist_test_images, test_data_loader, f_mnist_transforms = get_fashion_mnist_test_data()\n"
   ]
  },
  {
   "cell_type": "markdown",
   "metadata": {},
   "source": [
    "##### 정확한 mean 값과 std 값 찾기"
   ]
  },
  {
   "cell_type": "code",
   "execution_count": 7,
   "metadata": {},
   "outputs": [
    {
     "name": "stdout",
     "output_type": "stream",
     "text": [
      "Downloading http://fashion-mnist.s3-website.eu-central-1.amazonaws.com/train-images-idx3-ubyte.gz\n",
      "Downloading http://fashion-mnist.s3-website.eu-central-1.amazonaws.com/train-images-idx3-ubyte.gz to ./data/FashionMNIST/raw/train-images-idx3-ubyte.gz\n"
     ]
    },
    {
     "name": "stderr",
     "output_type": "stream",
     "text": [
      "100.0%\n"
     ]
    },
    {
     "name": "stdout",
     "output_type": "stream",
     "text": [
      "Extracting ./data/FashionMNIST/raw/train-images-idx3-ubyte.gz to ./data/FashionMNIST/raw\n",
      "\n",
      "Downloading http://fashion-mnist.s3-website.eu-central-1.amazonaws.com/train-labels-idx1-ubyte.gz\n",
      "Downloading http://fashion-mnist.s3-website.eu-central-1.amazonaws.com/train-labels-idx1-ubyte.gz to ./data/FashionMNIST/raw/train-labels-idx1-ubyte.gz\n"
     ]
    },
    {
     "name": "stderr",
     "output_type": "stream",
     "text": [
      "100.0%\n"
     ]
    },
    {
     "name": "stdout",
     "output_type": "stream",
     "text": [
      "Extracting ./data/FashionMNIST/raw/train-labels-idx1-ubyte.gz to ./data/FashionMNIST/raw\n",
      "\n",
      "Downloading http://fashion-mnist.s3-website.eu-central-1.amazonaws.com/t10k-images-idx3-ubyte.gz\n",
      "Downloading http://fashion-mnist.s3-website.eu-central-1.amazonaws.com/t10k-images-idx3-ubyte.gz to ./data/FashionMNIST/raw/t10k-images-idx3-ubyte.gz\n"
     ]
    },
    {
     "name": "stderr",
     "output_type": "stream",
     "text": [
      "100.0%\n"
     ]
    },
    {
     "name": "stdout",
     "output_type": "stream",
     "text": [
      "Extracting ./data/FashionMNIST/raw/t10k-images-idx3-ubyte.gz to ./data/FashionMNIST/raw\n",
      "\n",
      "Downloading http://fashion-mnist.s3-website.eu-central-1.amazonaws.com/t10k-labels-idx1-ubyte.gz\n",
      "Downloading http://fashion-mnist.s3-website.eu-central-1.amazonaws.com/t10k-labels-idx1-ubyte.gz to ./data/FashionMNIST/raw/t10k-labels-idx1-ubyte.gz\n"
     ]
    },
    {
     "name": "stderr",
     "output_type": "stream",
     "text": [
      "100.0%\n"
     ]
    },
    {
     "name": "stdout",
     "output_type": "stream",
     "text": [
      "Extracting ./data/FashionMNIST/raw/t10k-labels-idx1-ubyte.gz to ./data/FashionMNIST/raw\n",
      "\n",
      "Mean: 0.2860407531261444\n",
      "Std: 0.320453405380249\n"
     ]
    }
   ],
   "source": [
    "from torchvision import datasets, transforms\n",
    "from torch.utils.data import DataLoader\n",
    "import torch\n",
    "\n",
    "def calculate_mean_std(dataset):\n",
    "    # 모든 이미지의 평균과 표준 편차를 계산\n",
    "    loader = DataLoader(dataset, batch_size=64, shuffle=False)  # 배치 크기는 성능 최적화를 위해 설정\n",
    "    mean = 0.0\n",
    "    std = 0.0\n",
    "    total_samples = 0\n",
    "\n",
    "    for images, _ in loader:\n",
    "        # 배치 단위로 이미지의 픽셀 평균 및 표준 편차 계산\n",
    "        batch_samples = images.size(0)  # 배치 크기\n",
    "        images = images.view(batch_samples, -1)  # [N, 1, 28, 28] -> [N, 784]\n",
    "        mean += images.mean(1).sum()  # 배치 내 평균 계산 후 누적\n",
    "        std += images.std(1).sum()  # 배치 내 표준 편차 계산 후 누적\n",
    "        total_samples += batch_samples\n",
    "\n",
    "    # 전체 데이터셋의 평균 및 표준 편차 계산\n",
    "    mean /= total_samples\n",
    "    std /= total_samples\n",
    "\n",
    "    return mean.item(), std.item()\n",
    "\n",
    "# Fashion MNIST 데이터셋 불러오기 (텐서 변환만 적용)\n",
    "dataset = datasets.FashionMNIST(\n",
    "    root=\"./data\",\n",
    "    train=True,\n",
    "    download=True,\n",
    "    transform=transforms.ToTensor()\n",
    ")\n",
    "\n",
    "# 평균(mean)과 표준 편차(std) 계산\n",
    "mean, std = calculate_mean_std(dataset)\n",
    "\n",
    "print(f\"Mean: {mean}\")\n",
    "print(f\"Std: {std}\")"
   ]
  },
  {
   "cell_type": "markdown",
   "metadata": {},
   "source": [
    "#### [문제 2] Fashion MNIST 데이터에 대하여 CNN 학습시키기"
   ]
  },
  {
   "cell_type": "markdown",
   "metadata": {},
   "source": [
    "##### a_mnist_train_cnn.py"
   ]
  },
  {
   "cell_type": "code",
   "execution_count": 42,
   "metadata": {},
   "outputs": [],
   "source": [
    "import torch\n",
    "from torch import nn, optim\n",
    "from datetime import datetime\n",
    "import os\n",
    "import wandb\n",
    "from pathlib import Path\n",
    "import argparse\n",
    "\n",
    "# BASE_PATH = str(Path(__file__).resolve().parent.parent.parent) \n",
    "BASE_PATH = str(Path.cwd().parent.parent.parent)  # 현재 디렉토리 기준으로 부모 디렉토리 이동\n",
    "import sys\n",
    "sys.path.append(BASE_PATH)\n",
    "\n",
    "# CURRENT_FILE_PATH = os.path.dirname(os.path.abspath(__file__))\n",
    "CURRENT_FILE_PATH = os.getcwd()\n",
    "CHECKPOINT_FILE_PATH = os.path.join(CURRENT_FILE_PATH, \"checkpoints\")\n",
    "if not os.path.isdir(CHECKPOINT_FILE_PATH):\n",
    "  os.makedirs(os.path.join(CURRENT_FILE_PATH, \"checkpoints\"))\n",
    "\n",
    "import sys\n",
    "sys.path.append(BASE_PATH)\n",
    "\n",
    "from _01_code._08_fcn_best_practice.c_trainer import ClassificationTrainer\n",
    "# from _01_code._08_fcn_best_practice.f_mnist_train_fcn import get_mnist_data\n",
    "from _01_code._08_fcn_best_practice.e_arg_parser import get_parser"
   ]
  },
  {
   "cell_type": "code",
   "execution_count": 43,
   "metadata": {},
   "outputs": [],
   "source": [
    "def get_cnn_model():\n",
    "    # MyModel이라는 CNN 기반 신경망 정의\n",
    "    class MyModel(nn.Module):\n",
    "        def __init__(self, in_channels, n_output):\n",
    "            super().__init__()\n",
    "\n",
    "            # CNN 구조 정의\n",
    "            self.model = nn.Sequential(\n",
    "                # 첫 번째 Conv2d 레이어\n",
    "                # 입력 크기: B x 1 x 28 x 28\n",
    "                # 출력 크기: B x 6 x (28 - 5 + 1) x (28 - 5 + 1) = B x 6 x 24 x 24\n",
    "                nn.Conv2d(in_channels=in_channels, out_channels=6, kernel_size=(5, 5), stride=(1, 1)),\n",
    "                \n",
    "                # 첫 번째 MaxPooling 레이어\n",
    "                # 입력 크기: B x 6 x 24 x 24\n",
    "                # 출력 크기: B x 6 x 12 x 12\n",
    "                nn.MaxPool2d(kernel_size=2, stride=2),\n",
    "                \n",
    "                # 활성화 함수 ReLU 적용\n",
    "                nn.ReLU(),\n",
    "\n",
    "                # 두 번째 Conv2d 레이어\n",
    "                # 입력 크기: B x 6 x 12 x 12\n",
    "                # 출력 크기: B x 16 x (12 - 5 + 1) x (12 - 5 + 1) = B x 16 x 8 x 8\n",
    "                nn.Conv2d(in_channels=6, out_channels=16, kernel_size=(5, 5), stride=(1, 1)),\n",
    "\n",
    "                # 두 번째 MaxPooling 레이어\n",
    "                # 입력 크기: B x 16 x 8 x 8\n",
    "                # 출력 크기: B x 16 x 4 x 4\n",
    "                nn.MaxPool2d(kernel_size=2, stride=2),\n",
    "                \n",
    "                # 활성화 함수 ReLU 적용\n",
    "                nn.ReLU(),\n",
    "\n",
    "                # Flatten 레이어: 다차원 텐서를 1차원 텐서로 변환\n",
    "                # 입력 크기: B x 16 x 4 x 4\n",
    "                # 출력 크기: B x (16 * 4 * 4) = B x 256\n",
    "                nn.Flatten(),\n",
    "\n",
    "                # 첫 번째 완전연결(Linear) 레이어\n",
    "                # 입력 크기: B x 256\n",
    "                # 출력 크기: B x 128\n",
    "                nn.Linear(256, 128),\n",
    "\n",
    "                # 활성화 함수 ReLU 적용\n",
    "                nn.ReLU(),\n",
    "\n",
    "                # 두 번째 완전연결(Linear) 레이어\n",
    "                # 입력 크기: B x 128\n",
    "                # 출력 크기: B x n_output\n",
    "                nn.Linear(128, n_output),\n",
    "            )\n",
    "\n",
    "        # 모델의 순전파(forward) 정의\n",
    "        def forward(self, x):\n",
    "            # Sequential로 정의된 레이어를 순차적으로 처리\n",
    "            x = self.model(x)\n",
    "            return x\n",
    "\n",
    "    # MyModel 인스턴스 생성\n",
    "    # 입력 채널 크기: 1 (Fashion MNIST는 흑백 이미지)\n",
    "    # 출력 크기: 10 (10개의 클래스 분류)\n",
    "    my_model = MyModel(in_channels=1, n_output=10)\n",
    "\n",
    "    # 생성된 모델 반환\n",
    "    return my_model\n"
   ]
  },
  {
   "cell_type": "code",
   "execution_count": 59,
   "metadata": {},
   "outputs": [],
   "source": [
    "def main(args):\n",
    "    print(f\"WandB: {args.wandb}\")\n",
    "    print(f\"Batch size: {args.batch_size}\")\n",
    "    print(f\"learning rate: {args.learning_rate}\")\n",
    "    print(f\"Validation interval: {args.validation_interval}\")\n",
    "    \n",
    "    run_time_str = datetime.now().astimezone().strftime('%Y-%m-%d_%H-%M-%S')\n",
    "\n",
    "    config = {'wandb': True,\n",
    "            'batch_size': 2048,\n",
    "            'learning_rate': 1e-3,\n",
    "            'epochs': 1000,                # 에포크 수\n",
    "            'validation_interval': 10,\n",
    "            'checkpoint_file_path': CHECKPOINT_FILE_PATH,\n",
    "            'early_stop_patience': 5,    # 조기 종료를 위한 patience 설정\n",
    "            'early_stop_delta': 0.001,    # 조기 종료를 위한 최소 변화량\n",
    "            'validation_intervals': 10   # 검증 간격 추가\n",
    "    }  \n",
    "    wandb.init(mode=\"online\", config=config) \n",
    "\n",
    "    # FashionMNIST 데이터 로더 및 변환 파이프라인 설정\n",
    "    # - 학습 데이터 로더: train_data_loader\n",
    "    # - 검증 데이터 로더: validation_data_loader\n",
    "    # - 데이터 변환 규칙: f_mnist_transforms\n",
    "    train_data_loader, validation_data_loader, f_mnist_transforms = get_fashion_mnist_data()\n",
    "\n",
    "    # CNN 모델 학습 설정\n",
    "    # 프로젝트 이름 지정 및 wandb 초기화 (활성화 여부는 args.wandb로 결정)\n",
    "    project_name = \"cnn_fashion_mnist\"  # 프로젝트 이름 설정\n",
    "    wandb.init(\n",
    "        mode=\"online\" if args.wandb else \"disabled\",  # wandb 활성화 여부\n",
    "        project=project_name,  # wandb 프로젝트 이름\n",
    "        notes=\"FashionMNIST experiment with cnn\",  # 프로젝트 설명\n",
    "        tags=[\"cnn\", \"fashion_mnist\"],  # 태그 설정\n",
    "        name=run_time_str,\n",
    "        config=config  # wandb 설정값 적용\n",
    "    )\n",
    "\n",
    "    # 학습에 사용할 디바이스 설정: GPU 사용 가능하면 GPU, 아니면 CPU\n",
    "    device = torch.device(\"cuda:0\" if torch.cuda.is_available() else \"cpu\")\n",
    "    print(f\"Training on device {device}.\")  # 학습에 사용될 디바이스 출력\n",
    "\n",
    "    # CNN 모델 초기화 및 디바이스로 이동\n",
    "    model = get_cnn_model()  # 사용자 정의 CNN 모델 생성\n",
    "    model.to(device)  # 모델을 디바이스(GPU/CPU)로 이동\n",
    "    wandb.watch(model)  # wandb로 모델 로깅 설정\n",
    "\n",
    "    # SGD 최적화기(Optimizer) 설정: 모델의 파라미터와 학습률 지정\n",
    "    optimizer = optim.SGD(model.parameters(), lr=wandb.config.learning_rate)\n",
    "\n",
    "    # ClassificationTrainer 초기화: 학습, 검증 루프 관리\n",
    "    classification_trainer = ClassificationTrainer(\n",
    "        project_name, model, optimizer, train_data_loader, validation_data_loader, f_mnist_transforms,\n",
    "        run_time_str, wandb, device, CHECKPOINT_FILE_PATH\n",
    "    )\n",
    "    # 학습 루프 실행\n",
    "    classification_trainer.train_loop()\n",
    "\n",
    "    # wandb 세션 종료\n",
    "    wandb.finish()\n"
   ]
  },
  {
   "cell_type": "code",
   "execution_count": 60,
   "metadata": {},
   "outputs": [
    {
     "name": "stderr",
     "output_type": "stream",
     "text": [
      "\u001b[34m\u001b[1mwandb\u001b[0m: Currently logged in as: \u001b[33mchosuyeon\u001b[0m (\u001b[33mchosuyeon-korea-university-of-technology-and-education\u001b[0m). Use \u001b[1m`wandb login --relogin`\u001b[0m to force relogin\n"
     ]
    },
    {
     "name": "stdout",
     "output_type": "stream",
     "text": [
      "WandB: True\n",
      "Batch size: 2048\n",
      "learning rate: 0.001\n",
      "Validation interval: 10\n"
     ]
    },
    {
     "data": {
      "text/html": [
       "Tracking run with wandb version 0.18.5"
      ],
      "text/plain": [
       "<IPython.core.display.HTML object>"
      ]
     },
     "metadata": {},
     "output_type": "display_data"
    },
    {
     "data": {
      "text/html": [
       "Run data is saved locally in <code>/data/2_data_server/nlp-05/KOREATECH/2024-2_DL/link_dl/_03_your_code/CSE533/hw3/wandb/run-20241123_222521-ttl882sb</code>"
      ],
      "text/plain": [
       "<IPython.core.display.HTML object>"
      ]
     },
     "metadata": {},
     "output_type": "display_data"
    },
    {
     "data": {
      "text/html": [
       "Syncing run <strong><a href='https://wandb.ai/chosuyeon-korea-university-of-technology-and-education/CSE533-hw3/runs/ttl882sb' target=\"_blank\">faithful-silence-4</a></strong> to <a href='https://wandb.ai/chosuyeon-korea-university-of-technology-and-education/CSE533-hw3' target=\"_blank\">Weights & Biases</a> (<a href='https://wandb.me/run' target=\"_blank\">docs</a>)<br/>"
      ],
      "text/plain": [
       "<IPython.core.display.HTML object>"
      ]
     },
     "metadata": {},
     "output_type": "display_data"
    },
    {
     "data": {
      "text/html": [
       " View project at <a href='https://wandb.ai/chosuyeon-korea-university-of-technology-and-education/CSE533-hw3' target=\"_blank\">https://wandb.ai/chosuyeon-korea-university-of-technology-and-education/CSE533-hw3</a>"
      ],
      "text/plain": [
       "<IPython.core.display.HTML object>"
      ]
     },
     "metadata": {},
     "output_type": "display_data"
    },
    {
     "data": {
      "text/html": [
       " View run at <a href='https://wandb.ai/chosuyeon-korea-university-of-technology-and-education/CSE533-hw3/runs/ttl882sb' target=\"_blank\">https://wandb.ai/chosuyeon-korea-university-of-technology-and-education/CSE533-hw3/runs/ttl882sb</a>"
      ],
      "text/plain": [
       "<IPython.core.display.HTML object>"
      ]
     },
     "metadata": {},
     "output_type": "display_data"
    },
    {
     "name": "stdout",
     "output_type": "stream",
     "text": [
      "Num Train Samples:  55000\n",
      "Num Validation Samples:  5000\n",
      "Sample Shape:  torch.Size([1, 28, 28])\n",
      "Number of Data Loading Workers: 20\n"
     ]
    },
    {
     "data": {
      "text/html": [
       "Finishing last run (ID:ttl882sb) before initializing another..."
      ],
      "text/plain": [
       "<IPython.core.display.HTML object>"
      ]
     },
     "metadata": {},
     "output_type": "display_data"
    },
    {
     "data": {
      "text/html": [
       " View run <strong style=\"color:#cdcd00\">faithful-silence-4</strong> at: <a href='https://wandb.ai/chosuyeon-korea-university-of-technology-and-education/CSE533-hw3/runs/ttl882sb' target=\"_blank\">https://wandb.ai/chosuyeon-korea-university-of-technology-and-education/CSE533-hw3/runs/ttl882sb</a><br/> View project at: <a href='https://wandb.ai/chosuyeon-korea-university-of-technology-and-education/CSE533-hw3' target=\"_blank\">https://wandb.ai/chosuyeon-korea-university-of-technology-and-education/CSE533-hw3</a><br/>Synced 6 W&B file(s), 0 media file(s), 0 artifact file(s) and 0 other file(s)"
      ],
      "text/plain": [
       "<IPython.core.display.HTML object>"
      ]
     },
     "metadata": {},
     "output_type": "display_data"
    },
    {
     "data": {
      "text/html": [
       "Find logs at: <code>./wandb/run-20241123_222521-ttl882sb/logs</code>"
      ],
      "text/plain": [
       "<IPython.core.display.HTML object>"
      ]
     },
     "metadata": {},
     "output_type": "display_data"
    },
    {
     "data": {
      "text/html": [
       "Successfully finished last run (ID:ttl882sb). Initializing new run:<br/>"
      ],
      "text/plain": [
       "<IPython.core.display.HTML object>"
      ]
     },
     "metadata": {},
     "output_type": "display_data"
    },
    {
     "data": {
      "text/html": [
       "Tracking run with wandb version 0.18.5"
      ],
      "text/plain": [
       "<IPython.core.display.HTML object>"
      ]
     },
     "metadata": {},
     "output_type": "display_data"
    },
    {
     "data": {
      "text/html": [
       "Run data is saved locally in <code>/data/2_data_server/nlp-05/KOREATECH/2024-2_DL/link_dl/_03_your_code/CSE533/hw3/wandb/run-20241123_222524-mroeo94l</code>"
      ],
      "text/plain": [
       "<IPython.core.display.HTML object>"
      ]
     },
     "metadata": {},
     "output_type": "display_data"
    },
    {
     "data": {
      "text/html": [
       "Syncing run <strong><a href='https://wandb.ai/chosuyeon-korea-university-of-technology-and-education/cnn_fashion_mnist/runs/mroeo94l' target=\"_blank\">2024-11-23_22-25-21</a></strong> to <a href='https://wandb.ai/chosuyeon-korea-university-of-technology-and-education/cnn_fashion_mnist' target=\"_blank\">Weights & Biases</a> (<a href='https://wandb.me/run' target=\"_blank\">docs</a>)<br/>"
      ],
      "text/plain": [
       "<IPython.core.display.HTML object>"
      ]
     },
     "metadata": {},
     "output_type": "display_data"
    },
    {
     "data": {
      "text/html": [
       " View project at <a href='https://wandb.ai/chosuyeon-korea-university-of-technology-and-education/cnn_fashion_mnist' target=\"_blank\">https://wandb.ai/chosuyeon-korea-university-of-technology-and-education/cnn_fashion_mnist</a>"
      ],
      "text/plain": [
       "<IPython.core.display.HTML object>"
      ]
     },
     "metadata": {},
     "output_type": "display_data"
    },
    {
     "data": {
      "text/html": [
       " View run at <a href='https://wandb.ai/chosuyeon-korea-university-of-technology-and-education/cnn_fashion_mnist/runs/mroeo94l' target=\"_blank\">https://wandb.ai/chosuyeon-korea-university-of-technology-and-education/cnn_fashion_mnist/runs/mroeo94l</a>"
      ],
      "text/plain": [
       "<IPython.core.display.HTML object>"
      ]
     },
     "metadata": {},
     "output_type": "display_data"
    },
    {
     "name": "stdout",
     "output_type": "stream",
     "text": [
      "Training on device cuda:0.\n",
      "[Epoch   1] T_loss: 2.27307, T_accuracy: 17.0400 | V_loss: 2.24955, V_accuracy: 18.1600 | Early stopping is stated! | T_time: 00:00:02, T_speed: 0.500\n",
      "[Epoch  10] T_loss: 1.78639, T_accuracy: 50.6327 | V_loss: 1.73340, V_accuracy: 51.8800 | V_loss decreased (2.24955 --> 1.73340). Saving model... | T_time: 00:00:15, T_speed: 0.667\n",
      "[Epoch  20] T_loss: 1.07043, T_accuracy: 63.5255 | V_loss: 1.04020, V_accuracy: 65.0000 | V_loss decreased (1.73340 --> 1.04020). Saving model... | T_time: 00:00:29, T_speed: 0.690\n",
      "[Epoch  30] T_loss: 0.89419, T_accuracy: 67.8691 | V_loss: 0.87429, V_accuracy: 68.1800 | V_loss decreased (1.04020 --> 0.87429). Saving model... | T_time: 00:00:44, T_speed: 0.682\n",
      "[Epoch  40] T_loss: 0.82273, T_accuracy: 70.4927 | V_loss: 0.80785, V_accuracy: 70.6200 | V_loss decreased (0.87429 --> 0.80785). Saving model... | T_time: 00:00:59, T_speed: 0.678\n",
      "[Epoch  50] T_loss: 0.77712, T_accuracy: 71.8364 | V_loss: 0.76885, V_accuracy: 72.0400 | V_loss decreased (0.80785 --> 0.76885). Saving model... | T_time: 00:01:14, T_speed: 0.676\n",
      "[Epoch  60] T_loss: 0.74029, T_accuracy: 73.0600 | V_loss: 0.73575, V_accuracy: 73.0400 | V_loss decreased (0.76885 --> 0.73575). Saving model... | T_time: 00:01:29, T_speed: 0.674\n",
      "[Epoch  70] T_loss: 0.71129, T_accuracy: 73.9982 | V_loss: 0.73162, V_accuracy: 71.6200 | V_loss decreased (0.73575 --> 0.73162). Saving model... | T_time: 00:01:43, T_speed: 0.680\n",
      "[Epoch  80] T_loss: 0.68726, T_accuracy: 74.9055 | V_loss: 0.68157, V_accuracy: 75.2600 | V_loss decreased (0.73162 --> 0.68157). Saving model... | T_time: 00:01:58, T_speed: 0.678\n",
      "[Epoch  90] T_loss: 0.66856, T_accuracy: 75.5818 | V_loss: 0.67411, V_accuracy: 75.6600 | V_loss decreased (0.68157 --> 0.67411). Saving model... | T_time: 00:02:13, T_speed: 0.677\n",
      "[Epoch 100] T_loss: 0.65029, T_accuracy: 76.2745 | V_loss: 0.66223, V_accuracy: 75.7400 | V_loss decreased (0.67411 --> 0.66223). Saving model... | T_time: 00:02:27, T_speed: 0.680\n",
      "[Epoch 110] T_loss: 0.63617, T_accuracy: 76.7382 | V_loss: 0.63369, V_accuracy: 76.9800 | V_loss decreased (0.66223 --> 0.63369). Saving model... | T_time: 00:02:42, T_speed: 0.679\n",
      "[Epoch 120] T_loss: 0.62745, T_accuracy: 76.9982 | V_loss: 0.63962, V_accuracy: 76.9200 | Early stopping counter: 1 out of 5 | T_time: 00:02:57, T_speed: 0.678\n",
      "[Epoch 130] T_loss: 0.61075, T_accuracy: 77.5673 | V_loss: 0.61488, V_accuracy: 77.5800 | V_loss decreased (0.63369 --> 0.61488). Saving model... | T_time: 00:03:11, T_speed: 0.681\n",
      "[Epoch 140] T_loss: 0.60350, T_accuracy: 77.8600 | V_loss: 0.62325, V_accuracy: 76.9600 | Early stopping counter: 1 out of 5 | T_time: 00:03:26, T_speed: 0.680\n",
      "[Epoch 150] T_loss: 0.58557, T_accuracy: 78.6436 | V_loss: 0.59476, V_accuracy: 78.3600 | V_loss decreased (0.61488 --> 0.59476). Saving model... | T_time: 00:03:43, T_speed: 0.673\n",
      "[Epoch 160] T_loss: 0.57787, T_accuracy: 78.9618 | V_loss: 0.60733, V_accuracy: 77.8000 | Early stopping counter: 1 out of 5 | T_time: 00:04:00, T_speed: 0.667\n",
      "[Epoch 170] T_loss: 0.57533, T_accuracy: 78.7491 | V_loss: 0.58326, V_accuracy: 78.8000 | V_loss decreased (0.59476 --> 0.58326). Saving model... | T_time: 00:04:14, T_speed: 0.669\n",
      "[Epoch 180] T_loss: 0.55906, T_accuracy: 79.6109 | V_loss: 0.57196, V_accuracy: 78.9800 | V_loss decreased (0.58326 --> 0.57196). Saving model... | T_time: 00:04:29, T_speed: 0.669\n",
      "[Epoch 190] T_loss: 0.55512, T_accuracy: 79.7727 | V_loss: 0.55910, V_accuracy: 79.7800 | V_loss decreased (0.57196 --> 0.55910). Saving model... | T_time: 00:04:44, T_speed: 0.669\n",
      "[Epoch 200] T_loss: 0.54783, T_accuracy: 80.0818 | V_loss: 0.56758, V_accuracy: 79.2600 | Early stopping counter: 1 out of 5 | T_time: 00:04:59, T_speed: 0.669\n",
      "[Epoch 210] T_loss: 0.54183, T_accuracy: 80.3036 | V_loss: 0.55643, V_accuracy: 79.9600 | V_loss decreased (0.55910 --> 0.55643). Saving model... | T_time: 00:05:13, T_speed: 0.671\n",
      "[Epoch 220] T_loss: 0.53923, T_accuracy: 80.1218 | V_loss: 0.55768, V_accuracy: 78.4800 | Early stopping counter: 1 out of 5 | T_time: 00:05:28, T_speed: 0.671\n",
      "[Epoch 230] T_loss: 0.53123, T_accuracy: 80.5709 | V_loss: 0.54550, V_accuracy: 80.2000 | V_loss decreased (0.55643 --> 0.54550). Saving model... | T_time: 00:05:43, T_speed: 0.671\n",
      "[Epoch 240] T_loss: 0.52389, T_accuracy: 80.8800 | V_loss: 0.53726, V_accuracy: 79.7600 | V_loss decreased (0.54550 --> 0.53726). Saving model... | T_time: 00:05:57, T_speed: 0.672\n",
      "[Epoch 250] T_loss: 0.52668, T_accuracy: 80.4491 | V_loss: 0.52535, V_accuracy: 80.9000 | V_loss decreased (0.53726 --> 0.52535). Saving model... | T_time: 00:06:12, T_speed: 0.672\n",
      "[Epoch 260] T_loss: 0.51463, T_accuracy: 81.4236 | V_loss: 0.52521, V_accuracy: 80.5600 | Early stopping counter: 1 out of 5 | T_time: 00:06:27, T_speed: 0.672\n",
      "[Epoch 270] T_loss: 0.51428, T_accuracy: 81.0745 | V_loss: 0.52235, V_accuracy: 80.4600 | V_loss decreased (0.52535 --> 0.52235). Saving model... | T_time: 00:06:42, T_speed: 0.672\n",
      "[Epoch 280] T_loss: 0.51719, T_accuracy: 80.6200 | V_loss: 0.50475, V_accuracy: 82.1600 | V_loss decreased (0.52235 --> 0.50475). Saving model... | T_time: 00:06:57, T_speed: 0.671\n",
      "[Epoch 290] T_loss: 0.50351, T_accuracy: 81.6927 | V_loss: 0.50198, V_accuracy: 81.8400 | V_loss decreased (0.50475 --> 0.50198). Saving model... | T_time: 00:07:12, T_speed: 0.671\n",
      "[Epoch 300] T_loss: 0.50285, T_accuracy: 81.6655 | V_loss: 0.53144, V_accuracy: 80.6000 | Early stopping counter: 1 out of 5 | T_time: 00:07:26, T_speed: 0.673\n",
      "[Epoch 310] T_loss: 0.49870, T_accuracy: 81.6691 | V_loss: 0.49620, V_accuracy: 82.0200 | V_loss decreased (0.50198 --> 0.49620). Saving model... | T_time: 00:07:41, T_speed: 0.672\n",
      "[Epoch 320] T_loss: 0.48630, T_accuracy: 82.7073 | V_loss: 0.49138, V_accuracy: 82.4800 | V_loss decreased (0.49620 --> 0.49138). Saving model... | T_time: 00:07:56, T_speed: 0.672\n",
      "[Epoch 330] T_loss: 0.48681, T_accuracy: 82.3273 | V_loss: 0.48532, V_accuracy: 82.6400 | V_loss decreased (0.49138 --> 0.48532). Saving model... | T_time: 00:08:11, T_speed: 0.672\n",
      "[Epoch 340] T_loss: 0.48419, T_accuracy: 82.3455 | V_loss: 0.48257, V_accuracy: 83.1800 | V_loss decreased (0.48532 --> 0.48257). Saving model... | T_time: 00:08:25, T_speed: 0.673\n",
      "[Epoch 350] T_loss: 0.47707, T_accuracy: 82.9327 | V_loss: 0.47603, V_accuracy: 83.3200 | V_loss decreased (0.48257 --> 0.47603). Saving model... | T_time: 00:08:40, T_speed: 0.673\n",
      "[Epoch 360] T_loss: 0.47103, T_accuracy: 83.1745 | V_loss: 0.47358, V_accuracy: 83.3800 | V_loss decreased (0.47603 --> 0.47358). Saving model... | T_time: 00:08:54, T_speed: 0.674\n",
      "[Epoch 370] T_loss: 0.48350, T_accuracy: 82.2836 | V_loss: 0.50174, V_accuracy: 81.4400 | Early stopping counter: 1 out of 5 | T_time: 00:09:09, T_speed: 0.674\n",
      "[Epoch 380] T_loss: 0.47091, T_accuracy: 83.1218 | V_loss: 0.48453, V_accuracy: 82.5000 | Early stopping counter: 2 out of 5 | T_time: 00:09:24, T_speed: 0.674\n",
      "[Epoch 390] T_loss: 0.47010, T_accuracy: 82.9727 | V_loss: 0.46438, V_accuracy: 83.5200 | V_loss decreased (0.47358 --> 0.46438). Saving model... | T_time: 00:09:39, T_speed: 0.674\n",
      "[Epoch 400] T_loss: 0.46425, T_accuracy: 83.2455 | V_loss: 0.48216, V_accuracy: 81.8000 | Early stopping counter: 1 out of 5 | T_time: 00:09:53, T_speed: 0.675\n",
      "[Epoch 410] T_loss: 0.46207, T_accuracy: 83.4145 | V_loss: 0.46808, V_accuracy: 83.1800 | Early stopping counter: 2 out of 5 | T_time: 00:10:08, T_speed: 0.674\n",
      "[Epoch 420] T_loss: 0.45574, T_accuracy: 83.8255 | V_loss: 0.45333, V_accuracy: 84.1200 | V_loss decreased (0.46438 --> 0.45333). Saving model... | T_time: 00:10:22, T_speed: 0.675\n",
      "[Epoch 430] T_loss: 0.44996, T_accuracy: 84.0727 | V_loss: 0.45849, V_accuracy: 84.0000 | Early stopping counter: 1 out of 5 | T_time: 00:10:37, T_speed: 0.675\n",
      "[Epoch 440] T_loss: 0.45078, T_accuracy: 83.8927 | V_loss: 0.46659, V_accuracy: 82.6800 | Early stopping counter: 2 out of 5 | T_time: 00:10:52, T_speed: 0.675\n",
      "[Epoch 450] T_loss: 0.44654, T_accuracy: 84.0709 | V_loss: 0.45137, V_accuracy: 84.2400 | V_loss decreased (0.45333 --> 0.45137). Saving model... | T_time: 00:11:06, T_speed: 0.676\n",
      "[Epoch 460] T_loss: 0.44830, T_accuracy: 83.9091 | V_loss: 0.46870, V_accuracy: 83.0400 | Early stopping counter: 1 out of 5 | T_time: 00:11:21, T_speed: 0.675\n",
      "[Epoch 470] T_loss: 0.44598, T_accuracy: 84.1218 | V_loss: 0.44187, V_accuracy: 84.6000 | V_loss decreased (0.45137 --> 0.44187). Saving model... | T_time: 00:11:36, T_speed: 0.675\n",
      "[Epoch 480] T_loss: 0.43626, T_accuracy: 84.6782 | V_loss: 0.43898, V_accuracy: 84.5000 | V_loss decreased (0.44187 --> 0.43898). Saving model... | T_time: 00:11:51, T_speed: 0.675\n",
      "[Epoch 490] T_loss: 0.43399, T_accuracy: 84.7255 | V_loss: 0.43645, V_accuracy: 84.7600 | V_loss decreased (0.43898 --> 0.43645). Saving model... | T_time: 00:12:05, T_speed: 0.676\n",
      "[Epoch 500] T_loss: 0.42962, T_accuracy: 84.9127 | V_loss: 0.43580, V_accuracy: 84.7000 | Early stopping counter: 1 out of 5 | T_time: 00:12:20, T_speed: 0.676\n",
      "[Epoch 510] T_loss: 0.44272, T_accuracy: 83.8727 | V_loss: 0.43709, V_accuracy: 84.6000 | Early stopping counter: 2 out of 5 | T_time: 00:12:36, T_speed: 0.675\n",
      "[Epoch 520] T_loss: 0.42530, T_accuracy: 85.1673 | V_loss: 0.43013, V_accuracy: 85.0400 | V_loss decreased (0.43645 --> 0.43013). Saving model... | T_time: 00:12:52, T_speed: 0.674\n",
      "[Epoch 530] T_loss: 0.42429, T_accuracy: 85.0618 | V_loss: 0.43924, V_accuracy: 84.6200 | Early stopping counter: 1 out of 5 | T_time: 00:13:09, T_speed: 0.672\n",
      "[Epoch 540] T_loss: 0.43225, T_accuracy: 84.5236 | V_loss: 0.43315, V_accuracy: 84.6200 | Early stopping counter: 2 out of 5 | T_time: 00:13:24, T_speed: 0.672\n",
      "[Epoch 550] T_loss: 0.41875, T_accuracy: 85.3145 | V_loss: 0.42988, V_accuracy: 85.1000 | Early stopping counter: 3 out of 5 | T_time: 00:13:39, T_speed: 0.672\n",
      "[Epoch 560] T_loss: 0.41993, T_accuracy: 85.1691 | V_loss: 0.42766, V_accuracy: 85.3000 | V_loss decreased (0.43013 --> 0.42766). Saving model... | T_time: 00:13:54, T_speed: 0.671\n",
      "[Epoch 570] T_loss: 0.42122, T_accuracy: 84.9436 | V_loss: 0.44309, V_accuracy: 84.1400 | Early stopping counter: 1 out of 5 | T_time: 00:14:08, T_speed: 0.672\n",
      "[Epoch 580] T_loss: 0.42071, T_accuracy: 85.0345 | V_loss: 0.43727, V_accuracy: 84.5600 | Early stopping counter: 2 out of 5 | T_time: 00:14:23, T_speed: 0.672\n",
      "[Epoch 590] T_loss: 0.41386, T_accuracy: 85.3964 | V_loss: 0.42101, V_accuracy: 85.2000 | V_loss decreased (0.42766 --> 0.42101). Saving model... | T_time: 00:14:38, T_speed: 0.672\n",
      "[Epoch 600] T_loss: 0.42366, T_accuracy: 84.8400 | V_loss: 0.42820, V_accuracy: 85.1400 | Early stopping counter: 1 out of 5 | T_time: 00:14:53, T_speed: 0.672\n",
      "[Epoch 610] T_loss: 0.41908, T_accuracy: 84.9345 | V_loss: 0.41762, V_accuracy: 85.4200 | V_loss decreased (0.42101 --> 0.41762). Saving model... | T_time: 00:15:07, T_speed: 0.673\n",
      "[Epoch 620] T_loss: 0.41093, T_accuracy: 85.4600 | V_loss: 0.41271, V_accuracy: 85.6000 | V_loss decreased (0.41762 --> 0.41271). Saving model... | T_time: 00:15:22, T_speed: 0.672\n",
      "[Epoch 630] T_loss: 0.40966, T_accuracy: 85.3782 | V_loss: 0.41200, V_accuracy: 85.5000 | Early stopping counter: 1 out of 5 | T_time: 00:15:37, T_speed: 0.672\n",
      "[Epoch 640] T_loss: 0.40818, T_accuracy: 85.5236 | V_loss: 0.41110, V_accuracy: 85.8800 | V_loss decreased (0.41271 --> 0.41110). Saving model... | T_time: 00:15:52, T_speed: 0.672\n",
      "[Epoch 650] T_loss: 0.40196, T_accuracy: 85.8018 | V_loss: 0.41137, V_accuracy: 85.5600 | Early stopping counter: 1 out of 5 | T_time: 00:16:06, T_speed: 0.673\n",
      "[Epoch 660] T_loss: 0.40440, T_accuracy: 85.6236 | V_loss: 0.41200, V_accuracy: 85.6800 | Early stopping counter: 2 out of 5 | T_time: 00:16:21, T_speed: 0.673\n",
      "[Epoch 670] T_loss: 0.39853, T_accuracy: 85.9582 | V_loss: 0.41124, V_accuracy: 85.7600 | Early stopping counter: 3 out of 5 | T_time: 00:16:36, T_speed: 0.673\n",
      "[Epoch 680] T_loss: 0.40245, T_accuracy: 85.7073 | V_loss: 0.42020, V_accuracy: 84.9800 | Early stopping counter: 4 out of 5 | T_time: 00:16:50, T_speed: 0.673\n",
      "[Epoch 690] T_loss: 0.40096, T_accuracy: 85.8236 | V_loss: 0.40151, V_accuracy: 86.2000 | V_loss decreased (0.41110 --> 0.40151). Saving model... | T_time: 00:17:05, T_speed: 0.673\n",
      "[Epoch 700] T_loss: 0.39768, T_accuracy: 85.8400 | V_loss: 0.40211, V_accuracy: 85.9200 | Early stopping counter: 1 out of 5 | T_time: 00:17:20, T_speed: 0.673\n",
      "[Epoch 710] T_loss: 0.39690, T_accuracy: 85.8564 | V_loss: 0.40018, V_accuracy: 86.0400 | V_loss decreased (0.40151 --> 0.40018). Saving model... | T_time: 00:17:34, T_speed: 0.674\n",
      "[Epoch 720] T_loss: 0.39334, T_accuracy: 86.0473 | V_loss: 0.39790, V_accuracy: 85.9600 | V_loss decreased (0.40018 --> 0.39790). Saving model... | T_time: 00:17:49, T_speed: 0.674\n",
      "[Epoch 730] T_loss: 0.39081, T_accuracy: 86.1982 | V_loss: 0.40121, V_accuracy: 85.7600 | Early stopping counter: 1 out of 5 | T_time: 00:18:04, T_speed: 0.673\n",
      "[Epoch 740] T_loss: 0.39119, T_accuracy: 86.0818 | V_loss: 0.40923, V_accuracy: 85.7000 | Early stopping counter: 2 out of 5 | T_time: 00:18:18, T_speed: 0.674\n",
      "[Epoch 750] T_loss: 0.39073, T_accuracy: 86.1673 | V_loss: 0.43283, V_accuracy: 84.3600 | Early stopping counter: 3 out of 5 | T_time: 00:18:33, T_speed: 0.674\n",
      "[Epoch 760] T_loss: 0.39383, T_accuracy: 86.1018 | V_loss: 0.43104, V_accuracy: 84.5000 | Early stopping counter: 4 out of 5 | T_time: 00:18:48, T_speed: 0.674\n",
      "[Epoch 770] T_loss: 0.38666, T_accuracy: 86.2436 | V_loss: 0.39518, V_accuracy: 86.1200 | V_loss decreased (0.39790 --> 0.39518). Saving model... | T_time: 00:19:02, T_speed: 0.674\n",
      "[Epoch 780] T_loss: 0.38270, T_accuracy: 86.5509 | V_loss: 0.40008, V_accuracy: 86.1400 | Early stopping counter: 1 out of 5 | T_time: 00:19:17, T_speed: 0.674\n",
      "[Epoch 790] T_loss: 0.38892, T_accuracy: 86.0545 | V_loss: 0.39617, V_accuracy: 85.7200 | Early stopping counter: 2 out of 5 | T_time: 00:19:32, T_speed: 0.674\n",
      "[Epoch 800] T_loss: 0.38409, T_accuracy: 86.3655 | V_loss: 0.39530, V_accuracy: 86.0800 | Early stopping counter: 3 out of 5 | T_time: 00:19:46, T_speed: 0.675\n",
      "[Epoch 810] T_loss: 0.38441, T_accuracy: 86.3236 | V_loss: 0.39284, V_accuracy: 86.3800 | V_loss decreased (0.39518 --> 0.39284). Saving model... | T_time: 00:20:01, T_speed: 0.674\n",
      "[Epoch 820] T_loss: 0.38570, T_accuracy: 86.1527 | V_loss: 0.38658, V_accuracy: 86.5200 | V_loss decreased (0.39284 --> 0.38658). Saving model... | T_time: 00:20:16, T_speed: 0.674\n",
      "[Epoch 830] T_loss: 0.37486, T_accuracy: 86.7273 | V_loss: 0.38894, V_accuracy: 86.6200 | Early stopping counter: 1 out of 5 | T_time: 00:20:31, T_speed: 0.674\n",
      "[Epoch 840] T_loss: 0.37426, T_accuracy: 86.8218 | V_loss: 0.38524, V_accuracy: 86.7200 | V_loss decreased (0.38658 --> 0.38524). Saving model... | T_time: 00:20:46, T_speed: 0.674\n",
      "[Epoch 850] T_loss: 0.37649, T_accuracy: 86.6273 | V_loss: 0.40155, V_accuracy: 86.0000 | Early stopping counter: 1 out of 5 | T_time: 00:21:00, T_speed: 0.675\n",
      "[Epoch 860] T_loss: 0.37830, T_accuracy: 86.6545 | V_loss: 0.38296, V_accuracy: 86.7200 | V_loss decreased (0.38524 --> 0.38296). Saving model... | T_time: 00:21:15, T_speed: 0.675\n",
      "[Epoch 870] T_loss: 0.37361, T_accuracy: 86.7364 | V_loss: 0.41455, V_accuracy: 85.1400 | Early stopping counter: 1 out of 5 | T_time: 00:21:30, T_speed: 0.674\n",
      "[Epoch 880] T_loss: 0.37042, T_accuracy: 86.8891 | V_loss: 0.38164, V_accuracy: 86.7800 | V_loss decreased (0.38296 --> 0.38164). Saving model... | T_time: 00:21:45, T_speed: 0.674\n",
      "[Epoch 890] T_loss: 0.36885, T_accuracy: 86.9473 | V_loss: 0.38705, V_accuracy: 86.6400 | Early stopping counter: 1 out of 5 | T_time: 00:22:01, T_speed: 0.674\n",
      "[Epoch 900] T_loss: 0.36675, T_accuracy: 87.0109 | V_loss: 0.38308, V_accuracy: 86.7200 | Early stopping counter: 2 out of 5 | T_time: 00:22:18, T_speed: 0.673\n",
      "[Epoch 910] T_loss: 0.36681, T_accuracy: 87.0291 | V_loss: 0.39465, V_accuracy: 86.2400 | Early stopping counter: 3 out of 5 | T_time: 00:22:32, T_speed: 0.673\n",
      "[Epoch 920] T_loss: 0.36996, T_accuracy: 86.9473 | V_loss: 0.37843, V_accuracy: 86.5600 | V_loss decreased (0.38164 --> 0.37843). Saving model... | T_time: 00:22:47, T_speed: 0.673\n",
      "[Epoch 930] T_loss: 0.36732, T_accuracy: 86.9782 | V_loss: 0.37790, V_accuracy: 86.8000 | Early stopping counter: 1 out of 5 | T_time: 00:23:02, T_speed: 0.673\n",
      "[Epoch 940] T_loss: 0.36983, T_accuracy: 86.7945 | V_loss: 0.38126, V_accuracy: 86.8600 | Early stopping counter: 2 out of 5 | T_time: 00:23:16, T_speed: 0.673\n",
      "[Epoch 950] T_loss: 0.37350, T_accuracy: 86.7182 | V_loss: 0.42130, V_accuracy: 85.1800 | Early stopping counter: 3 out of 5 | T_time: 00:23:31, T_speed: 0.673\n",
      "[Epoch 960] T_loss: 0.36532, T_accuracy: 87.0527 | V_loss: 0.37685, V_accuracy: 87.0600 | V_loss decreased (0.37843 --> 0.37685). Saving model... | T_time: 00:23:45, T_speed: 0.674\n",
      "[Epoch 970] T_loss: 0.36181, T_accuracy: 87.2564 | V_loss: 0.38318, V_accuracy: 86.6400 | Early stopping counter: 1 out of 5 | T_time: 00:24:00, T_speed: 0.674\n",
      "[Epoch 980] T_loss: 0.35922, T_accuracy: 87.2418 | V_loss: 0.37784, V_accuracy: 86.6000 | Early stopping counter: 2 out of 5 | T_time: 00:24:15, T_speed: 0.674\n",
      "[Epoch 990] T_loss: 0.35825, T_accuracy: 87.3327 | V_loss: 0.37274, V_accuracy: 86.9200 | V_loss decreased (0.37685 --> 0.37274). Saving model... | T_time: 00:24:29, T_speed: 0.674\n",
      "[Epoch 1000] T_loss: 0.36487, T_accuracy: 86.9509 | V_loss: 0.37329, V_accuracy: 86.7600 | Early stopping counter: 1 out of 5 | T_time: 00:24:44, T_speed: 0.674\n",
      "Final training time: 00:24:44\n"
     ]
    },
    {
     "data": {
      "text/html": [
       "W&B sync reduced upload amount by 3.2%"
      ],
      "text/plain": [
       "<IPython.core.display.HTML object>"
      ]
     },
     "metadata": {},
     "output_type": "display_data"
    },
    {
     "data": {
      "text/html": [
       "<style>\n",
       "    table.wandb td:nth-child(1) { padding: 0 10px; text-align: left ; width: auto;} td:nth-child(2) {text-align: left ; width: 100%}\n",
       "    .wandb-row { display: flex; flex-direction: row; flex-wrap: wrap; justify-content: flex-start; width: 100% }\n",
       "    .wandb-col { display: flex; flex-direction: column; flex-basis: 100%; flex: 1; padding: 10px; }\n",
       "    </style>\n",
       "<div class=\"wandb-row\"><div class=\"wandb-col\"><h3>Run history:</h3><br/><table class=\"wandb\"><tr><td>Epoch</td><td>▁▁▁▁▂▂▂▂▂▃▃▃▃▃▃▄▄▄▄▄▅▅▅▅▅▅▆▆▆▆▆▇▇▇▇▇▇███</td></tr><tr><td>Training accuracy (%)</td><td>▁▆▆▇▇▇▇▇▇▇▇▇▇███████████████████████████</td></tr><tr><td>Training loss</td><td>█▄▃▂▂▂▂▂▂▂▂▂▂▁▁▁▁▁▁▁▁▁▁▁▁▁▁▁▁▁▁▁▁▁▁▁▁▁▁▁</td></tr><tr><td>Training speed (epochs/sec.)</td><td>▁█▇███▇▇▇▇▇▇▇▇▇▇▇▇▇▇▇▇▇▇▇▇▇▇▇▇▇▇▇▇▇▇▇▇▇▇</td></tr><tr><td>Validation accuracy (%)</td><td>▁▆▆▆▇▇▇▇▇▇▇█▇███████████████████████████</td></tr><tr><td>Validation loss</td><td>█▃▂▂▂▂▂▂▂▂▂▁▂▁▁▁▁▁▁▁▁▁▁▁▁▁▁▁▁▁▁▁▁▁▁▁▁▁▁▁</td></tr></table><br/></div><div class=\"wandb-col\"><h3>Run summary:</h3><br/><table class=\"wandb\"><tr><td>Epoch</td><td>1000</td></tr><tr><td>Training accuracy (%)</td><td>86.95091</td></tr><tr><td>Training loss</td><td>0.36487</td></tr><tr><td>Training speed (epochs/sec.)</td><td>0.67385</td></tr><tr><td>Validation accuracy (%)</td><td>86.76</td></tr><tr><td>Validation loss</td><td>0.37329</td></tr></table><br/></div></div>"
      ],
      "text/plain": [
       "<IPython.core.display.HTML object>"
      ]
     },
     "metadata": {},
     "output_type": "display_data"
    },
    {
     "data": {
      "text/html": [
       " View run <strong style=\"color:#cdcd00\">2024-11-23_22-25-21</strong> at: <a href='https://wandb.ai/chosuyeon-korea-university-of-technology-and-education/cnn_fashion_mnist/runs/mroeo94l' target=\"_blank\">https://wandb.ai/chosuyeon-korea-university-of-technology-and-education/cnn_fashion_mnist/runs/mroeo94l</a><br/> View project at: <a href='https://wandb.ai/chosuyeon-korea-university-of-technology-and-education/cnn_fashion_mnist' target=\"_blank\">https://wandb.ai/chosuyeon-korea-university-of-technology-and-education/cnn_fashion_mnist</a><br/>Synced 6 W&B file(s), 0 media file(s), 2 artifact file(s) and 0 other file(s)"
      ],
      "text/plain": [
       "<IPython.core.display.HTML object>"
      ]
     },
     "metadata": {},
     "output_type": "display_data"
    },
    {
     "data": {
      "text/html": [
       "Find logs at: <code>./wandb/run-20241123_222524-mroeo94l/logs</code>"
      ],
      "text/plain": [
       "<IPython.core.display.HTML object>"
      ]
     },
     "metadata": {},
     "output_type": "display_data"
    }
   ],
   "source": [
    "if __name__ == \"__main__\":\n",
    "    # # Jupyter Notebook 환경에서 추가된 인자를 제거\n",
    "    # sys.argv = [arg for arg in sys.argv if not arg.startswith(\"--f=\")]\n",
    "\n",
    "    # # argparse 설정\n",
    "    # parser = argparse.ArgumentParser()\n",
    "\n",
    "    # parser.add_argument(\n",
    "    #     \"--wandb\", action=argparse.BooleanOptionalAction, default=True, help=\"True or False\"\n",
    "    # )\n",
    "    # parser.add_argument(\n",
    "    #     \"-b\", \"--batch_size\", type=int, default=2048, help=\"Batch size (int, default: 2048)\"\n",
    "    # )\n",
    "    # parser.add_argument(\n",
    "    #     \"-r\", \"--learning_rate\", type=float, default=1e-3, help=\"Number of training epochs (float, default:1e-3)\"\n",
    "    # )\n",
    "    # parser.add_argument(\n",
    "    #     \"-v\", \"--validation_interval\", type=int, default=10, help=\"Validation interval (int, default: 10)\"\n",
    "    # )\n",
    "\n",
    "    # # 명령줄 인자를 파싱\n",
    "    # args = parser.parse_args()\n",
    "\n",
    "    # # main 함수 실행\n",
    "    main(args)"
   ]
  },
  {
   "cell_type": "markdown",
   "metadata": {},
   "source": [
    "#### [문제 3] 학습 완료된 모델로 테스트 데이터 Accuracy 확인하기"
   ]
  },
  {
   "cell_type": "code",
   "execution_count": 61,
   "metadata": {},
   "outputs": [],
   "source": [
    "import numpy as np\n",
    "from matplotlib import pyplot as plt\n",
    "from _01_code._08_fcn_best_practice.d_tester import ClassificationTester"
   ]
  },
  {
   "cell_type": "code",
   "execution_count": 64,
   "metadata": {},
   "outputs": [
    {
     "name": "stdout",
     "output_type": "stream",
     "text": [
      "Num Test Samples:  10000\n",
      "Sample Shape:  torch.Size([1, 28, 28])\n",
      "MODEL FILE: /data/2_data_server/nlp-05/KOREATECH/2024-2_DL/link_dl/_03_your_code/CSE533/hw3/checkpoints/mnist_checkpoint_latest.pt\n",
      "TEST RESULTS: 77.890%\n",
      "\n",
      "     LABEL: 9\n"
     ]
    },
    {
     "data": {
      "image/png": "[encoded data removed]",
      "text/plain": [
       "<Figure size 640x480 with 1 Axes>"
      ]
     },
     "metadata": {},
     "output_type": "display_data"
    },
    {
     "name": "stdout",
     "output_type": "stream",
     "text": [
      "PREDICTION: 5\n"
     ]
    }
   ],
   "source": [
    "def main():\n",
    "    # 테스트 데이터 로더와 변환 파이프라인 로드\n",
    "    # flatten=False로 CNN에 적합한 2D 이미지 형태 유지\n",
    "    mnist_test_images, test_data_loader, mnist_transforms = get_fashion_mnist_test_data()\n",
    "\n",
    "    # CNN 모델 생성\n",
    "    test_model = get_cnn_model()\n",
    "\n",
    "    # ClassificationTester 객체 생성\n",
    "    # - 데이터셋 이름: \"mnist\"\n",
    "    # - 모델: test_model\n",
    "    # - 테스트 데이터 로더: test_data_loader\n",
    "    # - 데이터 변환: mnist_transforms\n",
    "    # - 체크포인트 파일 경로: CHECKPOINT_FILE_PATH\n",
    "    classification_tester = ClassificationTester(\n",
    "        \"mnist\", test_model, test_data_loader, mnist_transforms, CHECKPOINT_FILE_PATH\n",
    "    )\n",
    "\n",
    "    # 테스트 데이터셋 평가 수행\n",
    "    classification_tester.test()\n",
    "\n",
    "    print()  # 빈 줄 출력 (가독성 향상)\n",
    "\n",
    "    # 첫 번째 테스트 데이터 샘플 가져오기\n",
    "    img, label = mnist_test_images[0]  # img: 이미지 데이터, label: 실제 라벨 값\n",
    "    print(\"     LABEL:\", label)  # 실제 라벨 출력\n",
    "\n",
    "    # 이미지 시각화\n",
    "    plt.imshow(img)  # 이미지를 플롯에 표시\n",
    "    plt.show()  # 플롯을 화면에 출력\n",
    "\n",
    "    # 테스트 데이터셋에서 첫 번째 샘플의 모델 예측 수행\n",
    "    # 1. img 데이터를 numpy 배열로 변환: np.array(mnist_test_images[0][0])\n",
    "    # 2. torch 텐서로 변환: torch.tensor(...)\n",
    "    # 3. CNN 입력 크기에 맞게 차원 추가: unsqueeze(dim=0)를 두 번 호출하여 (1, 1, 28, 28)로 만듦\n",
    "    #    - 첫 번째 unsqueeze: 배치 차원 추가\n",
    "    #    - 두 번째 unsqueeze: 채널 차원 추가\n",
    "    #    결과 크기: torch.Size([1, 1, 28, 28])\n",
    "    output = classification_tester.test_single(\n",
    "        torch.tensor(np.array(mnist_test_images[0][0])).unsqueeze(dim=0).unsqueeze(dim=0)\n",
    "    )\n",
    "\n",
    "    # 모델의 예측 결과 출력\n",
    "    print(\"PREDICTION:\", output)\n",
    "\n",
    "\n",
    "if __name__ == \"__main__\":\n",
    "    # 스크립트가 직접 실행될 경우 main 함수 호출\n",
    "    main()"
   ]
  },
  {
   "cell_type": "markdown",
   "metadata": {},
   "source": [
    "#### [문제 4] 샘플 테스트 데이터 분류 예측 결과 확인하기"
   ]
  },
  {
   "cell_type": "code",
   "execution_count": 66,
   "metadata": {},
   "outputs": [
    {
     "name": "stdout",
     "output_type": "stream",
     "text": [
      "Num Test Samples:  10000\n",
      "Sample Shape:  torch.Size([1, 28, 28])\n",
      "MODEL FILE: /data/2_data_server/nlp-05/KOREATECH/2024-2_DL/link_dl/_03_your_code/CSE533/hw3/checkpoints/mnist_checkpoint_latest.pt\n",
      "TEST RESULTS: 77.890%\n",
      "\n",
      "Random 10 Sample Predictions\n",
      "\n"
     ]
    },
    {
     "data": {
      "image/png": "[encoded data removed]",
      "text/plain": [
       "<Figure size 640x480 with 1 Axes>"
      ]
     },
     "metadata": {},
     "output_type": "display_data"
    },
    {
     "name": "stdout",
     "output_type": "stream",
     "text": [
      "Sample Index: 2115\n",
      "True Label: 1\n",
      "Predicted Label: 1\n",
      "Result: Correct Prediction\n",
      "\n"
     ]
    },
    {
     "data": {
      "image/png": "[encoded data removed]",
      "text/plain": [
       "<Figure size 640x480 with 1 Axes>"
      ]
     },
     "metadata": {},
     "output_type": "display_data"
    },
    {
     "name": "stdout",
     "output_type": "stream",
     "text": [
      "Sample Index: 413\n",
      "True Label: 2\n",
      "Predicted Label: 2\n",
      "Result: Correct Prediction\n",
      "\n"
     ]
    },
    {
     "data": {
      "image/png": "[encoded data removed]",
      "text/plain": [
       "<Figure size 640x480 with 1 Axes>"
      ]
     },
     "metadata": {},
     "output_type": "display_data"
    },
    {
     "name": "stdout",
     "output_type": "stream",
     "text": [
      "Sample Index: 1697\n",
      "True Label: 1\n",
      "Predicted Label: 1\n",
      "Result: Correct Prediction\n",
      "\n"
     ]
    },
    {
     "data": {
      "image/png": "[encoded data removed]",
      "text/plain": [
       "<Figure size 640x480 with 1 Axes>"
      ]
     },
     "metadata": {},
     "output_type": "display_data"
    },
    {
     "name": "stdout",
     "output_type": "stream",
     "text": [
      "Sample Index: 4958\n",
      "True Label: 0\n",
      "Predicted Label: 0\n",
      "Result: Correct Prediction\n",
      "\n"
     ]
    },
    {
     "data": {
      "image/png": "[encoded data removed]",
      "text/plain": [
       "<Figure size 640x480 with 1 Axes>"
      ]
     },
     "metadata": {},
     "output_type": "display_data"
    },
    {
     "name": "stdout",
     "output_type": "stream",
     "text": [
      "Sample Index: 2006\n",
      "True Label: 6\n",
      "Predicted Label: 0\n",
      "Result: Incorrect Prediction\n",
      "\n"
     ]
    },
    {
     "data": {
      "image/png": "[encoded data removed]",
      "text/plain": [
       "<Figure size 640x480 with 1 Axes>"
      ]
     },
     "metadata": {},
     "output_type": "display_data"
    },
    {
     "name": "stdout",
     "output_type": "stream",
     "text": [
      "Sample Index: 9285\n",
      "True Label: 5\n",
      "Predicted Label: 5\n",
      "Result: Correct Prediction\n",
      "\n"
     ]
    },
    {
     "data": {
      "image/png": "[encoded data removed]",
      "text/plain": [
       "<Figure size 640x480 with 1 Axes>"
      ]
     },
     "metadata": {},
     "output_type": "display_data"
    },
    {
     "name": "stdout",
     "output_type": "stream",
     "text": [
      "Sample Index: 8970\n",
      "True Label: 8\n",
      "Predicted Label: 8\n",
      "Result: Correct Prediction\n",
      "\n"
     ]
    },
    {
     "data": {
      "image/png": "[encoded data removed]",
      "text/plain": [
       "<Figure size 640x480 with 1 Axes>"
      ]
     },
     "metadata": {},
     "output_type": "display_data"
    },
    {
     "name": "stdout",
     "output_type": "stream",
     "text": [
      "Sample Index: 3391\n",
      "True Label: 5\n",
      "Predicted Label: 5\n",
      "Result: Correct Prediction\n",
      "\n"
     ]
    },
    {
     "data": {
      "image/png": "[encoded data removed]",
      "text/plain": [
       "<Figure size 640x480 with 1 Axes>"
      ]
     },
     "metadata": {},
     "output_type": "display_data"
    },
    {
     "name": "stdout",
     "output_type": "stream",
     "text": [
      "Sample Index: 6193\n",
      "True Label: 7\n",
      "Predicted Label: 7\n",
      "Result: Correct Prediction\n",
      "\n"
     ]
    },
    {
     "data": {
      "image/png": "[encoded data removed]",
      "text/plain": [
       "<Figure size 640x480 with 1 Axes>"
      ]
     },
     "metadata": {},
     "output_type": "display_data"
    },
    {
     "name": "stdout",
     "output_type": "stream",
     "text": [
      "Sample Index: 9101\n",
      "True Label: 3\n",
      "Predicted Label: 3\n",
      "Result: Correct Prediction\n",
      "\n"
     ]
    }
   ],
   "source": [
    "import random\n",
    "import torch\n",
    "import numpy as np\n",
    "import matplotlib.pyplot as plt\n",
    "\n",
    "def main():\n",
    "    # 테스트 데이터 로더와 변환 파이프라인 로드\n",
    "    # flatten=False로 CNN에 적합한 2D 이미지 형태 유지\n",
    "    mnist_test_images, test_data_loader, mnist_transforms = get_fashion_mnist_test_data()\n",
    "\n",
    "    # CNN 모델 생성\n",
    "    test_model = get_cnn_model()\n",
    "\n",
    "    # ClassificationTester 객체 생성\n",
    "    classification_tester = ClassificationTester(\n",
    "        \"mnist\", test_model, test_data_loader, mnist_transforms, CHECKPOINT_FILE_PATH\n",
    "    )\n",
    "\n",
    "    # 테스트 데이터셋 평가 수행\n",
    "    classification_tester.test()\n",
    "\n",
    "    print(\"\\nRandom 10 Sample Predictions\\n\")\n",
    "\n",
    "    # 10개의 랜덤 샘플 선택\n",
    "    random_indices = random.sample(range(len(mnist_test_images)), 10)\n",
    "\n",
    "    for idx in random_indices:\n",
    "        # 테스트 데이터셋에서 이미지와 레이블 가져오기\n",
    "        img, label = mnist_test_images[idx]\n",
    "\n",
    "        # 이미지 시각화\n",
    "        plt.imshow(img, cmap=\"gray\")\n",
    "        plt.title(f\"True Label: {label}\")\n",
    "        plt.axis(\"off\")\n",
    "        plt.show()\n",
    "\n",
    "        # 이미지 텐서로 변환 (모델 입력에 맞게 차원 추가)\n",
    "        input_tensor = torch.tensor(np.array(img)).unsqueeze(dim=0).unsqueeze(dim=0)\n",
    "\n",
    "        # 모델 예측 수행\n",
    "        output = classification_tester.test_single(input_tensor)\n",
    "\n",
    "        # 만약 output이 Tensor가 아니라면, 바로 예측 레이블로 사용\n",
    "        if isinstance(output, torch.Tensor):\n",
    "            predicted_label = torch.argmax(output, dim=1).item()  # Tensor일 경우\n",
    "        else:\n",
    "            predicted_label = output  # int 또는 다른 타입인 경우 그대로 사용\n",
    "\n",
    "        # 예측 결과 출력\n",
    "        print(f\"Sample Index: {idx}\")\n",
    "        print(f\"True Label: {label}\")\n",
    "        print(f\"Predicted Label: {predicted_label}\")\n",
    "\n",
    "        # 예측 결과와 실제 라벨 비교\n",
    "        if label == predicted_label:\n",
    "            print(\"Result: Correct Prediction\\n\")\n",
    "        else:\n",
    "            print(\"Result: Incorrect Prediction\\n\")\n",
    "\n",
    "\n",
    "if __name__ == \"__main__\":\n",
    "    # 스크립트가 직접 실행될 경우 main 함수 호출\n",
    "    main()"
   ]
  },
  {
   "cell_type": "markdown",
   "metadata": {},
   "source": [
    "예측 결과를 보면 True Label이 6(티셔츠)인데 0(티셔츠/탑)으로 잘못 분류한 결과가 존재함을 알 수 있음.\n",
    "\n",
    "그 이유에 대해 생각해보면 다음과 같음.\n",
    "- 클래스 간 시각적 유사성(티셔츠와 탑)으로 인해 모델이 혼동할 가능성이 큼\n",
    "- 학습 데이터 불균형이나 모델이 특정 클래스에 대해 충분히 학습하지 못했을 가능성이 있음\n",
    "- 하이퍼파라미터 설정(학습률, 에포크 수)이 적절하지 않을 수 있음\n",
    "- 데이터 정규화 과정에서 학습과 테스트 간 불일치가 발생했는지 점검이 필요함. 혼동 행렬과 클래스별 정확도를 분석해 추가적인 개선점을 찾는 것이 중요함"
   ]
  },
  {
   "cell_type": "markdown",
   "metadata": {},
   "source": [
    "# 숙제 후기"
   ]
  },
  {
   "cell_type": "markdown",
   "metadata": {},
   "source": [
    "CNN을 사용하여 Fashion MNIST 데이터셋을 학습하고 테스트하면서, 이미지 분류 모델의 구조와 동작을 깊이 이해할 수 있었습니다. 학습 후 테스트에서 모델이 특정 클래스 간 혼동을 일으키는 문제를 발견하며 데이터 분포와 모델의 학습 한계를 체감했습니다. 혼동 행렬 분석과 데이터 정규화의 중요성을 느꼈고, 하이퍼파라미터 조정의 필요성도 깨달았습니다. 실습을 통해 모델 성능을 개선하기 위한 구체적인 방향을 고민할 수 있었으며, CNN의 응용 가능성을 확인하는 좋은 경험이었습니다."
   ]
  }
 ],
 "metadata": {
  "kernelspec": {
   "display_name": "DL",
   "language": "python",
   "name": "python3"
  },
  "language_info": {
   "codemirror_mode": {
    "name": "ipython",
    "version": 3
   },
   "file_extension": ".py",
   "mimetype": "text/x-python",
   "name": "python",
   "nbconvert_exporter": "python",
   "pygments_lexer": "ipython3",
   "version": "3.10.14"
  }
 },
 "nbformat": 4,
 "nbformat_minor": 2
}

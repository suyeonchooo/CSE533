{
 "cells": [
  {
   "cell_type": "markdown",
   "metadata": {},
   "source": [
    "# Kaggle 등수"
   ]
  },
  {
   "cell_type": "markdown",
   "metadata": {},
   "source": [
    "![titanic_leaderboard](/data/2_data_server/nlp-05/KOREATECH/2024-2_DL/link_dl/_03_your_code/CSE533/hw2/titanic_leaderboard.png)"
   ]
  },
  {
   "cell_type": "markdown",
   "metadata": {},
   "source": [
    "# 숙제 후기"
   ]
  },
  {
   "cell_type": "markdown",
   "metadata": {},
   "source": [
    "- 지금까지 그냥 있던 코드를 돌려보고 고찰하는 정도의 실습이었는데, 이번에 처음으로 데이터를 불러오고 학습시킨 후 그 결과를 내는 실습을 해보았음.\n",
    "- 고찰하는 것도 충분히 공부가 되었는데, 직접 학습을 돌려보고 loss 확인을 하니 또 다른 공부가 되었음.\n",
    "- wandb를 처음 써보았는데, 처음엔 이게 무슨 기능인가 어떻게 써야 하는 건가 많이 헤맸는데 적응할 때까지 돌려보고 에러 고치고 하다보니 나름대로 wandb 적응자가 된 것 같음.\n",
    "    - 추후에 대회에 나가게 되면 유용하게 사용할 수 있을 것 같음.\n",
    "- activate function 마다 다른 성능을 내니 신기했음"
   ]
  }
 ],
 "metadata": {
  "language_info": {
   "name": "python"
  }
 },
 "nbformat": 4,
 "nbformat_minor": 2
}
